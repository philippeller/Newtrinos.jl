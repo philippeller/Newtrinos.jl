{
 "cells": [
  {
   "cell_type": "code",
   "execution_count": 1,
   "id": "f5d03251-2b7a-48c0-8aea-ef6d44dbaf2a",
   "metadata": {},
   "outputs": [],
   "source": [
    "import uproot"
   ]
  },
  {
   "cell_type": "code",
   "execution_count": 11,
   "id": "e2a38c53-1bca-4929-b70d-61344495f92f",
   "metadata": {},
   "outputs": [],
   "source": [
    "import numpy as np"
   ]
  },
  {
   "cell_type": "code",
   "execution_count": 35,
   "id": "c63d2e8c-0a0c-4ec7-8179-a1ea826f45af",
   "metadata": {},
   "outputs": [],
   "source": [
    "import h5py"
   ]
  },
  {
   "cell_type": "code",
   "execution_count": 3,
   "id": "8d438025-06ba-44b7-b5c3-ca7e51a82e29",
   "metadata": {},
   "outputs": [],
   "source": [
    "f = uproot.open(\"dataRelease.root\")"
   ]
  },
  {
   "cell_type": "code",
   "execution_count": 36,
   "id": "00aea1a1-004c-4798-8bee-a6b857eb1dd5",
   "metadata": {},
   "outputs": [],
   "source": [
    "h5f = h5py.File('dataRelease.h5', 'w')"
   ]
  },
  {
   "cell_type": "code",
   "execution_count": 37,
   "id": "5bf52d6e-e3d7-47ee-94a0-de6936b5bb96",
   "metadata": {},
   "outputs": [
    {
     "name": "stdout",
     "output_type": "stream",
     "text": [
      "Skipping : minosPlus90CL_0\n",
      "Skipping : minosPlus90CL_1\n",
      "Skipping : minosPlus99CL_0\n",
      "Skipping : minosPlus99CL_1\n"
     ]
    }
   ],
   "source": [
    "for key in f.keys():\n",
    "\n",
    "    key = key[:-2]\n",
    "    \n",
    "    x = f[key]\n",
    "    \n",
    "    if isinstance(x, uproot.dynamic.Model_TMatrixT_3c_double_3e__v4):\n",
    "        h5f.create_dataset(key, data=x.member(\"fElements\"))\n",
    "    elif isinstance(x, uproot.dynamic.Model_TH1D_v1):\n",
    "        h, b = x.to_numpy()\n",
    "        h5f.create_dataset(key + \"_hist\", data=h)\n",
    "        h5f.create_dataset(key + \"_bins\", data=b)\n",
    "    elif isinstance(x, uproot.dynamic.Model_TH2D_v3):\n",
    "        h, b1, b2 = x.to_numpy() \n",
    "        h5f.create_dataset(key + \"_hist\", data=h)\n",
    "        h5f.create_dataset(key + \"_bins1\", data=b1)\n",
    "        h5f.create_dataset(key + \"_bins2\", data=b2)\n",
    "    else:\n",
    "        print(\"Skipping :\", key)\n",
    "h5f.close()"
   ]
  },
  {
   "cell_type": "code",
   "execution_count": 34,
   "id": "4e0d69f3-dfbb-417a-a675-ad75acfbb915",
   "metadata": {},
   "outputs": [],
   "source": [
    "np.savez(\"dataRelease.npz\", **dict)"
   ]
  },
  {
   "cell_type": "code",
   "execution_count": 38,
   "id": "cf9d2f6e-32fd-4156-be48-800672634638",
   "metadata": {},
   "outputs": [],
   "source": [
    "h5f = h5py.File('dataRelease.h5', 'r')"
   ]
  },
  {
   "cell_type": "code",
   "execution_count": 42,
   "id": "776270c5-090c-4239-9b42-0a72ec3799dc",
   "metadata": {},
   "outputs": [
    {
     "data": {
      "text/plain": [
       "array([0.02430286, 0.02140389, 0.02032942, ..., 0.01117814, 0.0114629 ,\n",
       "       0.01260686], dtype='>f8')"
      ]
     },
     "execution_count": 42,
     "metadata": {},
     "output_type": "execute_result"
    }
   ],
   "source": [
    "h5f[\"TotalCCCovar\"][:]"
   ]
  },
  {
   "cell_type": "code",
   "execution_count": null,
   "id": "c0b717f4-be45-45e4-8b88-fc822181b2ad",
   "metadata": {},
   "outputs": [],
   "source": []
  }
 ],
 "metadata": {
  "kernelspec": {
   "display_name": "Python 3 (ipykernel)",
   "language": "python",
   "name": "python3"
  },
  "language_info": {
   "codemirror_mode": {
    "name": "ipython",
    "version": 3
   },
   "file_extension": ".py",
   "mimetype": "text/x-python",
   "name": "python",
   "nbconvert_exporter": "python",
   "pygments_lexer": "ipython3",
   "version": "3.10.13"
  }
 },
 "nbformat": 4,
 "nbformat_minor": 5
}
