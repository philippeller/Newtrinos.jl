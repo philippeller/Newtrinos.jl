{
 "cells": [
  {
   "cell_type": "code",
   "execution_count": 353,
   "id": "dc0c9539",
   "metadata": {},
   "outputs": [],
   "source": [
    "using LinearAlgebra\n",
    "using Distributions\n",
    "using FileIO\n",
    "import JLD2\n",
    "using DataFrames"
   ]
  },
  {
   "cell_type": "code",
   "execution_count": 354,
   "id": "b95a352c",
   "metadata": {},
   "outputs": [],
   "source": [
    "using Revise\n",
    "using Newtrinos\n",
    "using Newtrinos.osc"
   ]
  },
  {
   "cell_type": "code",
   "execution_count": 355,
   "id": "da62dabf",
   "metadata": {},
   "outputs": [],
   "source": [
    "osc_cfg = Newtrinos.osc.OscillationConfig(\n",
    "    flavour=Newtrinos.osc.NNM(),\n",
    "    propagation=Newtrinos.osc.Basic(),\n",
    "    states=Newtrinos.osc.All(),\n",
    "    interaction=Newtrinos.osc.SI()\n",
    "    )\n",
    "\n",
    "osc = Newtrinos.osc.configure(osc_cfg)\n",
    "\n",
    "physics = (; osc);"
   ]
  },
  {
   "cell_type": "code",
   "execution_count": 356,
   "id": "810d4cd1",
   "metadata": {},
   "outputs": [],
   "source": [
    "experiments = (\n",
    "\n",
    "   katrin= Newtrinos.katrin.configure(physics),\n",
    ");"
   ]
  },
  {
   "cell_type": "code",
   "execution_count": 357,
   "id": "3a653e91",
   "metadata": {},
   "outputs": [
    {
     "data": {
      "text/plain": [
       "(::Newtrinos.osc.var\"#NeutrinoMassNND#125\"{NNM}) (generic function with 1 method)"
      ]
     },
     "execution_count": 357,
     "metadata": {},
     "output_type": "execute_result"
    }
   ],
   "source": [
    "mass_nu=Newtrinos.osc.get_neutrinomass(osc_cfg.flavour)"
   ]
  },
  {
   "cell_type": "code",
   "execution_count": 358,
   "id": "077a8c5b",
   "metadata": {},
   "outputs": [
    {
     "data": {
      "text/plain": [
       "(N = 100.0, m₀ = 0.5, r = 1.0, Δm²₂₁ = 7.53e-5, Δm²₃₁ = 0.0024752999999999997, δCP = 1.0, θ₁₂ = 0.5872523687443223, θ₁₃ = 0.1454258194533693, θ₂₃ = 0.8556288707523761)"
      ]
     },
     "execution_count": 358,
     "metadata": {},
     "output_type": "execute_result"
    }
   ],
   "source": [
    "p = Newtrinos.get_params(experiments)"
   ]
  },
  {
   "cell_type": "code",
   "execution_count": 359,
   "id": "bfa93c05",
   "metadata": {},
   "outputs": [
    {
     "data": {
      "text/plain": [
       "0.3701187284175993"
      ]
     },
     "execution_count": 359,
     "metadata": {},
     "output_type": "execute_result"
    }
   ],
   "source": [
    "mass_nu_value= mass_nu(p)"
   ]
  },
  {
   "cell_type": "code",
   "execution_count": 360,
   "id": "1c46f460",
   "metadata": {},
   "outputs": [],
   "source": [
    "osc_cfg_SM = Newtrinos.osc.OscillationConfig(\n",
    "    flavour=Newtrinos.osc.ThreeFlavour(),\n",
    "    propagation=Newtrinos.osc.Basic(),\n",
    "    states=Newtrinos.osc.All(),\n",
    "    interaction=Newtrinos.osc.SI()\n",
    "    )\n",
    "\n",
    "osc = Newtrinos.osc.configure(osc_cfg_SM)\n",
    "\n",
    "physics_SM = (; osc);"
   ]
  },
  {
   "cell_type": "code",
   "execution_count": 361,
   "id": "9c99e7de",
   "metadata": {},
   "outputs": [],
   "source": [
    "experiments_SM = (\n",
    "\n",
    "   katrin= Newtrinos.katrin.configure(physics_SM),\n",
    ");"
   ]
  },
  {
   "cell_type": "code",
   "execution_count": 362,
   "id": "aaba734f",
   "metadata": {},
   "outputs": [
    {
     "data": {
      "text/plain": [
       "(::Newtrinos.osc.var\"#NeutrinoMass_SM#124\") (generic function with 1 method)"
      ]
     },
     "execution_count": 362,
     "metadata": {},
     "output_type": "execute_result"
    }
   ],
   "source": [
    "NeutrinoMass_SM=Newtrinos.osc.get_neutrinomass_SM(osc_cfg_SM.flavour)"
   ]
  },
  {
   "cell_type": "code",
   "execution_count": 363,
   "id": "391d3bd2",
   "metadata": {},
   "outputs": [
    {
     "data": {
      "text/plain": [
       "(Δm²₂₁ = 7.53e-5, Δm²₃₁ = 0.0024752999999999997, δCP = 1.0, θ₁₂ = 0.5872523687443223, θ₁₃ = 0.1454258194533693, θ₂₃ = 0.8556288707523761)"
      ]
     },
     "execution_count": 363,
     "metadata": {},
     "output_type": "execute_result"
    }
   ],
   "source": [
    "p = Newtrinos.get_params(experiments_SM)"
   ]
  },
  {
   "cell_type": "code",
   "execution_count": 364,
   "id": "4d39c8b9",
   "metadata": {},
   "outputs": [
    {
     "data": {
      "text/plain": [
       "0.010074612940900002"
      ]
     },
     "execution_count": 364,
     "metadata": {},
     "output_type": "execute_result"
    }
   ],
   "source": [
    "mass_nu_value_SM= NeutrinoMass_SM(p)"
   ]
  },
  {
   "cell_type": "markdown",
   "id": "067a5a14",
   "metadata": {},
   "source": [
    "Calculation of m0 from m_nu measeurement in SM "
   ]
  },
  {
   "cell_type": "code",
   "execution_count": 365,
   "id": "95fa3f1a",
   "metadata": {},
   "outputs": [
    {
     "data": {
      "text/plain": [
       "0.7741016790565695"
      ]
     },
     "execution_count": 365,
     "metadata": {},
     "output_type": "execute_result"
    }
   ],
   "source": [
    "m_nu_squared=0.6 # eV^2, from KATRIN measurement\n",
    "\n",
    "p= Newtrinos.get_params(experiments_SM)\n",
    "U= Newtrinos.osc.get_PMNS(p)\n",
    "\n",
    "sumU = 0.0\n",
    "\n",
    "for i in 1:3\n",
    "    sumU += abs(U[1,i])^2\n",
    "end\n",
    "\n",
    "term1= abs(U[1,2])^2*(p[:Δm²₂₁])\n",
    "term2= abs(U[1,2])^2*(p[:Δm²₃₁])\n",
    "\n",
    "m0_squared= (m_nu_squared-term1-term2) / sumU\n",
    "\n",
    "m0=sqrt(m0_squared)"
   ]
  }
 ],
 "metadata": {
  "kernelspec": {
   "display_name": "Julia (myenv) 1.11.5",
   "language": "julia",
   "name": "julia-_myenv_-1.11"
  },
  "language_info": {
   "file_extension": ".jl",
   "mimetype": "application/julia",
   "name": "julia",
   "version": "1.11.5"
  }
 },
 "nbformat": 4,
 "nbformat_minor": 5
}
