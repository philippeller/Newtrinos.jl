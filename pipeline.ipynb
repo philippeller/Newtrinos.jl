{
 "cells": [
  {
   "cell_type": "markdown",
   "id": "1b122c99",
   "metadata": {},
   "source": [
    "PIPELINE FOR CONSTRAINING N AND r"
   ]
  },
  {
   "cell_type": "code",
   "execution_count": null,
   "id": "cb4012b1",
   "metadata": {},
   "outputs": [],
   "source": [
    "using Newtrinos\n",
    "using CairoMakie"
   ]
  },
  {
   "cell_type": "code",
   "execution_count": null,
   "id": "2d5dba40",
   "metadata": {},
   "outputs": [],
   "source": [
    "# load the scan\n",
    "JLD2.@load \"scan_kamland_rN_m0=0.1_NNM.jld2\" result"
   ]
  },
  {
   "cell_type": "code",
   "execution_count": null,
   "id": "a888b3c5",
   "metadata": {},
   "outputs": [],
   "source": [
    "#plot and save the image\n",
    "img = CairoMakie.plot(result)\n",
    "display(\"image/png\", img)\n",
    "save(\"/home/sofialon/Newtrinos.jl/profiled plot/minos/minos_rN_m0=0.1_NNM.png\", img)\n"
   ]
  },
  {
   "cell_type": "code",
   "execution_count": null,
   "id": "66c4bde6",
   "metadata": {},
   "outputs": [],
   "source": [
    "#plot the logposterior value vs r\n",
    "\n",
    "#value of N fixed\n",
    "\n",
    "Nfixed = 25  \n",
    "Nmax=100\n",
    "Nindex = Int(Nmax/31)*Nfixed  \n",
    "\n",
    "#calsculate the best fit\n",
    "bf = Newtrinos.bestfit(result)\n",
    "\n",
    "# Calculate confidence intervals\n",
    "sigma_1_threshold = maximum(result.values.log_posterior[:, Nindex ]) - 0.5\n",
    "sigma_2_threshold = maximum(result.values.log_posterior[:, Nindex ]) - 2.0\n",
    "\n",
    "# Create the plot\n",
    "fig = Figure(resolution = (800, 600))\n",
    "ax = Axis(fig[1, 1],\n",
    "    xlabel = \"r\",\n",
    "    ylabel = \"Log Posterior\",\n",
    "    title = \"r vs Log posterior - MINOS NNM\",\n",
    "    titlesize = 16,\n",
    "    xlabelsize = 14,\n",
    "    ylabelsize = 14\n",
    ")\n",
    "\n",
    "# Plot the main curve\n",
    "lines!(ax, result.axes.r, result.values.log_posterior[:, Nindex],\n",
    "    color = :blue,\n",
    "    linewidth = 2,\n",
    "    label = \"Log Posterior\"\n",
    ")\n",
    "\n",
    "# Add confidence level lines\n",
    "hlines!(ax, [sigma_1_threshold], \n",
    "    color = :red, \n",
    "    linestyle = :dash, \n",
    "    linewidth = 2,\n",
    "    label = \"1σ\"\n",
    ")\n",
    "\n",
    "hlines!(ax, [sigma_2_threshold], \n",
    "    color = :orange, \n",
    "    linestyle = :dash, \n",
    "    linewidth = 2,\n",
    "    label = \"2σ\"\n",
    ")\n",
    "\n",
    "# Add legend\n",
    "axislegend(ax, position = :rb)  # right bottom\n",
    "\n",
    "display(\"image/png\", fig)\n",
    "save(\"/home/sofialon/Newtrinos.jl/profiled plot/minos/minos_rLogpost_N=15_m0=0.1_NNM.png\", fig)\n"
   ]
  }
 ],
 "metadata": {
  "kernelspec": {
   "display_name": "Julia (myenv) 1.11.5",
   "language": "julia",
   "name": "julia-_myenv_-1.11"
  },
  "language_info": {
   "name": "julia"
  }
 },
 "nbformat": 4,
 "nbformat_minor": 5
}
