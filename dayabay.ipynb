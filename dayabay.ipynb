{
 "cells": [
  {
   "cell_type": "code",
   "execution_count": null,
   "id": "b24b72aa",
   "metadata": {
    "vscode": {
     "languageId": "julia"
    }
   },
   "outputs": [],
   "source": [
    "using LinearAlgebra\n",
    "using Distributions\n",
    "using Plots\n",
    "using LaTeXStrings\n",
    "using Printf\n",
    "\n",
    "using FileIO\n",
    "import JLD2\n",
    "using DataFrames\n",
    "using StatsPlots\n",
    "using Newtrinos\n",
    "using Newtrinos.osc\n",
    "osc_cfg = Newtrinos.osc.OscillationConfig(\n",
    "    flavour=Newtrinos.osc.NND(),\n",
    "    propagation=Newtrinos.osc.Basic(),\n",
    "    states=Newtrinos.osc.All(),\n",
    "    interaction=Newtrinos.osc.SI()\n",
    "    )\n",
    "\n",
    "osc = Newtrinos.osc.configure(osc_cfg)\n",
    "atm_flux = Newtrinos.atm_flux.configure()\n",
    "earth_layers = Newtrinos.earth_layers.configure()\n",
    "\n",
    "physics = (; osc, atm_flux, earth_layers);\n",
    "experiments = (\n",
    " \n",
    "    dayabay = Newtrinos.dayabay.configure(physics),\n",
    ");\n",
    "p = Newtrinos.get_params(experiments)\n",
    "img = experiments.dayabay.plot(p)\n",
    "display(\"image/png\", img)\n",
    "\n",
    "likelihood = Newtrinos.generate_likelihood(experiments);\n",
    "result = Newtrinos.scan(likelihood, Newtrinos.get_priors(experiments), (θ₁₃=31, Δm²₃₁=31), p)\n",
    "using CairoMakie\n",
    "img = CairoMakie.plot(result)\n",
    "display(\"image/png\", img)"
   ]
  }
 ],
 "metadata": {
  "language_info": {
   "name": "python"
  }
 },
 "nbformat": 4,
 "nbformat_minor": 5
}
