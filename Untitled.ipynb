{
 "cells": [
  {
   "cell_type": "code",
   "execution_count": 1,
   "id": "6c213d33-52d4-4191-a777-7697e1c2ec22",
   "metadata": {},
   "outputs": [
    {
     "name": "stdout",
     "output_type": "stream",
     "text": [
      "Julia Version 1.11.4\n",
      "Commit 8561cc3d68d (2025-03-10 11:36 UTC)\n",
      "Build Info:\n",
      "  Official https://julialang.org/ release\n",
      "Platform Info:\n",
      "  OS: macOS (arm64-apple-darwin24.0.0)\n",
      "  CPU: 8 × Apple M1\n",
      "  WORD_SIZE: 64\n",
      "  LLVM: libLLVM-16.0.6 (ORCJIT, apple-m1)\n",
      "Threads: 1 default, 0 interactive, 1 GC (on 4 virtual cores)\n",
      "Environment:\n",
      "  LD_LIBRARY_PATH = /opt/homebrew/opt/root/lib\n"
     ]
    }
   ],
   "source": [
    "versioninfo()"
   ]
  },
  {
   "cell_type": "code",
   "execution_count": 2,
   "id": "3b061231-4aaa-4369-9239-7e1e7b59546a",
   "metadata": {},
   "outputs": [
    {
     "name": "stdout",
     "output_type": "stream",
     "text": [
      "search: \u001b[0m\u001b[1mc\u001b[22m\u001b[0m\u001b[1mo\u001b[22m\u001b[0m\u001b[1ms\u001b[22m \u001b[0m\u001b[1mc\u001b[22m\u001b[0m\u001b[1mo\u001b[22m\u001b[0m\u001b[1ms\u001b[22mh \u001b[0m\u001b[1mc\u001b[22m\u001b[0m\u001b[1mo\u001b[22m\u001b[0m\u001b[1ms\u001b[22mc a\u001b[0m\u001b[1mc\u001b[22m\u001b[0m\u001b[1mo\u001b[22m\u001b[0m\u001b[1ms\u001b[22m \u001b[0m\u001b[1mc\u001b[22m\u001b[0m\u001b[1mo\u001b[22m\u001b[0m\u001b[1ms\u001b[22md \u001b[0m\u001b[1mc\u001b[22mis \u001b[0m\u001b[1mc\u001b[22m\u001b[0m\u001b[1mo\u001b[22mt \u001b[0m\u001b[1mc\u001b[22ml\u001b[0m\u001b[1mo\u001b[22m\u001b[0m\u001b[1ms\u001b[22me a\u001b[0m\u001b[1mc\u001b[22m\u001b[0m\u001b[1mo\u001b[22m\u001b[0m\u001b[1ms\u001b[22md \u001b[0m\u001b[1mc\u001b[22m\u001b[0m\u001b[1mo\u001b[22mn\u001b[0m\u001b[1ms\u001b[22mt a\u001b[0m\u001b[1mc\u001b[22m\u001b[0m\u001b[1mo\u001b[22m\u001b[0m\u001b[1ms\u001b[22mh \u001b[0m\u001b[1mc\u001b[22m\u001b[0m\u001b[1mo\u001b[22m\u001b[0m\u001b[1ms\u001b[22mpi \u001b[0m\u001b[1mc\u001b[22m\u001b[0m\u001b[1mo\u001b[22mth \u001b[0m\u001b[1mc\u001b[22m\u001b[0m\u001b[1mo\u001b[22mpy\n",
      "\n"
     ]
    },
    {
     "data": {
      "text/latex": [
       "\\begin{verbatim}\n",
       "cos(x)\n",
       "\\end{verbatim}\n",
       "Compute cosine of \\texttt{x}, where \\texttt{x} is in radians.\n",
       "\n",
       "See also \\href{@ref}{\\texttt{cosd}}, \\href{@ref}{\\texttt{cospi}}, \\href{@ref}{\\texttt{sincos}}, \\href{@ref}{\\texttt{cis}}.\n",
       "\n",
       "\\rule{\\textwidth}{1pt}\n",
       "\\begin{verbatim}\n",
       "cos(A::AbstractMatrix)\n",
       "\\end{verbatim}\n",
       "Compute the matrix cosine of a square matrix \\texttt{A}.\n",
       "\n",
       "If \\texttt{A} is symmetric or Hermitian, its eigendecomposition (\\href{@ref}{\\texttt{eigen}}) is used to compute the cosine. Otherwise, the cosine is determined by calling \\href{@ref}{\\texttt{exp}}.\n",
       "\n",
       "\\section{Examples}\n",
       "\\begin{verbatim}\n",
       "julia> cos(fill(1.0, (2,2)))\n",
       "2×2 Matrix{Float64}:\n",
       "  0.291927  -0.708073\n",
       " -0.708073   0.291927\n",
       "\\end{verbatim}\n"
      ],
      "text/markdown": [
       "```\n",
       "cos(x)\n",
       "```\n",
       "\n",
       "Compute cosine of `x`, where `x` is in radians.\n",
       "\n",
       "See also [`cosd`](@ref), [`cospi`](@ref), [`sincos`](@ref), [`cis`](@ref).\n",
       "\n",
       "---\n",
       "\n",
       "```\n",
       "cos(A::AbstractMatrix)\n",
       "```\n",
       "\n",
       "Compute the matrix cosine of a square matrix `A`.\n",
       "\n",
       "If `A` is symmetric or Hermitian, its eigendecomposition ([`eigen`](@ref)) is used to compute the cosine. Otherwise, the cosine is determined by calling [`exp`](@ref).\n",
       "\n",
       "# Examples\n",
       "\n",
       "```jldoctest\n",
       "julia> cos(fill(1.0, (2,2)))\n",
       "2×2 Matrix{Float64}:\n",
       "  0.291927  -0.708073\n",
       " -0.708073   0.291927\n",
       "```\n"
      ],
      "text/plain": [
       "\u001b[36m  cos(x)\u001b[39m\n",
       "\n",
       "  Compute cosine of \u001b[36mx\u001b[39m, where \u001b[36mx\u001b[39m is in radians.\n",
       "\n",
       "  See also \u001b[36mcosd\u001b[39m, \u001b[36mcospi\u001b[39m, \u001b[36msincos\u001b[39m, \u001b[36mcis\u001b[39m.\n",
       "\n",
       "  ────────────────────────────────────────────────────────────────────────────\n",
       "\n",
       "\u001b[36m  cos(A::AbstractMatrix)\u001b[39m\n",
       "\n",
       "  Compute the matrix cosine of a square matrix \u001b[36mA\u001b[39m.\n",
       "\n",
       "  If \u001b[36mA\u001b[39m is symmetric or Hermitian, its eigendecomposition (\u001b[36meigen\u001b[39m) is used to\n",
       "  compute the cosine. Otherwise, the cosine is determined by calling \u001b[36mexp\u001b[39m.\n",
       "\n",
       "\u001b[1m  Examples\u001b[22m\n",
       "\u001b[1m  ≡≡≡≡≡≡≡≡\u001b[22m\n",
       "\n",
       "\u001b[36m  julia> cos(fill(1.0, (2,2)))\u001b[39m\n",
       "\u001b[36m  2×2 Matrix{Float64}:\u001b[39m\n",
       "\u001b[36m    0.291927  -0.708073\u001b[39m\n",
       "\u001b[36m   -0.708073   0.291927\u001b[39m"
      ]
     },
     "execution_count": 2,
     "metadata": {},
     "output_type": "execute_result"
    }
   ],
   "source": [
    "? cos"
   ]
  },
  {
   "cell_type": "code",
   "execution_count": 3,
   "id": "441e40e3-ca6e-47c4-a423-93b9d791c849",
   "metadata": {},
   "outputs": [
    {
     "data": {
      "text/latex": [
       "\\begin{verbatim}\n",
       "cos(x)\n",
       "\\end{verbatim}\n",
       "Compute cosine of \\texttt{x}, where \\texttt{x} is in radians.\n",
       "\n",
       "See also \\href{@ref}{\\texttt{cosd}}, \\href{@ref}{\\texttt{cospi}}, \\href{@ref}{\\texttt{sincos}}, \\href{@ref}{\\texttt{cis}}.\n",
       "\n",
       "\\rule{\\textwidth}{1pt}\n",
       "\\begin{verbatim}\n",
       "cos(A::AbstractMatrix)\n",
       "\\end{verbatim}\n",
       "Compute the matrix cosine of a square matrix \\texttt{A}.\n",
       "\n",
       "If \\texttt{A} is symmetric or Hermitian, its eigendecomposition (\\href{@ref}{\\texttt{eigen}}) is used to compute the cosine. Otherwise, the cosine is determined by calling \\href{@ref}{\\texttt{exp}}.\n",
       "\n",
       "\\section{Examples}\n",
       "\\begin{verbatim}\n",
       "julia> cos(fill(1.0, (2,2)))\n",
       "2×2 Matrix{Float64}:\n",
       "  0.291927  -0.708073\n",
       " -0.708073   0.291927\n",
       "\\end{verbatim}\n"
      ],
      "text/markdown": [
       "```\n",
       "cos(x)\n",
       "```\n",
       "\n",
       "Compute cosine of `x`, where `x` is in radians.\n",
       "\n",
       "See also [`cosd`](@ref), [`cospi`](@ref), [`sincos`](@ref), [`cis`](@ref).\n",
       "\n",
       "---\n",
       "\n",
       "```\n",
       "cos(A::AbstractMatrix)\n",
       "```\n",
       "\n",
       "Compute the matrix cosine of a square matrix `A`.\n",
       "\n",
       "If `A` is symmetric or Hermitian, its eigendecomposition ([`eigen`](@ref)) is used to compute the cosine. Otherwise, the cosine is determined by calling [`exp`](@ref).\n",
       "\n",
       "# Examples\n",
       "\n",
       "```jldoctest\n",
       "julia> cos(fill(1.0, (2,2)))\n",
       "2×2 Matrix{Float64}:\n",
       "  0.291927  -0.708073\n",
       " -0.708073   0.291927\n",
       "```\n"
      ],
      "text/plain": [
       "\u001b[36m  cos(x)\u001b[39m\n",
       "\n",
       "  Compute cosine of \u001b[36mx\u001b[39m, where \u001b[36mx\u001b[39m is in radians.\n",
       "\n",
       "  See also \u001b[36mcosd\u001b[39m, \u001b[36mcospi\u001b[39m, \u001b[36msincos\u001b[39m, \u001b[36mcis\u001b[39m.\n",
       "\n",
       "  ────────────────────────────────────────────────────────────────────────────\n",
       "\n",
       "\u001b[36m  cos(A::AbstractMatrix)\u001b[39m\n",
       "\n",
       "  Compute the matrix cosine of a square matrix \u001b[36mA\u001b[39m.\n",
       "\n",
       "  If \u001b[36mA\u001b[39m is symmetric or Hermitian, its eigendecomposition (\u001b[36meigen\u001b[39m) is used to\n",
       "  compute the cosine. Otherwise, the cosine is determined by calling \u001b[36mexp\u001b[39m.\n",
       "\n",
       "\u001b[1m  Examples\u001b[22m\n",
       "\u001b[1m  ≡≡≡≡≡≡≡≡\u001b[22m\n",
       "\n",
       "\u001b[36m  julia> cos(fill(1.0, (2,2)))\u001b[39m\n",
       "\u001b[36m  2×2 Matrix{Float64}:\u001b[39m\n",
       "\u001b[36m    0.291927  -0.708073\u001b[39m\n",
       "\u001b[36m   -0.708073   0.291927\u001b[39m"
      ]
     },
     "execution_count": 3,
     "metadata": {},
     "output_type": "execute_result"
    }
   ],
   "source": [
    "ans"
   ]
  },
  {
   "cell_type": "code",
   "execution_count": 7,
   "id": "57cc1ad4-2694-4d71-8f9c-1935a9d6b9e2",
   "metadata": {},
   "outputs": [
    {
     "name": "stderr",
     "output_type": "stream",
     "text": [
      "\u001b[32m\u001b[1m   Resolving\u001b[22m\u001b[39m package versions...\n",
      "\u001b[32m\u001b[1m      Compat\u001b[22m\u001b[39m entries added for \n",
      "\u001b[32m\u001b[1m  No Changes\u001b[22m\u001b[39m to `~/newtrinos/Newtrinos.jl/Project.toml`\n",
      "\u001b[32m\u001b[1m  No Changes\u001b[22m\u001b[39m to `~/newtrinos/Newtrinos.jl/Manifest.toml`\n"
     ]
    }
   ],
   "source": [
    "import Pkg\n",
    "Pkg.add(\"PyPlot\")"
   ]
  },
  {
   "cell_type": "code",
   "execution_count": 8,
   "id": "c10ef091-a3b5-4c34-b026-a433cd272eec",
   "metadata": {},
   "outputs": [
    {
     "ename": "LoadError",
     "evalue": "UndefVarError: `st` not defined in `Main`\nSuggestion: check for spelling errors or missing imports.",
     "output_type": "error",
     "traceback": [
      "UndefVarError: `st` not defined in `Main`\nSuggestion: check for spelling errors or missing imports.",
      ""
     ]
    }
   ],
   "source": [
    "st"
   ]
  },
  {
   "cell_type": "code",
   "execution_count": 9,
   "id": "e33bfedc-e909-41ec-83b1-0f1c30e3fc6c",
   "metadata": {},
   "outputs": [
    {
     "name": "stderr",
     "output_type": "stream",
     "text": [
      "\u001b[33m\u001b[1m┌ \u001b[22m\u001b[39m\u001b[33m\u001b[1mWarning: \u001b[22m\u001b[39mPkg.installed() is deprecated\n",
      "\u001b[33m\u001b[1m└ \u001b[22m\u001b[39m\u001b[90m@ Pkg ~/.julia/juliaup/julia-1.11.4+0.aarch64.apple.darwin14/share/julia/stdlib/v1.11/Pkg/src/Pkg.jl:787\u001b[39m\n"
     ]
    },
    {
     "data": {
      "text/plain": [
       "Dict{String, VersionNumber} with 35 entries:\n",
       "  \"CSV\"                      => v\"0.10.15\"\n",
       "  \"Statistics\"               => v\"1.11.1\"\n",
       "  \"ForwardDiff\"              => v\"0.10.38\"\n",
       "  \"Revise\"                   => v\"3.7.3\"\n",
       "  \"Distributions\"            => v\"0.25.118\"\n",
       "  \"Optimization\"             => v\"4.1.2\"\n",
       "  \"AutoDiffOperators\"        => v\"0.2.2\"\n",
       "  \"ValueShapes\"              => v\"0.11.3\"\n",
       "  \"Interpolations\"           => v\"0.15.1\"\n",
       "  \"Optim\"                    => v\"1.11.0\"\n",
       "  \"DifferentiationInterface\" => v\"0.6.48\"\n",
       "  \"ColorSchemes\"             => v\"3.29.0\"\n",
       "  \"IterTools\"                => v\"1.10.0\"\n",
       "  \"LinearAlgebra\"            => v\"1.11.0\"\n",
       "  \"ThreadsX\"                 => v\"0.1.12\"\n",
       "  \"InverseFunctions\"         => v\"0.1.17\"\n",
       "  \"CairoMakie\"               => v\"0.13.2\"\n",
       "  \"StatsBase\"                => v\"0.34.4\"\n",
       "  \"ContentHashes\"            => v\"0.1.0\"\n",
       "  \"DataStructures\"           => v\"0.18.22\"\n",
       "  \"HDF5\"                     => v\"0.17.2\"\n",
       "  \"Tables\"                   => v\"1.12.0\"\n",
       "  \"Makie\"                    => v\"0.22.2\"\n",
       "  \"PyPlot\"                   => v\"2.11.6\"\n",
       "  \"DensityInterface\"         => v\"0.4.0\"\n",
       "  ⋮                          => ⋮"
      ]
     },
     "execution_count": 9,
     "metadata": {},
     "output_type": "execute_result"
    }
   ],
   "source": [
    "using Pkg\n",
    "Pkg.installed()\n"
   ]
  },
  {
   "cell_type": "code",
   "execution_count": 13,
   "id": "c556fe24-11aa-499d-a018-05b481b0061f",
   "metadata": {},
   "outputs": [
    {
     "data": {
      "text/html": [
       "# 198 methods for generic function <b>+</b> from \u001b[90mBase\u001b[39m:<ul><li> +(x::<b>Bool</b>, z::<b>Complex{Bool}</b>) in Base at <a href=\"https://github.com/JuliaLang/julia/tree/8561cc3d68d3551a5728b40f782c244834fd3348/base/complex.jl#L308\" target=\"_blank\">complex.jl:308</a></li> <li> +(x::<b>Bool</b>, y::<b>Bool</b>) in Base at <a href=\"https://github.com/JuliaLang/julia/tree/8561cc3d68d3551a5728b40f782c244834fd3348/base/bool.jl#L166\" target=\"_blank\">bool.jl:166</a></li> <li> +(x::<b>Bool</b>) in Base at <a href=\"https://github.com/JuliaLang/julia/tree/8561cc3d68d3551a5728b40f782c244834fd3348/base/bool.jl#L163\" target=\"_blank\">bool.jl:163</a></li> <li> +(x::<b>Bool</b>, z::<b>Complex</b>) in Base at <a href=\"https://github.com/JuliaLang/julia/tree/8561cc3d68d3551a5728b40f782c244834fd3348/base/complex.jl#L315\" target=\"_blank\">complex.jl:315</a></li> <li> +(x::<b>Real</b>, z::<b>Complex{Bool}</b>) in Base at <a href=\"https://github.com/JuliaLang/julia/tree/8561cc3d68d3551a5728b40f782c244834fd3348/base/complex.jl#L322\" target=\"_blank\">complex.jl:322</a></li> <li> +(x::<b>Bool</b>, y::<b>T</b>)<i> where T<:AbstractFloat</i> in Base at <a href=\"https://github.com/JuliaLang/julia/tree/8561cc3d68d3551a5728b40f782c244834fd3348/base/bool.jl#L173\" target=\"_blank\">bool.jl:173</a></li> <li> +(x::<b>Rational{BigInt}</b>, y::<b>Rational{BigInt}</b>) in Base.GMP.MPQ at <a href=\"https://github.com/JuliaLang/julia/tree/8561cc3d68d3551a5728b40f782c244834fd3348/base/gmp.jl#L1056\" target=\"_blank\">gmp.jl:1056</a></li> <li> +(B::<b>BitMatrix</b>, J::<b>LinearAlgebra.UniformScaling</b>) in LinearAlgebra at <a href=\"file:///Users/julia/.julia/scratchspaces/a66863c6-20e8-4ff4-8a62-49f30b1f605e/agent-cache/default-honeycrisp-XG3Q6T6R70.0/build/default-honeycrisp-XG3Q6T6R70-0/julialang/julia-release-1-dot-11/usr/share/julia/stdlib/v1.11/LinearAlgebra/src/uniformscaling.jl\" target=\"_blank\">/Users/melikeerbek/.julia/juliaup/julia-1.11.4+0.aarch64.apple.darwin14/share/julia/stdlib/v1.11/LinearAlgebra/src/uniformscaling.jl:151</a></li> <li> +(dt::<b>Dates.DateTime</b>, y::<b>Dates.Year</b>) in Dates at <a href=\"file:///Users/julia/.julia/scratchspaces/a66863c6-20e8-4ff4-8a62-49f30b1f605e/agent-cache/default-honeycrisp-XG3Q6T6R70.0/build/default-honeycrisp-XG3Q6T6R70-0/julialang/julia-release-1-dot-11/usr/share/julia/stdlib/v1.11/Dates/src/arithmetic.jl\" target=\"_blank\">/Users/melikeerbek/.julia/juliaup/julia-1.11.4+0.aarch64.apple.darwin14/share/julia/stdlib/v1.11/Dates/src/arithmetic.jl:25</a></li> <li> +(dt::<b>Dates.DateTime</b>, z::<b>Dates.Month</b>) in Dates at <a href=\"file:///Users/julia/.julia/scratchspaces/a66863c6-20e8-4ff4-8a62-49f30b1f605e/agent-cache/default-honeycrisp-XG3Q6T6R70.0/build/default-honeycrisp-XG3Q6T6R70-0/julialang/julia-release-1-dot-11/usr/share/julia/stdlib/v1.11/Dates/src/arithmetic.jl\" target=\"_blank\">/Users/melikeerbek/.julia/juliaup/julia-1.11.4+0.aarch64.apple.darwin14/share/julia/stdlib/v1.11/Dates/src/arithmetic.jl:49</a></li> <li> +(x::<b>Dates.DateTime</b>, y::<b>Dates.Quarter</b>) in Dates at <a href=\"file:///Users/julia/.julia/scratchspaces/a66863c6-20e8-4ff4-8a62-49f30b1f605e/agent-cache/default-honeycrisp-XG3Q6T6R70.0/build/default-honeycrisp-XG3Q6T6R70-0/julialang/julia-release-1-dot-11/usr/share/julia/stdlib/v1.11/Dates/src/arithmetic.jl\" target=\"_blank\">/Users/melikeerbek/.julia/juliaup/julia-1.11.4+0.aarch64.apple.darwin14/share/julia/stdlib/v1.11/Dates/src/arithmetic.jl:77</a></li> <li> +(x::<b>Dates.DateTime</b>, y::<b>Dates.Period</b>) in Dates at <a href=\"file:///Users/julia/.julia/scratchspaces/a66863c6-20e8-4ff4-8a62-49f30b1f605e/agent-cache/default-honeycrisp-XG3Q6T6R70.0/build/default-honeycrisp-XG3Q6T6R70-0/julialang/julia-release-1-dot-11/usr/share/julia/stdlib/v1.11/Dates/src/arithmetic.jl\" target=\"_blank\">/Users/melikeerbek/.julia/juliaup/julia-1.11.4+0.aarch64.apple.darwin14/share/julia/stdlib/v1.11/Dates/src/arithmetic.jl:83</a></li> <li> +(z::<b>Complex{Bool}</b>, x::<b>Bool</b>) in Base at <a href=\"https://github.com/JuliaLang/julia/tree/8561cc3d68d3551a5728b40f782c244834fd3348/base/complex.jl#L309\" target=\"_blank\">complex.jl:309</a></li> <li> +(z::<b>Complex{Bool}</b>, x::<b>Real</b>) in Base at <a href=\"https://github.com/JuliaLang/julia/tree/8561cc3d68d3551a5728b40f782c244834fd3348/base/complex.jl#L323\" target=\"_blank\">complex.jl:323</a></li> <li> +(z::<b>Complex</b>, x::<b>Bool</b>) in Base at <a href=\"https://github.com/JuliaLang/julia/tree/8561cc3d68d3551a5728b40f782c244834fd3348/base/complex.jl#L316\" target=\"_blank\">complex.jl:316</a></li> <li> +(a::<b>Pkg.Resolve.FieldValue</b>, b::<b>Pkg.Resolve.FieldValue</b>) in Pkg.Resolve at <a href=\"file:///Users/julia/.julia/scratchspaces/a66863c6-20e8-4ff4-8a62-49f30b1f605e/agent-cache/default-honeycrisp-XG3Q6T6R70.0/build/default-honeycrisp-XG3Q6T6R70-0/julialang/julia-release-1-dot-11/usr/share/julia/stdlib/v1.11/Pkg/src/Resolve/fieldvalues.jl\" target=\"_blank\">/Users/melikeerbek/.julia/juliaup/julia-1.11.4+0.aarch64.apple.darwin14/share/julia/stdlib/v1.11/Pkg/src/Resolve/fieldvalues.jl:43</a></li> <li> +(level::<b>Base.CoreLogging.LogLevel</b>, inc::<b>Integer</b>) in Base.CoreLogging at <a href=\"https://github.com/JuliaLang/julia/tree/8561cc3d68d3551a5728b40f782c244834fd3348/base/logging/logging.jl#L132\" target=\"_blank\">logging/logging.jl:132</a></li> <li> +(x::<b>BigInt</b>, y::<b>BigInt</b>) in Base.GMP at <a href=\"https://github.com/JuliaLang/julia/tree/8561cc3d68d3551a5728b40f782c244834fd3348/base/gmp.jl#L496\" target=\"_blank\">gmp.jl:496</a></li> <li> +(a::<b>BigInt</b>, b::<b>BigInt</b>, c::<b>BigInt</b>) in Base.GMP at <a href=\"https://github.com/JuliaLang/julia/tree/8561cc3d68d3551a5728b40f782c244834fd3348/base/gmp.jl#L536\" target=\"_blank\">gmp.jl:536</a></li> <li> +(a::<b>BigInt</b>, b::<b>BigInt</b>, c::<b>BigInt</b>, d::<b>BigInt</b>) in Base.GMP at <a href=\"https://github.com/JuliaLang/julia/tree/8561cc3d68d3551a5728b40f782c244834fd3348/base/gmp.jl#L537\" target=\"_blank\">gmp.jl:537</a></li> <li> +(a::<b>BigInt</b>, b::<b>BigInt</b>, c::<b>BigInt</b>, d::<b>BigInt</b>, e::<b>BigInt</b>) in Base.GMP at <a href=\"https://github.com/JuliaLang/julia/tree/8561cc3d68d3551a5728b40f782c244834fd3348/base/gmp.jl#L538\" target=\"_blank\">gmp.jl:538</a></li> <li> +(x::<b>BigInt</b>, y::<b>BigInt</b>, rest::<b>BigInt...</b>) in Base.GMP at <a href=\"https://github.com/JuliaLang/julia/tree/8561cc3d68d3551a5728b40f782c244834fd3348/base/gmp.jl#L678\" target=\"_blank\">gmp.jl:678</a></li> <li> +(c::<b>BigInt</b>, x::<b>BigFloat</b>) in Base.MPFR at <a href=\"https://github.com/JuliaLang/julia/tree/8561cc3d68d3551a5728b40f782c244834fd3348/base/mpfr.jl#L527\" target=\"_blank\">mpfr.jl:527</a></li> <li> +(x::<b>BigInt</b>, c::<b>Union{UInt16, UInt32, UInt64, UInt8}</b>) in Base.GMP at <a href=\"https://github.com/JuliaLang/julia/tree/8561cc3d68d3551a5728b40f782c244834fd3348/base/gmp.jl#L544\" target=\"_blank\">gmp.jl:544</a></li> <li> +(x::<b>BigInt</b>, c::<b>Union{Int16, Int32, Int64, Int8}</b>) in Base.GMP at <a href=\"https://github.com/JuliaLang/julia/tree/8561cc3d68d3551a5728b40f782c244834fd3348/base/gmp.jl#L550\" target=\"_blank\">gmp.jl:550</a></li> <li> +(::<b>Missing</b>, ::<b>Missing</b>) in Base at <a href=\"https://github.com/JuliaLang/julia/tree/8561cc3d68d3551a5728b40f782c244834fd3348/base/missing.jl#L122\" target=\"_blank\">missing.jl:122</a></li> <li> +(::<b>Missing</b>) in Base at <a href=\"https://github.com/JuliaLang/julia/tree/8561cc3d68d3551a5728b40f782c244834fd3348/base/missing.jl#L101\" target=\"_blank\">missing.jl:101</a></li> <li> +(x::<b>Missing</b>, y::<b>Dates.AbstractTime</b>) in Dates at <a href=\"file:///Users/julia/.julia/scratchspaces/a66863c6-20e8-4ff4-8a62-49f30b1f605e/agent-cache/default-honeycrisp-XG3Q6T6R70.0/build/default-honeycrisp-XG3Q6T6R70-0/julialang/julia-release-1-dot-11/usr/share/julia/stdlib/v1.11/Dates/src/arithmetic.jl\" target=\"_blank\">/Users/melikeerbek/.julia/juliaup/julia-1.11.4+0.aarch64.apple.darwin14/share/julia/stdlib/v1.11/Dates/src/arithmetic.jl:91</a></li> <li> +(::<b>Missing</b>, ::<b>Number</b>) in Base at <a href=\"https://github.com/JuliaLang/julia/tree/8561cc3d68d3551a5728b40f782c244834fd3348/base/missing.jl#L123\" target=\"_blank\">missing.jl:123</a></li> <li> +(x::<b>BigFloat</b>, c::<b>BigInt</b>) in Base.MPFR at <a href=\"https://github.com/JuliaLang/julia/tree/8561cc3d68d3551a5728b40f782c244834fd3348/base/mpfr.jl#L522\" target=\"_blank\">mpfr.jl:522</a></li> <li> +(a::<b>BigFloat</b>, b::<b>BigFloat</b>, c::<b>BigFloat</b>, d::<b>BigFloat</b>, e::<b>BigFloat</b>) in Base.MPFR at <a href=\"https://github.com/JuliaLang/julia/tree/8561cc3d68d3551a5728b40f782c244834fd3348/base/mpfr.jl#L678\" target=\"_blank\">mpfr.jl:678</a></li> <li> +(x::<b>BigFloat</b>, y::<b>BigFloat</b>) in Base.MPFR at <a href=\"https://github.com/JuliaLang/julia/tree/8561cc3d68d3551a5728b40f782c244834fd3348/base/mpfr.jl#L491\" target=\"_blank\">mpfr.jl:491</a></li> <li> +(a::<b>BigFloat</b>, b::<b>BigFloat</b>, c::<b>BigFloat</b>) in Base.MPFR at <a href=\"https://github.com/JuliaLang/julia/tree/8561cc3d68d3551a5728b40f782c244834fd3348/base/mpfr.jl#L665\" target=\"_blank\">mpfr.jl:665</a></li> <li> +(a::<b>BigFloat</b>, b::<b>BigFloat</b>, c::<b>BigFloat</b>, d::<b>BigFloat</b>) in Base.MPFR at <a href=\"https://github.com/JuliaLang/julia/tree/8561cc3d68d3551a5728b40f782c244834fd3348/base/mpfr.jl#L671\" target=\"_blank\">mpfr.jl:671</a></li> <li> +(x::<b>BigFloat</b>, c::<b>Union{UInt16, UInt32, UInt64, UInt8}</b>) in Base.MPFR at <a href=\"https://github.com/JuliaLang/julia/tree/8561cc3d68d3551a5728b40f782c244834fd3348/base/mpfr.jl#L498\" target=\"_blank\">mpfr.jl:498</a></li> <li> +(x::<b>BigFloat</b>, c::<b>Union{Int16, Int32, Int64, Int8}</b>) in Base.MPFR at <a href=\"https://github.com/JuliaLang/julia/tree/8561cc3d68d3551a5728b40f782c244834fd3348/base/mpfr.jl#L506\" target=\"_blank\">mpfr.jl:506</a></li> <li> +(x::<b>BigFloat</b>, c::<b>Union{Float16, Float32, Float64}</b>) in Base.MPFR at <a href=\"https://github.com/JuliaLang/julia/tree/8561cc3d68d3551a5728b40f782c244834fd3348/base/mpfr.jl#L514\" target=\"_blank\">mpfr.jl:514</a></li> <li> +(x::<b>Dates.CompoundPeriod</b>, y::<b>Dates.CompoundPeriod</b>) in Dates at <a href=\"file:///Users/julia/.julia/scratchspaces/a66863c6-20e8-4ff4-8a62-49f30b1f605e/agent-cache/default-honeycrisp-XG3Q6T6R70.0/build/default-honeycrisp-XG3Q6T6R70-0/julialang/julia-release-1-dot-11/usr/share/julia/stdlib/v1.11/Dates/src/periods.jl\" target=\"_blank\">/Users/melikeerbek/.julia/juliaup/julia-1.11.4+0.aarch64.apple.darwin14/share/julia/stdlib/v1.11/Dates/src/periods.jl:335</a></li> <li> +(x::<b>Dates.CompoundPeriod</b>, y::<b>Dates.Period</b>) in Dates at <a href=\"file:///Users/julia/.julia/scratchspaces/a66863c6-20e8-4ff4-8a62-49f30b1f605e/agent-cache/default-honeycrisp-XG3Q6T6R70.0/build/default-honeycrisp-XG3Q6T6R70-0/julialang/julia-release-1-dot-11/usr/share/julia/stdlib/v1.11/Dates/src/periods.jl\" target=\"_blank\">/Users/melikeerbek/.julia/juliaup/julia-1.11.4+0.aarch64.apple.darwin14/share/julia/stdlib/v1.11/Dates/src/periods.jl:333</a></li> <li> +(x::<b>Dates.CompoundPeriod</b>, y::<b>Dates.TimeType</b>) in Dates at <a href=\"file:///Users/julia/.julia/scratchspaces/a66863c6-20e8-4ff4-8a62-49f30b1f605e/agent-cache/default-honeycrisp-XG3Q6T6R70.0/build/default-honeycrisp-XG3Q6T6R70-0/julialang/julia-release-1-dot-11/usr/share/julia/stdlib/v1.11/Dates/src/periods.jl\" target=\"_blank\">/Users/melikeerbek/.julia/juliaup/julia-1.11.4+0.aarch64.apple.darwin14/share/julia/stdlib/v1.11/Dates/src/periods.jl:363</a></li> <li> +(dt::<b>Dates.Date</b>, t::<b>Dates.Time</b>) in Dates at <a href=\"file:///Users/julia/.julia/scratchspaces/a66863c6-20e8-4ff4-8a62-49f30b1f605e/agent-cache/default-honeycrisp-XG3Q6T6R70.0/build/default-honeycrisp-XG3Q6T6R70-0/julialang/julia-release-1-dot-11/usr/share/julia/stdlib/v1.11/Dates/src/arithmetic.jl\" target=\"_blank\">/Users/melikeerbek/.julia/juliaup/julia-1.11.4+0.aarch64.apple.darwin14/share/julia/stdlib/v1.11/Dates/src/arithmetic.jl:21</a></li> <li> +(dt::<b>Dates.Date</b>, y::<b>Dates.Year</b>) in Dates at <a href=\"file:///Users/julia/.julia/scratchspaces/a66863c6-20e8-4ff4-8a62-49f30b1f605e/agent-cache/default-honeycrisp-XG3Q6T6R70.0/build/default-honeycrisp-XG3Q6T6R70-0/julialang/julia-release-1-dot-11/usr/share/julia/stdlib/v1.11/Dates/src/arithmetic.jl\" target=\"_blank\">/Users/melikeerbek/.julia/juliaup/julia-1.11.4+0.aarch64.apple.darwin14/share/julia/stdlib/v1.11/Dates/src/arithmetic.jl:29</a></li> <li> +(dt::<b>Dates.Date</b>, z::<b>Dates.Month</b>) in Dates at <a href=\"file:///Users/julia/.julia/scratchspaces/a66863c6-20e8-4ff4-8a62-49f30b1f605e/agent-cache/default-honeycrisp-XG3Q6T6R70.0/build/default-honeycrisp-XG3Q6T6R70-0/julialang/julia-release-1-dot-11/usr/share/julia/stdlib/v1.11/Dates/src/arithmetic.jl\" target=\"_blank\">/Users/melikeerbek/.julia/juliaup/julia-1.11.4+0.aarch64.apple.darwin14/share/julia/stdlib/v1.11/Dates/src/arithmetic.jl:56</a></li> <li> +(x::<b>Dates.Date</b>, y::<b>Dates.Quarter</b>) in Dates at <a href=\"file:///Users/julia/.julia/scratchspaces/a66863c6-20e8-4ff4-8a62-49f30b1f605e/agent-cache/default-honeycrisp-XG3Q6T6R70.0/build/default-honeycrisp-XG3Q6T6R70-0/julialang/julia-release-1-dot-11/usr/share/julia/stdlib/v1.11/Dates/src/arithmetic.jl\" target=\"_blank\">/Users/melikeerbek/.julia/juliaup/julia-1.11.4+0.aarch64.apple.darwin14/share/julia/stdlib/v1.11/Dates/src/arithmetic.jl:75</a></li> <li> +(x::<b>Dates.Date</b>, y::<b>Dates.Week</b>) in Dates at <a href=\"file:///Users/julia/.julia/scratchspaces/a66863c6-20e8-4ff4-8a62-49f30b1f605e/agent-cache/default-honeycrisp-XG3Q6T6R70.0/build/default-honeycrisp-XG3Q6T6R70-0/julialang/julia-release-1-dot-11/usr/share/julia/stdlib/v1.11/Dates/src/arithmetic.jl\" target=\"_blank\">/Users/melikeerbek/.julia/juliaup/julia-1.11.4+0.aarch64.apple.darwin14/share/julia/stdlib/v1.11/Dates/src/arithmetic.jl:79</a></li> <li> +(x::<b>Dates.Date</b>, y::<b>Dates.Day</b>) in Dates at <a href=\"file:///Users/julia/.julia/scratchspaces/a66863c6-20e8-4ff4-8a62-49f30b1f605e/agent-cache/default-honeycrisp-XG3Q6T6R70.0/build/default-honeycrisp-XG3Q6T6R70-0/julialang/julia-release-1-dot-11/usr/share/julia/stdlib/v1.11/Dates/src/arithmetic.jl\" target=\"_blank\">/Users/melikeerbek/.julia/juliaup/julia-1.11.4+0.aarch64.apple.darwin14/share/julia/stdlib/v1.11/Dates/src/arithmetic.jl:81</a></li> <li> +(t::<b>Dates.Time</b>, dt::<b>Dates.Date</b>) in Dates at <a href=\"file:///Users/julia/.julia/scratchspaces/a66863c6-20e8-4ff4-8a62-49f30b1f605e/agent-cache/default-honeycrisp-XG3Q6T6R70.0/build/default-honeycrisp-XG3Q6T6R70-0/julialang/julia-release-1-dot-11/usr/share/julia/stdlib/v1.11/Dates/src/arithmetic.jl\" target=\"_blank\">/Users/melikeerbek/.julia/juliaup/julia-1.11.4+0.aarch64.apple.darwin14/share/julia/stdlib/v1.11/Dates/src/arithmetic.jl:22</a></li> <li> +(x::<b>Dates.Time</b>, y::<b>Dates.TimePeriod</b>) in Dates at <a href=\"file:///Users/julia/.julia/scratchspaces/a66863c6-20e8-4ff4-8a62-49f30b1f605e/agent-cache/default-honeycrisp-XG3Q6T6R70.0/build/default-honeycrisp-XG3Q6T6R70-0/julialang/julia-release-1-dot-11/usr/share/julia/stdlib/v1.11/Dates/src/arithmetic.jl\" target=\"_blank\">/Users/melikeerbek/.julia/juliaup/julia-1.11.4+0.aarch64.apple.darwin14/share/julia/stdlib/v1.11/Dates/src/arithmetic.jl:85</a></li> <li> +(a::<b>Pkg.Resolve.VersionWeight</b>, b::<b>Pkg.Resolve.VersionWeight</b>) in Pkg.Resolve at <a href=\"file:///Users/julia/.julia/scratchspaces/a66863c6-20e8-4ff4-8a62-49f30b1f605e/agent-cache/default-honeycrisp-XG3Q6T6R70.0/build/default-honeycrisp-XG3Q6T6R70-0/julialang/julia-release-1-dot-11/usr/share/julia/stdlib/v1.11/Pkg/src/Resolve/versionweights.jl\" target=\"_blank\">/Users/melikeerbek/.julia/juliaup/julia-1.11.4+0.aarch64.apple.darwin14/share/julia/stdlib/v1.11/Pkg/src/Resolve/versionweights.jl:22</a></li> <li> +(r1::<b>LinRange{T}</b>, r2::<b>LinRange{T}</b>)<i> where T</i> in Base at <a href=\"https://github.com/JuliaLang/julia/tree/8561cc3d68d3551a5728b40f782c244834fd3348/base/range.jl#L1448\" target=\"_blank\">range.jl:1448</a></li> <li> +(r1::<b>OrdinalRange</b>, r2::<b>OrdinalRange</b>) in Base at <a href=\"https://github.com/JuliaLang/julia/tree/8561cc3d68d3551a5728b40f782c244834fd3348/base/range.jl#L1441\" target=\"_blank\">range.jl:1441</a></li> <li> +(x::<b>Base.TwicePrecision{T}</b>, y::<b>Base.TwicePrecision{T}</b>)<i> where T</i> in Base at <a href=\"https://github.com/JuliaLang/julia/tree/8561cc3d68d3551a5728b40f782c244834fd3348/base/twiceprecision.jl#L294\" target=\"_blank\">twiceprecision.jl:294</a></li> <li> +(x::<b>Base.TwicePrecision</b>, y::<b>Base.TwicePrecision</b>) in Base at <a href=\"https://github.com/JuliaLang/julia/tree/8561cc3d68d3551a5728b40f782c244834fd3348/base/twiceprecision.jl#L299\" target=\"_blank\">twiceprecision.jl:299</a></li> <li> +(x::<b>Base.TwicePrecision</b>, y::<b>Number</b>) in Base at <a href=\"https://github.com/JuliaLang/julia/tree/8561cc3d68d3551a5728b40f782c244834fd3348/base/twiceprecision.jl#L288\" target=\"_blank\">twiceprecision.jl:288</a></li> <li> +(A::<b>Array</b>, Bs::<b>Array...</b>) in Base at <a href=\"https://github.com/JuliaLang/julia/tree/8561cc3d68d3551a5728b40f782c244834fd3348/base/arraymath.jl#L12\" target=\"_blank\">arraymath.jl:12</a></li> <li> +(x::<b>T</b>, y::<b>Integer</b>)<i> where T<:AbstractChar</i> in Base at <a href=\"https://github.com/JuliaLang/julia/tree/8561cc3d68d3551a5728b40f782c244834fd3348/base/char.jl#L237\" target=\"_blank\">char.jl:237</a></li> <li> +(H::<b>LinearAlgebra.Hermitian</b>, D::<b>LinearAlgebra.Diagonal{var\"#s5030\", V} where {var\"#s5030\"<:Real, V<:AbstractVector{var\"#s5030\"}}</b>) in LinearAlgebra at <a href=\"file:///Users/julia/.julia/scratchspaces/a66863c6-20e8-4ff4-8a62-49f30b1f605e/agent-cache/default-honeycrisp-XG3Q6T6R70.0/build/default-honeycrisp-XG3Q6T6R70-0/julialang/julia-release-1-dot-11/usr/share/julia/stdlib/v1.11/LinearAlgebra/src/special.jl\" target=\"_blank\">/Users/melikeerbek/.julia/juliaup/julia-1.11.4+0.aarch64.apple.darwin14/share/julia/stdlib/v1.11/LinearAlgebra/src/special.jl:280</a></li> <li> +(A::<b>LinearAlgebra.Hermitian</b>, J::<b>LinearAlgebra.UniformScaling{<:Complex}</b>) in LinearAlgebra at <a href=\"file:///Users/julia/.julia/scratchspaces/a66863c6-20e8-4ff4-8a62-49f30b1f605e/agent-cache/default-honeycrisp-XG3Q6T6R70.0/build/default-honeycrisp-XG3Q6T6R70-0/julialang/julia-release-1-dot-11/usr/share/julia/stdlib/v1.11/LinearAlgebra/src/uniformscaling.jl\" target=\"_blank\">/Users/melikeerbek/.julia/juliaup/julia-1.11.4+0.aarch64.apple.darwin14/share/julia/stdlib/v1.11/LinearAlgebra/src/uniformscaling.jl:195</a></li> <li> +(A::<b>LinearAlgebra.Hermitian</b>, B::<b>LinearAlgebra.SymTridiagonal{var\"#s5027\", V} where {var\"#s5027\"<:Real, V<:AbstractVector{var\"#s5027\"}}</b>) in LinearAlgebra at <a href=\"file:///Users/julia/.julia/scratchspaces/a66863c6-20e8-4ff4-8a62-49f30b1f605e/agent-cache/default-honeycrisp-XG3Q6T6R70.0/build/default-honeycrisp-XG3Q6T6R70-0/julialang/julia-release-1-dot-11/usr/share/julia/stdlib/v1.11/LinearAlgebra/src/symmetric.jl\" target=\"_blank\">/Users/melikeerbek/.julia/juliaup/julia-1.11.4+0.aarch64.apple.darwin14/share/julia/stdlib/v1.11/LinearAlgebra/src/symmetric.jl:544</a></li> <li> +(A::<b>LinearAlgebra.Hermitian</b>, B::<b>LinearAlgebra.Symmetric{var\"#s5030\", S} where {var\"#s5030\"<:Real, S<:(AbstractMatrix{<:var\"#s5030\"})}</b>) in LinearAlgebra at <a href=\"file:///Users/julia/.julia/scratchspaces/a66863c6-20e8-4ff4-8a62-49f30b1f605e/agent-cache/default-honeycrisp-XG3Q6T6R70.0/build/default-honeycrisp-XG3Q6T6R70-0/julialang/julia-release-1-dot-11/usr/share/julia/stdlib/v1.11/LinearAlgebra/src/symmetric.jl\" target=\"_blank\">/Users/melikeerbek/.julia/juliaup/julia-1.11.4+0.aarch64.apple.darwin14/share/julia/stdlib/v1.11/LinearAlgebra/src/symmetric.jl:539</a></li> <li> +(A::<b>LinearAlgebra.Hermitian</b>, B::<b>LinearAlgebra.Hermitian</b>) in LinearAlgebra at <a href=\"file:///Users/julia/.julia/scratchspaces/a66863c6-20e8-4ff4-8a62-49f30b1f605e/agent-cache/default-honeycrisp-XG3Q6T6R70.0/build/default-honeycrisp-XG3Q6T6R70-0/julialang/julia-release-1-dot-11/usr/share/julia/stdlib/v1.11/LinearAlgebra/src/symmetric.jl\" target=\"_blank\">/Users/melikeerbek/.julia/juliaup/julia-1.11.4+0.aarch64.apple.darwin14/share/julia/stdlib/v1.11/LinearAlgebra/src/symmetric.jl:531</a></li> <li> +(J::<b>LinearAlgebra.UniformScaling</b>, B::<b>BitMatrix</b>) in LinearAlgebra at <a href=\"file:///Users/julia/.julia/scratchspaces/a66863c6-20e8-4ff4-8a62-49f30b1f605e/agent-cache/default-honeycrisp-XG3Q6T6R70.0/build/default-honeycrisp-XG3Q6T6R70-0/julialang/julia-release-1-dot-11/usr/share/julia/stdlib/v1.11/LinearAlgebra/src/uniformscaling.jl\" target=\"_blank\">/Users/melikeerbek/.julia/juliaup/julia-1.11.4+0.aarch64.apple.darwin14/share/julia/stdlib/v1.11/LinearAlgebra/src/uniformscaling.jl:152</a></li> <li> +(J::<b>LinearAlgebra.UniformScaling</b>, x::<b>Number</b>) in LinearAlgebra at <a href=\"file:///Users/julia/.julia/scratchspaces/a66863c6-20e8-4ff4-8a62-49f30b1f605e/agent-cache/default-honeycrisp-XG3Q6T6R70.0/build/default-honeycrisp-XG3Q6T6R70-0/julialang/julia-release-1-dot-11/usr/share/julia/stdlib/v1.11/LinearAlgebra/src/uniformscaling.jl\" target=\"_blank\">/Users/melikeerbek/.julia/juliaup/julia-1.11.4+0.aarch64.apple.darwin14/share/julia/stdlib/v1.11/LinearAlgebra/src/uniformscaling.jl:144</a></li> <li> +(J::<b>LinearAlgebra.UniformScaling</b>, F::<b>LinearAlgebra.Hessenberg</b>) in LinearAlgebra at <a href=\"file:///Users/julia/.julia/scratchspaces/a66863c6-20e8-4ff4-8a62-49f30b1f605e/agent-cache/default-honeycrisp-XG3Q6T6R70.0/build/default-honeycrisp-XG3Q6T6R70-0/julialang/julia-release-1-dot-11/usr/share/julia/stdlib/v1.11/LinearAlgebra/src/hessenberg.jl\" target=\"_blank\">/Users/melikeerbek/.julia/juliaup/julia-1.11.4+0.aarch64.apple.darwin14/share/julia/stdlib/v1.11/LinearAlgebra/src/hessenberg.jl:562</a></li> <li> +(B::<b>LinearAlgebra.UniformScaling</b>, A::<b>LinearAlgebra.Diagonal</b>) in LinearAlgebra</li> <li> +(J1::<b>LinearAlgebra.UniformScaling</b>, J2::<b>LinearAlgebra.UniformScaling</b>) in LinearAlgebra at <a href=\"file:///Users/julia/.julia/scratchspaces/a66863c6-20e8-4ff4-8a62-49f30b1f605e/agent-cache/default-honeycrisp-XG3Q6T6R70.0/build/default-honeycrisp-XG3Q6T6R70-0/julialang/julia-release-1-dot-11/usr/share/julia/stdlib/v1.11/LinearAlgebra/src/uniformscaling.jl\" target=\"_blank\">/Users/melikeerbek/.julia/juliaup/julia-1.11.4+0.aarch64.apple.darwin14/share/julia/stdlib/v1.11/LinearAlgebra/src/uniformscaling.jl:150</a></li> <li> +(x::<b>LinearAlgebra.UniformScaling</b>, H::<b>LinearAlgebra.UpperHessenberg</b>) in LinearAlgebra at <a href=\"file:///Users/julia/.julia/scratchspaces/a66863c6-20e8-4ff4-8a62-49f30b1f605e/agent-cache/default-honeycrisp-XG3Q6T6R70.0/build/default-honeycrisp-XG3Q6T6R70-0/julialang/julia-release-1-dot-11/usr/share/julia/stdlib/v1.11/LinearAlgebra/src/hessenberg.jl\" target=\"_blank\">/Users/melikeerbek/.julia/juliaup/julia-1.11.4+0.aarch64.apple.darwin14/share/julia/stdlib/v1.11/LinearAlgebra/src/hessenberg.jl:121</a></li> <li> +(B::<b>LinearAlgebra.UniformScaling</b>, A::<b>LinearAlgebra.Tridiagonal</b>) in LinearAlgebra</li> <li> +(B::<b>LinearAlgebra.UniformScaling</b>, A::<b>LinearAlgebra.SymTridiagonal</b>) in LinearAlgebra</li> <li> +(B::<b>LinearAlgebra.UniformScaling</b>, A::<b>LinearAlgebra.Bidiagonal</b>) in LinearAlgebra</li> <li> +(J::<b>LinearAlgebra.UniformScaling</b>, A::<b>AbstractMatrix</b>) in LinearAlgebra at <a href=\"file:///Users/julia/.julia/scratchspaces/a66863c6-20e8-4ff4-8a62-49f30b1f605e/agent-cache/default-honeycrisp-XG3Q6T6R70.0/build/default-honeycrisp-XG3Q6T6R70-0/julialang/julia-release-1-dot-11/usr/share/julia/stdlib/v1.11/LinearAlgebra/src/uniformscaling.jl\" target=\"_blank\">/Users/melikeerbek/.julia/juliaup/julia-1.11.4+0.aarch64.apple.darwin14/share/julia/stdlib/v1.11/LinearAlgebra/src/uniformscaling.jl:153</a></li> <li> +(J::<b>LinearAlgebra.UniformScaling</b>) in LinearAlgebra at <a href=\"file:///Users/julia/.julia/scratchspaces/a66863c6-20e8-4ff4-8a62-49f30b1f605e/agent-cache/default-honeycrisp-XG3Q6T6R70.0/build/default-honeycrisp-XG3Q6T6R70-0/julialang/julia-release-1-dot-11/usr/share/julia/stdlib/v1.11/LinearAlgebra/src/uniformscaling.jl\" target=\"_blank\">/Users/melikeerbek/.julia/juliaup/julia-1.11.4+0.aarch64.apple.darwin14/share/julia/stdlib/v1.11/LinearAlgebra/src/uniformscaling.jl:149</a></li> <li> +(A::<b>LinearAlgebra.LowerTriangular</b>, B::<b>LinearAlgebra.Bidiagonal</b>) in LinearAlgebra at <a href=\"file:///Users/julia/.julia/scratchspaces/a66863c6-20e8-4ff4-8a62-49f30b1f605e/agent-cache/default-honeycrisp-XG3Q6T6R70.0/build/default-honeycrisp-XG3Q6T6R70-0/julialang/julia-release-1-dot-11/usr/share/julia/stdlib/v1.11/LinearAlgebra/src/special.jl\" target=\"_blank\">/Users/melikeerbek/.julia/juliaup/julia-1.11.4+0.aarch64.apple.darwin14/share/julia/stdlib/v1.11/LinearAlgebra/src/special.jl:91</a></li> <li> +(A::<b>LinearAlgebra.LowerTriangular{<:Any, <:Union{LinearAlgebra.Adjoint{<:Any, <:StridedMatrix{T}}, LinearAlgebra.Transpose{<:Any, <:StridedMatrix{T}}, StridedArray{T, 2}} where T}</b>, B::<b>LinearAlgebra.UnitLowerTriangular{<:Any, <:Union{LinearAlgebra.Adjoint{<:Any, <:StridedMatrix{T}}, LinearAlgebra.Transpose{<:Any, <:StridedMatrix{T}}, StridedArray{T, 2}} where T}</b>) in LinearAlgebra at <a href=\"file:///Users/julia/.julia/scratchspaces/a66863c6-20e8-4ff4-8a62-49f30b1f605e/agent-cache/default-honeycrisp-XG3Q6T6R70.0/build/default-honeycrisp-XG3Q6T6R70-0/julialang/julia-release-1-dot-11/usr/share/julia/stdlib/v1.11/LinearAlgebra/src/triangular.jl\" target=\"_blank\">/Users/melikeerbek/.julia/juliaup/julia-1.11.4+0.aarch64.apple.darwin14/share/julia/stdlib/v1.11/LinearAlgebra/src/triangular.jl:870</a></li> <li> +(A::<b>LinearAlgebra.LowerTriangular{<:Any, <:Union{LinearAlgebra.Adjoint{<:Any, <:StridedMatrix{T}}, LinearAlgebra.Transpose{<:Any, <:StridedMatrix{T}}, StridedArray{T, 2}} where T}</b>, B::<b>LinearAlgebra.LowerTriangular{<:Any, <:Union{LinearAlgebra.Adjoint{<:Any, <:StridedMatrix{T}}, LinearAlgebra.Transpose{<:Any, <:StridedMatrix{T}}, StridedArray{T, 2}} where T}</b>) in LinearAlgebra at <a href=\"file:///Users/julia/.julia/scratchspaces/a66863c6-20e8-4ff4-8a62-49f30b1f605e/agent-cache/default-honeycrisp-XG3Q6T6R70.0/build/default-honeycrisp-XG3Q6T6R70-0/julialang/julia-release-1-dot-11/usr/share/julia/stdlib/v1.11/LinearAlgebra/src/triangular.jl\" target=\"_blank\">/Users/melikeerbek/.julia/juliaup/julia-1.11.4+0.aarch64.apple.darwin14/share/julia/stdlib/v1.11/LinearAlgebra/src/triangular.jl:870</a></li> <li> +(A::<b>LinearAlgebra.LowerTriangular</b>, B::<b>LinearAlgebra.UnitLowerTriangular</b>) in LinearAlgebra at <a href=\"file:///Users/julia/.julia/scratchspaces/a66863c6-20e8-4ff4-8a62-49f30b1f605e/agent-cache/default-honeycrisp-XG3Q6T6R70.0/build/default-honeycrisp-XG3Q6T6R70-0/julialang/julia-release-1-dot-11/usr/share/julia/stdlib/v1.11/LinearAlgebra/src/triangular.jl\" target=\"_blank\">/Users/melikeerbek/.julia/juliaup/julia-1.11.4+0.aarch64.apple.darwin14/share/julia/stdlib/v1.11/LinearAlgebra/src/triangular.jl:809</a></li> <li> +(A::<b>LinearAlgebra.LowerTriangular</b>, B::<b>LinearAlgebra.LowerTriangular</b>) in LinearAlgebra at <a href=\"file:///Users/julia/.julia/scratchspaces/a66863c6-20e8-4ff4-8a62-49f30b1f605e/agent-cache/default-honeycrisp-XG3Q6T6R70.0/build/default-honeycrisp-XG3Q6T6R70-0/julialang/julia-release-1-dot-11/usr/share/julia/stdlib/v1.11/LinearAlgebra/src/triangular.jl\" target=\"_blank\">/Users/melikeerbek/.julia/juliaup/julia-1.11.4+0.aarch64.apple.darwin14/share/julia/stdlib/v1.11/LinearAlgebra/src/triangular.jl:801</a></li> <li> +(B::<b>LinearAlgebra.SymTridiagonal</b>, A::<b>LinearAlgebra.Tridiagonal</b>) in LinearAlgebra</li> <li> +(x::<b>LinearAlgebra.SymTridiagonal</b>, H::<b>LinearAlgebra.UpperHessenberg</b>) in LinearAlgebra at <a href=\"file:///Users/julia/.julia/scratchspaces/a66863c6-20e8-4ff4-8a62-49f30b1f605e/agent-cache/default-honeycrisp-XG3Q6T6R70.0/build/default-honeycrisp-XG3Q6T6R70-0/julialang/julia-release-1-dot-11/usr/share/julia/stdlib/v1.11/LinearAlgebra/src/hessenberg.jl\" target=\"_blank\">/Users/melikeerbek/.julia/juliaup/julia-1.11.4+0.aarch64.apple.darwin14/share/julia/stdlib/v1.11/LinearAlgebra/src/hessenberg.jl:121</a></li> <li> +(A::<b>LinearAlgebra.SymTridiagonal</b>, B::<b>LinearAlgebra.Symmetric</b>) in LinearAlgebra at <a href=\"file:///Users/julia/.julia/scratchspaces/a66863c6-20e8-4ff4-8a62-49f30b1f605e/agent-cache/default-honeycrisp-XG3Q6T6R70.0/build/default-honeycrisp-XG3Q6T6R70-0/julialang/julia-release-1-dot-11/usr/share/julia/stdlib/v1.11/LinearAlgebra/src/symmetric.jl\" target=\"_blank\">/Users/melikeerbek/.julia/juliaup/julia-1.11.4+0.aarch64.apple.darwin14/share/julia/stdlib/v1.11/LinearAlgebra/src/symmetric.jl:541</a></li> <li> +(A::<b>LinearAlgebra.SymTridiagonal</b>, B::<b>LinearAlgebra.SymTridiagonal</b>) in LinearAlgebra at <a href=\"file:///Users/julia/.julia/scratchspaces/a66863c6-20e8-4ff4-8a62-49f30b1f605e/agent-cache/default-honeycrisp-XG3Q6T6R70.0/build/default-honeycrisp-XG3Q6T6R70-0/julialang/julia-release-1-dot-11/usr/share/julia/stdlib/v1.11/LinearAlgebra/src/tridiag.jl\" target=\"_blank\">/Users/melikeerbek/.julia/juliaup/julia-1.11.4+0.aarch64.apple.darwin14/share/julia/stdlib/v1.11/LinearAlgebra/src/tridiag.jl:215</a></li> <li> +(B::<b>LinearAlgebra.SymTridiagonal</b>, A::<b>LinearAlgebra.Bidiagonal</b>) in LinearAlgebra</li> <li> +(A::<b>LinearAlgebra.SymTridiagonal</b>, B::<b>LinearAlgebra.UniformScaling</b>) in LinearAlgebra at <a href=\"file:///Users/julia/.julia/scratchspaces/a66863c6-20e8-4ff4-8a62-49f30b1f605e/agent-cache/default-honeycrisp-XG3Q6T6R70.0/build/default-honeycrisp-XG3Q6T6R70-0/julialang/julia-release-1-dot-11/usr/share/julia/stdlib/v1.11/LinearAlgebra/src/special.jl\" target=\"_blank\">/Users/melikeerbek/.julia/juliaup/julia-1.11.4+0.aarch64.apple.darwin14/share/julia/stdlib/v1.11/LinearAlgebra/src/special.jl:235</a></li> <li> +(B::<b>LinearAlgebra.SymTridiagonal</b>, A::<b>LinearAlgebra.Diagonal</b>) in LinearAlgebra</li> <li> +(A::<b>LinearAlgebra.SymTridiagonal{var\"#s5028\", V} where {var\"#s5028\"<:Real, V<:AbstractVector{var\"#s5028\"}}</b>, B::<b>LinearAlgebra.Hermitian</b>) in LinearAlgebra at <a href=\"file:///Users/julia/.julia/scratchspaces/a66863c6-20e8-4ff4-8a62-49f30b1f605e/agent-cache/default-honeycrisp-XG3Q6T6R70.0/build/default-honeycrisp-XG3Q6T6R70-0/julialang/julia-release-1-dot-11/usr/share/julia/stdlib/v1.11/LinearAlgebra/src/symmetric.jl\" target=\"_blank\">/Users/melikeerbek/.julia/juliaup/julia-1.11.4+0.aarch64.apple.darwin14/share/julia/stdlib/v1.11/LinearAlgebra/src/symmetric.jl:543</a></li> <li> +(A::<b>LinearAlgebra.UnitUpperTriangular</b>, B::<b>LinearAlgebra.Bidiagonal</b>) in LinearAlgebra at <a href=\"file:///Users/julia/.julia/scratchspaces/a66863c6-20e8-4ff4-8a62-49f30b1f605e/agent-cache/default-honeycrisp-XG3Q6T6R70.0/build/default-honeycrisp-XG3Q6T6R70-0/julialang/julia-release-1-dot-11/usr/share/julia/stdlib/v1.11/LinearAlgebra/src/special.jl\" target=\"_blank\">/Users/melikeerbek/.julia/juliaup/julia-1.11.4+0.aarch64.apple.darwin14/share/julia/stdlib/v1.11/LinearAlgebra/src/special.jl:91</a></li> <li> +(x::<b>LinearAlgebra.UnitUpperTriangular</b>, H::<b>LinearAlgebra.UpperHessenberg</b>) in LinearAlgebra at <a href=\"file:///Users/julia/.julia/scratchspaces/a66863c6-20e8-4ff4-8a62-49f30b1f605e/agent-cache/default-honeycrisp-XG3Q6T6R70.0/build/default-honeycrisp-XG3Q6T6R70-0/julialang/julia-release-1-dot-11/usr/share/julia/stdlib/v1.11/LinearAlgebra/src/hessenberg.jl\" target=\"_blank\">/Users/melikeerbek/.julia/juliaup/julia-1.11.4+0.aarch64.apple.darwin14/share/julia/stdlib/v1.11/LinearAlgebra/src/hessenberg.jl:121</a></li> <li> +(UL::<b>LinearAlgebra.UnitUpperTriangular</b>, J::<b>LinearAlgebra.UniformScaling</b>) in LinearAlgebra at <a href=\"file:///Users/julia/.julia/scratchspaces/a66863c6-20e8-4ff4-8a62-49f30b1f605e/agent-cache/default-honeycrisp-XG3Q6T6R70.0/build/default-honeycrisp-XG3Q6T6R70-0/julialang/julia-release-1-dot-11/usr/share/julia/stdlib/v1.11/LinearAlgebra/src/uniformscaling.jl\" target=\"_blank\">/Users/melikeerbek/.julia/juliaup/julia-1.11.4+0.aarch64.apple.darwin14/share/julia/stdlib/v1.11/LinearAlgebra/src/uniformscaling.jl:181</a></li> <li> +(A::<b>LinearAlgebra.UnitUpperTriangular{<:Any, <:Union{LinearAlgebra.Adjoint{<:Any, <:StridedMatrix{T}}, LinearAlgebra.Transpose{<:Any, <:StridedMatrix{T}}, StridedArray{T, 2}} where T}</b>, B::<b>LinearAlgebra.UnitUpperTriangular{<:Any, <:Union{LinearAlgebra.Adjoint{<:Any, <:StridedMatrix{T}}, LinearAlgebra.Transpose{<:Any, <:StridedMatrix{T}}, StridedArray{T, 2}} where T}</b>) in LinearAlgebra at <a href=\"file:///Users/julia/.julia/scratchspaces/a66863c6-20e8-4ff4-8a62-49f30b1f605e/agent-cache/default-honeycrisp-XG3Q6T6R70.0/build/default-honeycrisp-XG3Q6T6R70-0/julialang/julia-release-1-dot-11/usr/share/julia/stdlib/v1.11/LinearAlgebra/src/triangular.jl\" target=\"_blank\">/Users/melikeerbek/.julia/juliaup/julia-1.11.4+0.aarch64.apple.darwin14/share/julia/stdlib/v1.11/LinearAlgebra/src/triangular.jl:873</a></li> <li> +(A::<b>LinearAlgebra.UnitUpperTriangular{<:Any, <:Union{LinearAlgebra.Adjoint{<:Any, <:StridedMatrix{T}}, LinearAlgebra.Transpose{<:Any, <:StridedMatrix{T}}, StridedArray{T, 2}} where T}</b>, B::<b>LinearAlgebra.UpperTriangular{<:Any, <:Union{LinearAlgebra.Adjoint{<:Any, <:StridedMatrix{T}}, LinearAlgebra.Transpose{<:Any, <:StridedMatrix{T}}, StridedArray{T, 2}} where T}</b>) in LinearAlgebra at <a href=\"file:///Users/julia/.julia/scratchspaces/a66863c6-20e8-4ff4-8a62-49f30b1f605e/agent-cache/default-honeycrisp-XG3Q6T6R70.0/build/default-honeycrisp-XG3Q6T6R70-0/julialang/julia-release-1-dot-11/usr/share/julia/stdlib/v1.11/LinearAlgebra/src/triangular.jl\" target=\"_blank\">/Users/melikeerbek/.julia/juliaup/julia-1.11.4+0.aarch64.apple.darwin14/share/julia/stdlib/v1.11/LinearAlgebra/src/triangular.jl:873</a></li> <li> +(A::<b>LinearAlgebra.UnitUpperTriangular</b>, B::<b>LinearAlgebra.UnitUpperTriangular</b>) in LinearAlgebra at <a href=\"file:///Users/julia/.julia/scratchspaces/a66863c6-20e8-4ff4-8a62-49f30b1f605e/agent-cache/default-honeycrisp-XG3Q6T6R70.0/build/default-honeycrisp-XG3Q6T6R70-0/julialang/julia-release-1-dot-11/usr/share/julia/stdlib/v1.11/LinearAlgebra/src/triangular.jl\" target=\"_blank\">/Users/melikeerbek/.julia/juliaup/julia-1.11.4+0.aarch64.apple.darwin14/share/julia/stdlib/v1.11/LinearAlgebra/src/triangular.jl:821</a></li> <li> +(A::<b>LinearAlgebra.UnitUpperTriangular</b>, B::<b>LinearAlgebra.UpperTriangular</b>) in LinearAlgebra at <a href=\"file:///Users/julia/.julia/scratchspaces/a66863c6-20e8-4ff4-8a62-49f30b1f605e/agent-cache/default-honeycrisp-XG3Q6T6R70.0/build/default-honeycrisp-XG3Q6T6R70-0/julialang/julia-release-1-dot-11/usr/share/julia/stdlib/v1.11/LinearAlgebra/src/triangular.jl\" target=\"_blank\">/Users/melikeerbek/.julia/juliaup/julia-1.11.4+0.aarch64.apple.darwin14/share/julia/stdlib/v1.11/LinearAlgebra/src/triangular.jl:813</a></li> <li> +(H::<b>LinearAlgebra.UpperHessenberg</b>, x::<b>LinearAlgebra.Tridiagonal</b>) in LinearAlgebra at <a href=\"file:///Users/julia/.julia/scratchspaces/a66863c6-20e8-4ff4-8a62-49f30b1f605e/agent-cache/default-honeycrisp-XG3Q6T6R70.0/build/default-honeycrisp-XG3Q6T6R70-0/julialang/julia-release-1-dot-11/usr/share/julia/stdlib/v1.11/LinearAlgebra/src/hessenberg.jl\" target=\"_blank\">/Users/melikeerbek/.julia/juliaup/julia-1.11.4+0.aarch64.apple.darwin14/share/julia/stdlib/v1.11/LinearAlgebra/src/hessenberg.jl:120</a></li> <li> +(H::<b>LinearAlgebra.UpperHessenberg</b>, x::<b>LinearAlgebra.UniformScaling</b>) in LinearAlgebra at <a href=\"file:///Users/julia/.julia/scratchspaces/a66863c6-20e8-4ff4-8a62-49f30b1f605e/agent-cache/default-honeycrisp-XG3Q6T6R70.0/build/default-honeycrisp-XG3Q6T6R70-0/julialang/julia-release-1-dot-11/usr/share/julia/stdlib/v1.11/LinearAlgebra/src/hessenberg.jl\" target=\"_blank\">/Users/melikeerbek/.julia/juliaup/julia-1.11.4+0.aarch64.apple.darwin14/share/julia/stdlib/v1.11/LinearAlgebra/src/hessenberg.jl:120</a></li> <li> +(A::<b>LinearAlgebra.UpperHessenberg</b>, B::<b>LinearAlgebra.UpperHessenberg</b>) in LinearAlgebra at <a href=\"file:///Users/julia/.julia/scratchspaces/a66863c6-20e8-4ff4-8a62-49f30b1f605e/agent-cache/default-honeycrisp-XG3Q6T6R70.0/build/default-honeycrisp-XG3Q6T6R70-0/julialang/julia-release-1-dot-11/usr/share/julia/stdlib/v1.11/LinearAlgebra/src/hessenberg.jl\" target=\"_blank\">/Users/melikeerbek/.julia/juliaup/julia-1.11.4+0.aarch64.apple.darwin14/share/julia/stdlib/v1.11/LinearAlgebra/src/hessenberg.jl:113</a></li> <li> +(H::<b>LinearAlgebra.UpperHessenberg</b>, x::<b>LinearAlgebra.SymTridiagonal</b>) in LinearAlgebra at <a href=\"file:///Users/julia/.julia/scratchspaces/a66863c6-20e8-4ff4-8a62-49f30b1f605e/agent-cache/default-honeycrisp-XG3Q6T6R70.0/build/default-honeycrisp-XG3Q6T6R70-0/julialang/julia-release-1-dot-11/usr/share/julia/stdlib/v1.11/LinearAlgebra/src/hessenberg.jl\" target=\"_blank\">/Users/melikeerbek/.julia/juliaup/julia-1.11.4+0.aarch64.apple.darwin14/share/julia/stdlib/v1.11/LinearAlgebra/src/hessenberg.jl:120</a></li> <li> +(H::<b>LinearAlgebra.UpperHessenberg</b>, x::<b>LinearAlgebra.Bidiagonal</b>) in LinearAlgebra at <a href=\"file:///Users/julia/.julia/scratchspaces/a66863c6-20e8-4ff4-8a62-49f30b1f605e/agent-cache/default-honeycrisp-XG3Q6T6R70.0/build/default-honeycrisp-XG3Q6T6R70-0/julialang/julia-release-1-dot-11/usr/share/julia/stdlib/v1.11/LinearAlgebra/src/hessenberg.jl\" target=\"_blank\">/Users/melikeerbek/.julia/juliaup/julia-1.11.4+0.aarch64.apple.darwin14/share/julia/stdlib/v1.11/LinearAlgebra/src/hessenberg.jl:120</a></li> <li> +(H::<b>LinearAlgebra.UpperHessenberg</b>, x::<b>LinearAlgebra.UnitUpperTriangular</b>) in LinearAlgebra at <a href=\"file:///Users/julia/.julia/scratchspaces/a66863c6-20e8-4ff4-8a62-49f30b1f605e/agent-cache/default-honeycrisp-XG3Q6T6R70.0/build/default-honeycrisp-XG3Q6T6R70-0/julialang/julia-release-1-dot-11/usr/share/julia/stdlib/v1.11/LinearAlgebra/src/hessenberg.jl\" target=\"_blank\">/Users/melikeerbek/.julia/juliaup/julia-1.11.4+0.aarch64.apple.darwin14/share/julia/stdlib/v1.11/LinearAlgebra/src/hessenberg.jl:120</a></li> <li> +(H::<b>LinearAlgebra.UpperHessenberg</b>, x::<b>LinearAlgebra.Diagonal</b>) in LinearAlgebra at <a href=\"file:///Users/julia/.julia/scratchspaces/a66863c6-20e8-4ff4-8a62-49f30b1f605e/agent-cache/default-honeycrisp-XG3Q6T6R70.0/build/default-honeycrisp-XG3Q6T6R70-0/julialang/julia-release-1-dot-11/usr/share/julia/stdlib/v1.11/LinearAlgebra/src/hessenberg.jl\" target=\"_blank\">/Users/melikeerbek/.julia/juliaup/julia-1.11.4+0.aarch64.apple.darwin14/share/julia/stdlib/v1.11/LinearAlgebra/src/hessenberg.jl:120</a></li> <li> +(H::<b>LinearAlgebra.UpperHessenberg</b>, x::<b>LinearAlgebra.UpperTriangular</b>) in LinearAlgebra at <a href=\"file:///Users/julia/.julia/scratchspaces/a66863c6-20e8-4ff4-8a62-49f30b1f605e/agent-cache/default-honeycrisp-XG3Q6T6R70.0/build/default-honeycrisp-XG3Q6T6R70-0/julialang/julia-release-1-dot-11/usr/share/julia/stdlib/v1.11/LinearAlgebra/src/hessenberg.jl\" target=\"_blank\">/Users/melikeerbek/.julia/juliaup/julia-1.11.4+0.aarch64.apple.darwin14/share/julia/stdlib/v1.11/LinearAlgebra/src/hessenberg.jl:120</a></li> <li> +(x::<b>Ptr</b>, y::<b>Integer</b>) in Base at <a href=\"https://github.com/JuliaLang/julia/tree/8561cc3d68d3551a5728b40f782c244834fd3348/base/pointer.jl#L316\" target=\"_blank\">pointer.jl:316</a></li> <li> +(A::<b>BitArray</b>, B::<b>BitArray</b>) in Base at <a href=\"https://github.com/JuliaLang/julia/tree/8561cc3d68d3551a5728b40f782c244834fd3348/base/bitarray.jl#L1184\" target=\"_blank\">bitarray.jl:1184</a></li> <li> +(x::<b>Dates.AbstractTime</b>, y::<b>Missing</b>) in Dates at <a href=\"file:///Users/julia/.julia/scratchspaces/a66863c6-20e8-4ff4-8a62-49f30b1f605e/agent-cache/default-honeycrisp-XG3Q6T6R70.0/build/default-honeycrisp-XG3Q6T6R70-0/julialang/julia-release-1-dot-11/usr/share/julia/stdlib/v1.11/Dates/src/arithmetic.jl\" target=\"_blank\">/Users/melikeerbek/.julia/juliaup/julia-1.11.4+0.aarch64.apple.darwin14/share/julia/stdlib/v1.11/Dates/src/arithmetic.jl:90</a></li> <li> +(A::<b>LinearAlgebra.Diagonal</b>, B::<b>LinearAlgebra.UniformScaling</b>) in LinearAlgebra at <a href=\"file:///Users/julia/.julia/scratchspaces/a66863c6-20e8-4ff4-8a62-49f30b1f605e/agent-cache/default-honeycrisp-XG3Q6T6R70.0/build/default-honeycrisp-XG3Q6T6R70-0/julialang/julia-release-1-dot-11/usr/share/julia/stdlib/v1.11/LinearAlgebra/src/special.jl\" target=\"_blank\">/Users/melikeerbek/.julia/juliaup/julia-1.11.4+0.aarch64.apple.darwin14/share/julia/stdlib/v1.11/LinearAlgebra/src/special.jl:245</a></li> <li> +(A::<b>LinearAlgebra.Diagonal</b>, B::<b>LinearAlgebra.Tridiagonal</b>) in LinearAlgebra at <a href=\"file:///Users/julia/.julia/scratchspaces/a66863c6-20e8-4ff4-8a62-49f30b1f605e/agent-cache/default-honeycrisp-XG3Q6T6R70.0/build/default-honeycrisp-XG3Q6T6R70-0/julialang/julia-release-1-dot-11/usr/share/julia/stdlib/v1.11/LinearAlgebra/src/special.jl\" target=\"_blank\">/Users/melikeerbek/.julia/juliaup/julia-1.11.4+0.aarch64.apple.darwin14/share/julia/stdlib/v1.11/LinearAlgebra/src/special.jl:185</a></li> <li> +(x::<b>LinearAlgebra.Diagonal</b>, H::<b>LinearAlgebra.UpperHessenberg</b>) in LinearAlgebra at <a href=\"file:///Users/julia/.julia/scratchspaces/a66863c6-20e8-4ff4-8a62-49f30b1f605e/agent-cache/default-honeycrisp-XG3Q6T6R70.0/build/default-honeycrisp-XG3Q6T6R70-0/julialang/julia-release-1-dot-11/usr/share/julia/stdlib/v1.11/LinearAlgebra/src/hessenberg.jl\" target=\"_blank\">/Users/melikeerbek/.julia/juliaup/julia-1.11.4+0.aarch64.apple.darwin14/share/julia/stdlib/v1.11/LinearAlgebra/src/hessenberg.jl:121</a></li> <li> +(A::<b>LinearAlgebra.Diagonal</b>, B::<b>LinearAlgebra.SymTridiagonal</b>) in LinearAlgebra at <a href=\"file:///Users/julia/.julia/scratchspaces/a66863c6-20e8-4ff4-8a62-49f30b1f605e/agent-cache/default-honeycrisp-XG3Q6T6R70.0/build/default-honeycrisp-XG3Q6T6R70-0/julialang/julia-release-1-dot-11/usr/share/julia/stdlib/v1.11/LinearAlgebra/src/special.jl\" target=\"_blank\">/Users/melikeerbek/.julia/juliaup/julia-1.11.4+0.aarch64.apple.darwin14/share/julia/stdlib/v1.11/LinearAlgebra/src/special.jl:164</a></li> <li> +(B::<b>LinearAlgebra.Diagonal</b>, A::<b>LinearAlgebra.Bidiagonal</b>) in LinearAlgebra</li> <li> +(D::<b>LinearAlgebra.Diagonal{var\"#s5030\", V} where {var\"#s5030\"<:Real, V<:AbstractVector{var\"#s5030\"}}</b>, H::<b>LinearAlgebra.Hermitian</b>) in LinearAlgebra at <a href=\"file:///Users/julia/.julia/scratchspaces/a66863c6-20e8-4ff4-8a62-49f30b1f605e/agent-cache/default-honeycrisp-XG3Q6T6R70.0/build/default-honeycrisp-XG3Q6T6R70-0/julialang/julia-release-1-dot-11/usr/share/julia/stdlib/v1.11/LinearAlgebra/src/special.jl\" target=\"_blank\">/Users/melikeerbek/.julia/juliaup/julia-1.11.4+0.aarch64.apple.darwin14/share/julia/stdlib/v1.11/LinearAlgebra/src/special.jl:276</a></li> <li> +(D::<b>LinearAlgebra.Diagonal{var\"#s5030\", V} where {var\"#s5030\"<:Number, V<:AbstractVector{var\"#s5030\"}}</b>, S::<b>LinearAlgebra.Symmetric</b>) in LinearAlgebra at <a href=\"file:///Users/julia/.julia/scratchspaces/a66863c6-20e8-4ff4-8a62-49f30b1f605e/agent-cache/default-honeycrisp-XG3Q6T6R70.0/build/default-honeycrisp-XG3Q6T6R70-0/julialang/julia-release-1-dot-11/usr/share/julia/stdlib/v1.11/LinearAlgebra/src/special.jl\" target=\"_blank\">/Users/melikeerbek/.julia/juliaup/julia-1.11.4+0.aarch64.apple.darwin14/share/julia/stdlib/v1.11/LinearAlgebra/src/special.jl:268</a></li> <li> +(Da::<b>LinearAlgebra.Diagonal</b>, Db::<b>LinearAlgebra.Diagonal</b>) in LinearAlgebra at <a href=\"file:///Users/julia/.julia/scratchspaces/a66863c6-20e8-4ff4-8a62-49f30b1f605e/agent-cache/default-honeycrisp-XG3Q6T6R70.0/build/default-honeycrisp-XG3Q6T6R70-0/julialang/julia-release-1-dot-11/usr/share/julia/stdlib/v1.11/LinearAlgebra/src/diagonal.jl\" target=\"_blank\">/Users/melikeerbek/.julia/juliaup/julia-1.11.4+0.aarch64.apple.darwin14/share/julia/stdlib/v1.11/LinearAlgebra/src/diagonal.jl:250</a></li> <li> +(A::<b>LinearAlgebra.UnitLowerTriangular</b>, B::<b>LinearAlgebra.Bidiagonal</b>) in LinearAlgebra at <a href=\"file:///Users/julia/.julia/scratchspaces/a66863c6-20e8-4ff4-8a62-49f30b1f605e/agent-cache/default-honeycrisp-XG3Q6T6R70.0/build/default-honeycrisp-XG3Q6T6R70-0/julialang/julia-release-1-dot-11/usr/share/julia/stdlib/v1.11/LinearAlgebra/src/special.jl\" target=\"_blank\">/Users/melikeerbek/.julia/juliaup/julia-1.11.4+0.aarch64.apple.darwin14/share/julia/stdlib/v1.11/LinearAlgebra/src/special.jl:91</a></li> <li> +(UL::<b>LinearAlgebra.UnitLowerTriangular</b>, J::<b>LinearAlgebra.UniformScaling</b>) in LinearAlgebra at <a href=\"file:///Users/julia/.julia/scratchspaces/a66863c6-20e8-4ff4-8a62-49f30b1f605e/agent-cache/default-honeycrisp-XG3Q6T6R70.0/build/default-honeycrisp-XG3Q6T6R70-0/julialang/julia-release-1-dot-11/usr/share/julia/stdlib/v1.11/LinearAlgebra/src/uniformscaling.jl\" target=\"_blank\">/Users/melikeerbek/.julia/juliaup/julia-1.11.4+0.aarch64.apple.darwin14/share/julia/stdlib/v1.11/LinearAlgebra/src/uniformscaling.jl:181</a></li> <li> +(A::<b>LinearAlgebra.UnitLowerTriangular{<:Any, <:Union{LinearAlgebra.Adjoint{<:Any, <:StridedMatrix{T}}, LinearAlgebra.Transpose{<:Any, <:StridedMatrix{T}}, StridedArray{T, 2}} where T}</b>, B::<b>LinearAlgebra.UnitLowerTriangular{<:Any, <:Union{LinearAlgebra.Adjoint{<:Any, <:StridedMatrix{T}}, LinearAlgebra.Transpose{<:Any, <:StridedMatrix{T}}, StridedArray{T, 2}} where T}</b>) in LinearAlgebra at <a href=\"file:///Users/julia/.julia/scratchspaces/a66863c6-20e8-4ff4-8a62-49f30b1f605e/agent-cache/default-honeycrisp-XG3Q6T6R70.0/build/default-honeycrisp-XG3Q6T6R70-0/julialang/julia-release-1-dot-11/usr/share/julia/stdlib/v1.11/LinearAlgebra/src/triangular.jl\" target=\"_blank\">/Users/melikeerbek/.julia/juliaup/julia-1.11.4+0.aarch64.apple.darwin14/share/julia/stdlib/v1.11/LinearAlgebra/src/triangular.jl:870</a></li> <li> +(A::<b>LinearAlgebra.UnitLowerTriangular{<:Any, <:Union{LinearAlgebra.Adjoint{<:Any, <:StridedMatrix{T}}, LinearAlgebra.Transpose{<:Any, <:StridedMatrix{T}}, StridedArray{T, 2}} where T}</b>, B::<b>LinearAlgebra.LowerTriangular{<:Any, <:Union{LinearAlgebra.Adjoint{<:Any, <:StridedMatrix{T}}, LinearAlgebra.Transpose{<:Any, <:StridedMatrix{T}}, StridedArray{T, 2}} where T}</b>) in LinearAlgebra at <a href=\"file:///Users/julia/.julia/scratchspaces/a66863c6-20e8-4ff4-8a62-49f30b1f605e/agent-cache/default-honeycrisp-XG3Q6T6R70.0/build/default-honeycrisp-XG3Q6T6R70-0/julialang/julia-release-1-dot-11/usr/share/julia/stdlib/v1.11/LinearAlgebra/src/triangular.jl\" target=\"_blank\">/Users/melikeerbek/.julia/juliaup/julia-1.11.4+0.aarch64.apple.darwin14/share/julia/stdlib/v1.11/LinearAlgebra/src/triangular.jl:870</a></li> <li> +(A::<b>LinearAlgebra.UnitLowerTriangular</b>, B::<b>LinearAlgebra.UnitLowerTriangular</b>) in LinearAlgebra at <a href=\"file:///Users/julia/.julia/scratchspaces/a66863c6-20e8-4ff4-8a62-49f30b1f605e/agent-cache/default-honeycrisp-XG3Q6T6R70.0/build/default-honeycrisp-XG3Q6T6R70-0/julialang/julia-release-1-dot-11/usr/share/julia/stdlib/v1.11/LinearAlgebra/src/triangular.jl\" target=\"_blank\">/Users/melikeerbek/.julia/juliaup/julia-1.11.4+0.aarch64.apple.darwin14/share/julia/stdlib/v1.11/LinearAlgebra/src/triangular.jl:825</a></li> <li> +(A::<b>LinearAlgebra.UnitLowerTriangular</b>, B::<b>LinearAlgebra.LowerTriangular</b>) in LinearAlgebra at <a href=\"file:///Users/julia/.julia/scratchspaces/a66863c6-20e8-4ff4-8a62-49f30b1f605e/agent-cache/default-honeycrisp-XG3Q6T6R70.0/build/default-honeycrisp-XG3Q6T6R70-0/julialang/julia-release-1-dot-11/usr/share/julia/stdlib/v1.11/LinearAlgebra/src/triangular.jl\" target=\"_blank\">/Users/melikeerbek/.julia/juliaup/julia-1.11.4+0.aarch64.apple.darwin14/share/julia/stdlib/v1.11/LinearAlgebra/src/triangular.jl:817</a></li> <li> +(S::<b>LinearAlgebra.Symmetric</b>, D::<b>LinearAlgebra.Diagonal{var\"#s5030\", V} where {var\"#s5030\"<:Number, V<:AbstractVector{var\"#s5030\"}}</b>) in LinearAlgebra at <a href=\"file:///Users/julia/.julia/scratchspaces/a66863c6-20e8-4ff4-8a62-49f30b1f605e/agent-cache/default-honeycrisp-XG3Q6T6R70.0/build/default-honeycrisp-XG3Q6T6R70-0/julialang/julia-release-1-dot-11/usr/share/julia/stdlib/v1.11/LinearAlgebra/src/special.jl\" target=\"_blank\">/Users/melikeerbek/.julia/juliaup/julia-1.11.4+0.aarch64.apple.darwin14/share/julia/stdlib/v1.11/LinearAlgebra/src/special.jl:272</a></li> <li> +(A::<b>LinearAlgebra.Symmetric</b>, B::<b>LinearAlgebra.SymTridiagonal</b>) in LinearAlgebra at <a href=\"file:///Users/julia/.julia/scratchspaces/a66863c6-20e8-4ff4-8a62-49f30b1f605e/agent-cache/default-honeycrisp-XG3Q6T6R70.0/build/default-honeycrisp-XG3Q6T6R70-0/julialang/julia-release-1-dot-11/usr/share/julia/stdlib/v1.11/LinearAlgebra/src/symmetric.jl\" target=\"_blank\">/Users/melikeerbek/.julia/juliaup/julia-1.11.4+0.aarch64.apple.darwin14/share/julia/stdlib/v1.11/LinearAlgebra/src/symmetric.jl:542</a></li> <li> +(A::<b>LinearAlgebra.Symmetric{var\"#s5029\", S} where {var\"#s5029\"<:Real, S<:(AbstractMatrix{<:var\"#s5029\"})}</b>, B::<b>LinearAlgebra.Hermitian</b>) in LinearAlgebra at <a href=\"file:///Users/julia/.julia/scratchspaces/a66863c6-20e8-4ff4-8a62-49f30b1f605e/agent-cache/default-honeycrisp-XG3Q6T6R70.0/build/default-honeycrisp-XG3Q6T6R70-0/julialang/julia-release-1-dot-11/usr/share/julia/stdlib/v1.11/LinearAlgebra/src/symmetric.jl\" target=\"_blank\">/Users/melikeerbek/.julia/juliaup/julia-1.11.4+0.aarch64.apple.darwin14/share/julia/stdlib/v1.11/LinearAlgebra/src/symmetric.jl:540</a></li> <li> +(A::<b>LinearAlgebra.Symmetric</b>, B::<b>LinearAlgebra.Symmetric</b>) in LinearAlgebra at <a href=\"file:///Users/julia/.julia/scratchspaces/a66863c6-20e8-4ff4-8a62-49f30b1f605e/agent-cache/default-honeycrisp-XG3Q6T6R70.0/build/default-honeycrisp-XG3Q6T6R70-0/julialang/julia-release-1-dot-11/usr/share/julia/stdlib/v1.11/LinearAlgebra/src/symmetric.jl\" target=\"_blank\">/Users/melikeerbek/.julia/juliaup/julia-1.11.4+0.aarch64.apple.darwin14/share/julia/stdlib/v1.11/LinearAlgebra/src/symmetric.jl:531</a></li> <li> +(r1::<b>StepRangeLen{T, R}</b>, r2::<b>StepRangeLen{T, R}</b>)<i> where {R<:Base.TwicePrecision, T}</i> in Base at <a href=\"https://github.com/JuliaLang/julia/tree/8561cc3d68d3551a5728b40f782c244834fd3348/base/twiceprecision.jl#L624\" target=\"_blank\">twiceprecision.jl:624</a></li> <li> +(r1::<b>StepRangeLen{T, S}</b>, r2::<b>StepRangeLen{T, S}</b>)<i> where {T, S}</i> in Base at <a href=\"https://github.com/JuliaLang/julia/tree/8561cc3d68d3551a5728b40f782c244834fd3348/base/range.jl#L1464\" target=\"_blank\">range.jl:1464</a></li> <li> +(F::<b>LinearAlgebra.Hessenberg</b>, J::<b>LinearAlgebra.UniformScaling</b>) in LinearAlgebra at <a href=\"file:///Users/julia/.julia/scratchspaces/a66863c6-20e8-4ff4-8a62-49f30b1f605e/agent-cache/default-honeycrisp-XG3Q6T6R70.0/build/default-honeycrisp-XG3Q6T6R70-0/julialang/julia-release-1-dot-11/usr/share/julia/stdlib/v1.11/LinearAlgebra/src/hessenberg.jl\" target=\"_blank\">/Users/melikeerbek/.julia/juliaup/julia-1.11.4+0.aarch64.apple.darwin14/share/julia/stdlib/v1.11/LinearAlgebra/src/hessenberg.jl:561</a></li> <li> +(index1::<b>CartesianIndex{N}</b>, index2::<b>CartesianIndex{N}</b>)<i> where N</i> in Base.IteratorsMD at <a href=\"https://github.com/JuliaLang/julia/tree/8561cc3d68d3551a5728b40f782c244834fd3348/base/multidimensional.jl#L120\" target=\"_blank\">multidimensional.jl:120</a></li> <li> +(z::<b>Complex</b>, x::<b>Real</b>) in Base at <a href=\"https://github.com/JuliaLang/julia/tree/8561cc3d68d3551a5728b40f782c244834fd3348/base/complex.jl#L335\" target=\"_blank\">complex.jl:335</a></li> <li> +(z::<b>Complex</b>, w::<b>Complex</b>) in Base at <a href=\"https://github.com/JuliaLang/julia/tree/8561cc3d68d3551a5728b40f782c244834fd3348/base/complex.jl#L297\" target=\"_blank\">complex.jl:297</a></li> <li> +(z::<b>Complex</b>) in Base at <a href=\"https://github.com/JuliaLang/julia/tree/8561cc3d68d3551a5728b40f782c244834fd3348/base/complex.jl#L295\" target=\"_blank\">complex.jl:295</a></li> <li> +(a::<b>Dates.TimeType</b>, b::<b>Dates.Period</b>, c::<b>Dates.Period</b>) in Dates at <a href=\"file:///Users/julia/.julia/scratchspaces/a66863c6-20e8-4ff4-8a62-49f30b1f605e/agent-cache/default-honeycrisp-XG3Q6T6R70.0/build/default-honeycrisp-XG3Q6T6R70-0/julialang/julia-release-1-dot-11/usr/share/julia/stdlib/v1.11/Dates/src/periods.jl\" target=\"_blank\">/Users/melikeerbek/.julia/juliaup/julia-1.11.4+0.aarch64.apple.darwin14/share/julia/stdlib/v1.11/Dates/src/periods.jl:354</a></li> <li> +(a::<b>Dates.TimeType</b>, b::<b>Dates.Period</b>, c::<b>Dates.Period</b>, d::<b>Dates.Period...</b>) in Dates at <a href=\"file:///Users/julia/.julia/scratchspaces/a66863c6-20e8-4ff4-8a62-49f30b1f605e/agent-cache/default-honeycrisp-XG3Q6T6R70.0/build/default-honeycrisp-XG3Q6T6R70-0/julialang/julia-release-1-dot-11/usr/share/julia/stdlib/v1.11/Dates/src/periods.jl\" target=\"_blank\">/Users/melikeerbek/.julia/juliaup/julia-1.11.4+0.aarch64.apple.darwin14/share/julia/stdlib/v1.11/Dates/src/periods.jl:355</a></li> <li> +(x::<b>Dates.TimeType</b>, y::<b>Dates.CompoundPeriod</b>) in Dates at <a href=\"file:///Users/julia/.julia/scratchspaces/a66863c6-20e8-4ff4-8a62-49f30b1f605e/agent-cache/default-honeycrisp-XG3Q6T6R70.0/build/default-honeycrisp-XG3Q6T6R70-0/julialang/julia-release-1-dot-11/usr/share/julia/stdlib/v1.11/Dates/src/periods.jl\" target=\"_blank\">/Users/melikeerbek/.julia/juliaup/julia-1.11.4+0.aarch64.apple.darwin14/share/julia/stdlib/v1.11/Dates/src/periods.jl:357</a></li> <li> +(x::<b>Dates.TimeType</b>) in Dates at <a href=\"file:///Users/julia/.julia/scratchspaces/a66863c6-20e8-4ff4-8a62-49f30b1f605e/agent-cache/default-honeycrisp-XG3Q6T6R70.0/build/default-honeycrisp-XG3Q6T6R70-0/julialang/julia-release-1-dot-11/usr/share/julia/stdlib/v1.11/Dates/src/arithmetic.jl\" target=\"_blank\">/Users/melikeerbek/.julia/juliaup/julia-1.11.4+0.aarch64.apple.darwin14/share/julia/stdlib/v1.11/Dates/src/arithmetic.jl:8</a></li> <li> +(y::<b>Dates.TimeType</b>, x::<b>StridedArray{<:Union{Dates.CompoundPeriod, Dates.Period}}</b>) in Dates at <a href=\"file:///Users/julia/.julia/scratchspaces/a66863c6-20e8-4ff4-8a62-49f30b1f605e/agent-cache/default-honeycrisp-XG3Q6T6R70.0/build/default-honeycrisp-XG3Q6T6R70-0/julialang/julia-release-1-dot-11/usr/share/julia/stdlib/v1.11/Dates/src/deprecated.jl\" target=\"_blank\">/Users/melikeerbek/.julia/juliaup/julia-1.11.4+0.aarch64.apple.darwin14/share/julia/stdlib/v1.11/Dates/src/deprecated.jl:18</a></li> <li> +(r::<b>AbstractRange{<:Dates.TimeType}</b>, x::<b>Dates.Period</b>) in Dates at <a href=\"file:///Users/julia/.julia/scratchspaces/a66863c6-20e8-4ff4-8a62-49f30b1f605e/agent-cache/default-honeycrisp-XG3Q6T6R70.0/build/default-honeycrisp-XG3Q6T6R70-0/julialang/julia-release-1-dot-11/usr/share/julia/stdlib/v1.11/Dates/src/ranges.jl\" target=\"_blank\">/Users/melikeerbek/.julia/juliaup/julia-1.11.4+0.aarch64.apple.darwin14/share/julia/stdlib/v1.11/Dates/src/ranges.jl:65</a></li> <li> +(A::<b>LinearAlgebra.Tridiagonal</b>, B::<b>LinearAlgebra.UniformScaling</b>) in LinearAlgebra at <a href=\"file:///Users/julia/.julia/scratchspaces/a66863c6-20e8-4ff4-8a62-49f30b1f605e/agent-cache/default-honeycrisp-XG3Q6T6R70.0/build/default-honeycrisp-XG3Q6T6R70-0/julialang/julia-release-1-dot-11/usr/share/julia/stdlib/v1.11/LinearAlgebra/src/special.jl\" target=\"_blank\">/Users/melikeerbek/.julia/juliaup/julia-1.11.4+0.aarch64.apple.darwin14/share/julia/stdlib/v1.11/LinearAlgebra/src/special.jl:230</a></li> <li> +(B::<b>LinearAlgebra.Tridiagonal</b>, A::<b>LinearAlgebra.Bidiagonal</b>) in LinearAlgebra</li> <li> +(B::<b>LinearAlgebra.Tridiagonal</b>, A::<b>LinearAlgebra.Diagonal</b>) in LinearAlgebra</li> <li> +(A::<b>LinearAlgebra.Tridiagonal</b>, B::<b>LinearAlgebra.SymTridiagonal</b>) in LinearAlgebra at <a href=\"file:///Users/julia/.julia/scratchspaces/a66863c6-20e8-4ff4-8a62-49f30b1f605e/agent-cache/default-honeycrisp-XG3Q6T6R70.0/build/default-honeycrisp-XG3Q6T6R70-0/julialang/julia-release-1-dot-11/usr/share/julia/stdlib/v1.11/LinearAlgebra/src/special.jl\" target=\"_blank\">/Users/melikeerbek/.julia/juliaup/julia-1.11.4+0.aarch64.apple.darwin14/share/julia/stdlib/v1.11/LinearAlgebra/src/special.jl:181</a></li> <li> +(x::<b>LinearAlgebra.Tridiagonal</b>, H::<b>LinearAlgebra.UpperHessenberg</b>) in LinearAlgebra at <a href=\"file:///Users/julia/.julia/scratchspaces/a66863c6-20e8-4ff4-8a62-49f30b1f605e/agent-cache/default-honeycrisp-XG3Q6T6R70.0/build/default-honeycrisp-XG3Q6T6R70-0/julialang/julia-release-1-dot-11/usr/share/julia/stdlib/v1.11/LinearAlgebra/src/hessenberg.jl\" target=\"_blank\">/Users/melikeerbek/.julia/juliaup/julia-1.11.4+0.aarch64.apple.darwin14/share/julia/stdlib/v1.11/LinearAlgebra/src/hessenberg.jl:121</a></li> <li> +(A::<b>LinearAlgebra.Tridiagonal</b>, B::<b>LinearAlgebra.Tridiagonal</b>) in LinearAlgebra at <a href=\"file:///Users/julia/.julia/scratchspaces/a66863c6-20e8-4ff4-8a62-49f30b1f605e/agent-cache/default-honeycrisp-XG3Q6T6R70.0/build/default-honeycrisp-XG3Q6T6R70-0/julialang/julia-release-1-dot-11/usr/share/julia/stdlib/v1.11/LinearAlgebra/src/tridiag.jl\" target=\"_blank\">/Users/melikeerbek/.julia/juliaup/julia-1.11.4+0.aarch64.apple.darwin14/share/julia/stdlib/v1.11/LinearAlgebra/src/tridiag.jl:784</a></li> <li> +(A::<b>LinearAlgebra.UpperTriangular{<:Any, <:Union{LinearAlgebra.Adjoint{<:Any, <:StridedMatrix{T}}, LinearAlgebra.Transpose{<:Any, <:StridedMatrix{T}}, StridedArray{T, 2}} where T}</b>, B::<b>LinearAlgebra.UnitUpperTriangular{<:Any, <:Union{LinearAlgebra.Adjoint{<:Any, <:StridedMatrix{T}}, LinearAlgebra.Transpose{<:Any, <:StridedMatrix{T}}, StridedArray{T, 2}} where T}</b>) in LinearAlgebra at <a href=\"file:///Users/julia/.julia/scratchspaces/a66863c6-20e8-4ff4-8a62-49f30b1f605e/agent-cache/default-honeycrisp-XG3Q6T6R70.0/build/default-honeycrisp-XG3Q6T6R70-0/julialang/julia-release-1-dot-11/usr/share/julia/stdlib/v1.11/LinearAlgebra/src/triangular.jl\" target=\"_blank\">/Users/melikeerbek/.julia/juliaup/julia-1.11.4+0.aarch64.apple.darwin14/share/julia/stdlib/v1.11/LinearAlgebra/src/triangular.jl:873</a></li> <li> +(A::<b>LinearAlgebra.UpperTriangular{<:Any, <:Union{LinearAlgebra.Adjoint{<:Any, <:StridedMatrix{T}}, LinearAlgebra.Transpose{<:Any, <:StridedMatrix{T}}, StridedArray{T, 2}} where T}</b>, B::<b>LinearAlgebra.UpperTriangular{<:Any, <:Union{LinearAlgebra.Adjoint{<:Any, <:StridedMatrix{T}}, LinearAlgebra.Transpose{<:Any, <:StridedMatrix{T}}, StridedArray{T, 2}} where T}</b>) in LinearAlgebra at <a href=\"file:///Users/julia/.julia/scratchspaces/a66863c6-20e8-4ff4-8a62-49f30b1f605e/agent-cache/default-honeycrisp-XG3Q6T6R70.0/build/default-honeycrisp-XG3Q6T6R70-0/julialang/julia-release-1-dot-11/usr/share/julia/stdlib/v1.11/LinearAlgebra/src/triangular.jl\" target=\"_blank\">/Users/melikeerbek/.julia/juliaup/julia-1.11.4+0.aarch64.apple.darwin14/share/julia/stdlib/v1.11/LinearAlgebra/src/triangular.jl:873</a></li> <li> +(A::<b>LinearAlgebra.UpperTriangular</b>, B::<b>LinearAlgebra.UnitUpperTriangular</b>) in LinearAlgebra at <a href=\"file:///Users/julia/.julia/scratchspaces/a66863c6-20e8-4ff4-8a62-49f30b1f605e/agent-cache/default-honeycrisp-XG3Q6T6R70.0/build/default-honeycrisp-XG3Q6T6R70-0/julialang/julia-release-1-dot-11/usr/share/julia/stdlib/v1.11/LinearAlgebra/src/triangular.jl\" target=\"_blank\">/Users/melikeerbek/.julia/juliaup/julia-1.11.4+0.aarch64.apple.darwin14/share/julia/stdlib/v1.11/LinearAlgebra/src/triangular.jl:805</a></li> <li> +(A::<b>LinearAlgebra.UpperTriangular</b>, B::<b>LinearAlgebra.UpperTriangular</b>) in LinearAlgebra at <a href=\"file:///Users/julia/.julia/scratchspaces/a66863c6-20e8-4ff4-8a62-49f30b1f605e/agent-cache/default-honeycrisp-XG3Q6T6R70.0/build/default-honeycrisp-XG3Q6T6R70-0/julialang/julia-release-1-dot-11/usr/share/julia/stdlib/v1.11/LinearAlgebra/src/triangular.jl\" target=\"_blank\">/Users/melikeerbek/.julia/juliaup/julia-1.11.4+0.aarch64.apple.darwin14/share/julia/stdlib/v1.11/LinearAlgebra/src/triangular.jl:797</a></li> <li> +(A::<b>Union{LinearAlgebra.LowerTriangular{T, S}, LinearAlgebra.UnitLowerTriangular{T, S}, LinearAlgebra.UnitUpperTriangular{T, S}, LinearAlgebra.UpperTriangular{T, S}} where {T, S}</b>, B::<b>Union{LinearAlgebra.LowerTriangular{T, S}, LinearAlgebra.UnitLowerTriangular{T, S}, LinearAlgebra.UnitUpperTriangular{T, S}, LinearAlgebra.UpperTriangular{T, S}} where {T, S}</b>) in LinearAlgebra at <a href=\"file:///Users/julia/.julia/scratchspaces/a66863c6-20e8-4ff4-8a62-49f30b1f605e/agent-cache/default-honeycrisp-XG3Q6T6R70.0/build/default-honeycrisp-XG3Q6T6R70-0/julialang/julia-release-1-dot-11/usr/share/julia/stdlib/v1.11/LinearAlgebra/src/triangular.jl\" target=\"_blank\">/Users/melikeerbek/.julia/juliaup/julia-1.11.4+0.aarch64.apple.darwin14/share/julia/stdlib/v1.11/LinearAlgebra/src/triangular.jl:829</a></li> <li> +(A::<b>LinearAlgebra.AbstractTriangular</b>, B::<b>LinearAlgebra.AbstractTriangular</b>) in LinearAlgebra at <a href=\"file:///Users/julia/.julia/scratchspaces/a66863c6-20e8-4ff4-8a62-49f30b1f605e/agent-cache/default-honeycrisp-XG3Q6T6R70.0/build/default-honeycrisp-XG3Q6T6R70-0/julialang/julia-release-1-dot-11/usr/share/julia/stdlib/v1.11/LinearAlgebra/src/triangular.jl\" target=\"_blank\">/Users/melikeerbek/.julia/juliaup/julia-1.11.4+0.aarch64.apple.darwin14/share/julia/stdlib/v1.11/LinearAlgebra/src/triangular.jl:830</a></li> <li> +(A::<b>LinearAlgebra.Bidiagonal</b>, B::<b>LinearAlgebra.Diagonal</b>) in LinearAlgebra at <a href=\"file:///Users/julia/.julia/scratchspaces/a66863c6-20e8-4ff4-8a62-49f30b1f605e/agent-cache/default-honeycrisp-XG3Q6T6R70.0/build/default-honeycrisp-XG3Q6T6R70-0/julialang/julia-release-1-dot-11/usr/share/julia/stdlib/v1.11/LinearAlgebra/src/special.jl\" target=\"_blank\">/Users/melikeerbek/.julia/juliaup/julia-1.11.4+0.aarch64.apple.darwin14/share/julia/stdlib/v1.11/LinearAlgebra/src/special.jl:149</a></li> <li> +(A::<b>LinearAlgebra.Bidiagonal</b>, B::<b>LinearAlgebra.UpperTriangular</b>) in LinearAlgebra at <a href=\"file:///Users/julia/.julia/scratchspaces/a66863c6-20e8-4ff4-8a62-49f30b1f605e/agent-cache/default-honeycrisp-XG3Q6T6R70.0/build/default-honeycrisp-XG3Q6T6R70-0/julialang/julia-release-1-dot-11/usr/share/julia/stdlib/v1.11/LinearAlgebra/src/special.jl\" target=\"_blank\">/Users/melikeerbek/.julia/juliaup/julia-1.11.4+0.aarch64.apple.darwin14/share/julia/stdlib/v1.11/LinearAlgebra/src/special.jl:99</a></li> <li> +(A::<b>LinearAlgebra.Bidiagonal</b>, B::<b>LinearAlgebra.Tridiagonal</b>) in LinearAlgebra at <a href=\"file:///Users/julia/.julia/scratchspaces/a66863c6-20e8-4ff4-8a62-49f30b1f605e/agent-cache/default-honeycrisp-XG3Q6T6R70.0/build/default-honeycrisp-XG3Q6T6R70-0/julialang/julia-release-1-dot-11/usr/share/julia/stdlib/v1.11/LinearAlgebra/src/special.jl\" target=\"_blank\">/Users/melikeerbek/.julia/juliaup/julia-1.11.4+0.aarch64.apple.darwin14/share/julia/stdlib/v1.11/LinearAlgebra/src/special.jl:200</a></li> <li> +(x::<b>LinearAlgebra.Bidiagonal</b>, H::<b>LinearAlgebra.UpperHessenberg</b>) in LinearAlgebra at <a href=\"file:///Users/julia/.julia/scratchspaces/a66863c6-20e8-4ff4-8a62-49f30b1f605e/agent-cache/default-honeycrisp-XG3Q6T6R70.0/build/default-honeycrisp-XG3Q6T6R70-0/julialang/julia-release-1-dot-11/usr/share/julia/stdlib/v1.11/LinearAlgebra/src/hessenberg.jl\" target=\"_blank\">/Users/melikeerbek/.julia/juliaup/julia-1.11.4+0.aarch64.apple.darwin14/share/julia/stdlib/v1.11/LinearAlgebra/src/hessenberg.jl:121</a></li> <li> +(A::<b>LinearAlgebra.Bidiagonal</b>, B::<b>LinearAlgebra.LowerTriangular</b>) in LinearAlgebra at <a href=\"file:///Users/julia/.julia/scratchspaces/a66863c6-20e8-4ff4-8a62-49f30b1f605e/agent-cache/default-honeycrisp-XG3Q6T6R70.0/build/default-honeycrisp-XG3Q6T6R70-0/julialang/julia-release-1-dot-11/usr/share/julia/stdlib/v1.11/LinearAlgebra/src/special.jl\" target=\"_blank\">/Users/melikeerbek/.julia/juliaup/julia-1.11.4+0.aarch64.apple.darwin14/share/julia/stdlib/v1.11/LinearAlgebra/src/special.jl:99</a></li> <li> +(A::<b>LinearAlgebra.Bidiagonal</b>, B::<b>LinearAlgebra.SymTridiagonal</b>) in LinearAlgebra at <a href=\"file:///Users/julia/.julia/scratchspaces/a66863c6-20e8-4ff4-8a62-49f30b1f605e/agent-cache/default-honeycrisp-XG3Q6T6R70.0/build/default-honeycrisp-XG3Q6T6R70-0/julialang/julia-release-1-dot-11/usr/share/julia/stdlib/v1.11/LinearAlgebra/src/special.jl\" target=\"_blank\">/Users/melikeerbek/.julia/juliaup/julia-1.11.4+0.aarch64.apple.darwin14/share/julia/stdlib/v1.11/LinearAlgebra/src/special.jl:215</a></li> <li> +(A::<b>LinearAlgebra.Bidiagonal</b>, B::<b>LinearAlgebra.Bidiagonal</b>) in LinearAlgebra at <a href=\"file:///Users/julia/.julia/scratchspaces/a66863c6-20e8-4ff4-8a62-49f30b1f605e/agent-cache/default-honeycrisp-XG3Q6T6R70.0/build/default-honeycrisp-XG3Q6T6R70-0/julialang/julia-release-1-dot-11/usr/share/julia/stdlib/v1.11/LinearAlgebra/src/bidiag.jl\" target=\"_blank\">/Users/melikeerbek/.julia/juliaup/julia-1.11.4+0.aarch64.apple.darwin14/share/julia/stdlib/v1.11/LinearAlgebra/src/bidiag.jl:396</a></li> <li> +(A::<b>LinearAlgebra.Bidiagonal</b>, B::<b>LinearAlgebra.UnitUpperTriangular</b>) in LinearAlgebra at <a href=\"file:///Users/julia/.julia/scratchspaces/a66863c6-20e8-4ff4-8a62-49f30b1f605e/agent-cache/default-honeycrisp-XG3Q6T6R70.0/build/default-honeycrisp-XG3Q6T6R70-0/julialang/julia-release-1-dot-11/usr/share/julia/stdlib/v1.11/LinearAlgebra/src/special.jl\" target=\"_blank\">/Users/melikeerbek/.julia/juliaup/julia-1.11.4+0.aarch64.apple.darwin14/share/julia/stdlib/v1.11/LinearAlgebra/src/special.jl:99</a></li> <li> +(A::<b>LinearAlgebra.Bidiagonal</b>, B::<b>LinearAlgebra.UnitLowerTriangular</b>) in LinearAlgebra at <a href=\"file:///Users/julia/.julia/scratchspaces/a66863c6-20e8-4ff4-8a62-49f30b1f605e/agent-cache/default-honeycrisp-XG3Q6T6R70.0/build/default-honeycrisp-XG3Q6T6R70-0/julialang/julia-release-1-dot-11/usr/share/julia/stdlib/v1.11/LinearAlgebra/src/special.jl\" target=\"_blank\">/Users/melikeerbek/.julia/juliaup/julia-1.11.4+0.aarch64.apple.darwin14/share/julia/stdlib/v1.11/LinearAlgebra/src/special.jl:99</a></li> <li> +(A::<b>LinearAlgebra.Bidiagonal</b>, B::<b>LinearAlgebra.UniformScaling</b>) in LinearAlgebra at <a href=\"file:///Users/julia/.julia/scratchspaces/a66863c6-20e8-4ff4-8a62-49f30b1f605e/agent-cache/default-honeycrisp-XG3Q6T6R70.0/build/default-honeycrisp-XG3Q6T6R70-0/julialang/julia-release-1-dot-11/usr/share/julia/stdlib/v1.11/LinearAlgebra/src/special.jl\" target=\"_blank\">/Users/melikeerbek/.julia/juliaup/julia-1.11.4+0.aarch64.apple.darwin14/share/julia/stdlib/v1.11/LinearAlgebra/src/special.jl:240</a></li> <li> +(x::<b>Integer</b>, y::<b>AbstractChar</b>) in Base at <a href=\"https://github.com/JuliaLang/julia/tree/8561cc3d68d3551a5728b40f782c244834fd3348/base/char.jl#L247\" target=\"_blank\">char.jl:247</a></li> <li> +(y::<b>Integer</b>, x::<b>Rational</b>) in Base at <a href=\"https://github.com/JuliaLang/julia/tree/8561cc3d68d3551a5728b40f782c244834fd3348/base/rational.jl#L380\" target=\"_blank\">rational.jl:380</a></li> <li> +(x::<b>Integer</b>, y::<b>Ptr</b>) in Base at <a href=\"https://github.com/JuliaLang/julia/tree/8561cc3d68d3551a5728b40f782c244834fd3348/base/pointer.jl#L318\" target=\"_blank\">pointer.jl:318</a></li> <li> +(c::<b>Union{Int16, Int32, Int64, Int8}</b>, x::<b>BigInt</b>) in Base.GMP at <a href=\"https://github.com/JuliaLang/julia/tree/8561cc3d68d3551a5728b40f782c244834fd3348/base/gmp.jl#L551\" target=\"_blank\">gmp.jl:551</a></li> <li> +(c::<b>Union{UInt16, UInt32, UInt64, UInt8}</b>, x::<b>BigInt</b>) in Base.GMP at <a href=\"https://github.com/JuliaLang/julia/tree/8561cc3d68d3551a5728b40f782c244834fd3348/base/gmp.jl#L545\" target=\"_blank\">gmp.jl:545</a></li> <li> +(x::<b>T</b>, y::<b>T</b>)<i> where T<:Union{Int128, Int16, Int32, Int64, Int8, UInt128, UInt16, UInt32, UInt64, UInt8}</i> in Base at <a href=\"https://github.com/JuliaLang/julia/tree/8561cc3d68d3551a5728b40f782c244834fd3348/base/int.jl#L87\" target=\"_blank\">int.jl:87</a></li> <li> +(a::<b>Integer</b>, b::<b>Integer</b>) in Base at <a href=\"https://github.com/JuliaLang/julia/tree/8561cc3d68d3551a5728b40f782c244834fd3348/base/int.jl#L1009\" target=\"_blank\">int.jl:1009</a></li> <li> +(y::<b>AbstractFloat</b>, x::<b>Bool</b>) in Base at <a href=\"https://github.com/JuliaLang/julia/tree/8561cc3d68d3551a5728b40f782c244834fd3348/base/bool.jl#L176\" target=\"_blank\">bool.jl:176</a></li> <li> +(x::<b>Number</b>, J::<b>LinearAlgebra.UniformScaling</b>) in LinearAlgebra at <a href=\"file:///Users/julia/.julia/scratchspaces/a66863c6-20e8-4ff4-8a62-49f30b1f605e/agent-cache/default-honeycrisp-XG3Q6T6R70.0/build/default-honeycrisp-XG3Q6T6R70-0/julialang/julia-release-1-dot-11/usr/share/julia/stdlib/v1.11/LinearAlgebra/src/uniformscaling.jl\" target=\"_blank\">/Users/melikeerbek/.julia/juliaup/julia-1.11.4+0.aarch64.apple.darwin14/share/julia/stdlib/v1.11/LinearAlgebra/src/uniformscaling.jl:145</a></li> <li> +(::<b>Number</b>, ::<b>Missing</b>) in Base at <a href=\"https://github.com/JuliaLang/julia/tree/8561cc3d68d3551a5728b40f782c244834fd3348/base/missing.jl#L124\" target=\"_blank\">missing.jl:124</a></li> <li> +(x::<b>Number</b>, y::<b>Base.TwicePrecision</b>) in Base at <a href=\"https://github.com/JuliaLang/julia/tree/8561cc3d68d3551a5728b40f782c244834fd3348/base/twiceprecision.jl#L292\" target=\"_blank\">twiceprecision.jl:292</a></li> <li> +(x::<b>Rational</b>) in Base at <a href=\"https://github.com/JuliaLang/julia/tree/8561cc3d68d3551a5728b40f782c244834fd3348/base/rational.jl#L330\" target=\"_blank\">rational.jl:330</a></li> <li> +(x::<b>Number</b>) in Base at <a href=\"https://github.com/JuliaLang/julia/tree/8561cc3d68d3551a5728b40f782c244834fd3348/base/operators.jl#L533\" target=\"_blank\">operators.jl:533</a></li> <li> +(x::<b>Rational</b>, y::<b>Rational</b>) in Base at <a href=\"https://github.com/JuliaLang/julia/tree/8561cc3d68d3551a5728b40f782c244834fd3348/base/rational.jl#L344\" target=\"_blank\">rational.jl:344</a></li> <li> +(x::<b>AbstractIrrational</b>, y::<b>AbstractIrrational</b>) in Base at <a href=\"https://github.com/JuliaLang/julia/tree/8561cc3d68d3551a5728b40f782c244834fd3348/base/irrationals.jl#L179\" target=\"_blank\">irrationals.jl:179</a></li> <li> +(x::<b>T</b>, y::<b>T</b>)<i> where T<:Union{Float16, Float32, Float64}</i> in Base at <a href=\"https://github.com/JuliaLang/julia/tree/8561cc3d68d3551a5728b40f782c244834fd3348/base/float.jl#L491\" target=\"_blank\">float.jl:491</a></li> <li> +(x::<b>T</b>, y::<b>T</b>)<i> where T<:Number</i> in Base at <a href=\"https://github.com/JuliaLang/julia/tree/8561cc3d68d3551a5728b40f782c244834fd3348/base/promotion.jl#L625\" target=\"_blank\">promotion.jl:625</a></li> <li> +(x::<b>Rational</b>, y::<b>Integer</b>) in Base at <a href=\"https://github.com/JuliaLang/julia/tree/8561cc3d68d3551a5728b40f782c244834fd3348/base/rational.jl#L373\" target=\"_blank\">rational.jl:373</a></li> <li> +(x::<b>Real</b>, z::<b>Complex</b>) in Base at <a href=\"https://github.com/JuliaLang/julia/tree/8561cc3d68d3551a5728b40f782c244834fd3348/base/complex.jl#L334\" target=\"_blank\">complex.jl:334</a></li> <li> +(c::<b>Union{Float16, Float32, Float64}</b>, x::<b>BigFloat</b>) in Base.MPFR at <a href=\"https://github.com/JuliaLang/julia/tree/8561cc3d68d3551a5728b40f782c244834fd3348/base/mpfr.jl#L519\" target=\"_blank\">mpfr.jl:519</a></li> <li> +(c::<b>Union{Int16, Int32, Int64, Int8}</b>, x::<b>BigFloat</b>) in Base.MPFR at <a href=\"https://github.com/JuliaLang/julia/tree/8561cc3d68d3551a5728b40f782c244834fd3348/base/mpfr.jl#L511\" target=\"_blank\">mpfr.jl:511</a></li> <li> +(c::<b>Union{UInt16, UInt32, UInt64, UInt8}</b>, x::<b>BigFloat</b>) in Base.MPFR at <a href=\"https://github.com/JuliaLang/julia/tree/8561cc3d68d3551a5728b40f782c244834fd3348/base/mpfr.jl#L503\" target=\"_blank\">mpfr.jl:503</a></li> <li> +(x::<b>Number</b>, y::<b>Number</b>) in Base at <a href=\"https://github.com/JuliaLang/julia/tree/8561cc3d68d3551a5728b40f782c244834fd3348/base/promotion.jl#L429\" target=\"_blank\">promotion.jl:429</a></li> <li> +(A::<b>LinearAlgebra.UpperTriangular</b>, B::<b>LinearAlgebra.Bidiagonal</b>) in LinearAlgebra at <a href=\"file:///Users/julia/.julia/scratchspaces/a66863c6-20e8-4ff4-8a62-49f30b1f605e/agent-cache/default-honeycrisp-XG3Q6T6R70.0/build/default-honeycrisp-XG3Q6T6R70-0/julialang/julia-release-1-dot-11/usr/share/julia/stdlib/v1.11/LinearAlgebra/src/special.jl\" target=\"_blank\">/Users/melikeerbek/.julia/juliaup/julia-1.11.4+0.aarch64.apple.darwin14/share/julia/stdlib/v1.11/LinearAlgebra/src/special.jl:91</a></li> <li> +(x::<b>LinearAlgebra.UpperTriangular</b>, H::<b>LinearAlgebra.UpperHessenberg</b>) in LinearAlgebra at <a href=\"file:///Users/julia/.julia/scratchspaces/a66863c6-20e8-4ff4-8a62-49f30b1f605e/agent-cache/default-honeycrisp-XG3Q6T6R70.0/build/default-honeycrisp-XG3Q6T6R70-0/julialang/julia-release-1-dot-11/usr/share/julia/stdlib/v1.11/LinearAlgebra/src/hessenberg.jl\" target=\"_blank\">/Users/melikeerbek/.julia/juliaup/julia-1.11.4+0.aarch64.apple.darwin14/share/julia/stdlib/v1.11/LinearAlgebra/src/hessenberg.jl:121</a></li> <li> +(x::<b>P</b>, y::<b>P</b>)<i> where P<:Dates.Period</i> in Dates at <a href=\"file:///Users/julia/.julia/scratchspaces/a66863c6-20e8-4ff4-8a62-49f30b1f605e/agent-cache/default-honeycrisp-XG3Q6T6R70.0/build/default-honeycrisp-XG3Q6T6R70-0/julialang/julia-release-1-dot-11/usr/share/julia/stdlib/v1.11/Dates/src/periods.jl\" target=\"_blank\">/Users/melikeerbek/.julia/juliaup/julia-1.11.4+0.aarch64.apple.darwin14/share/julia/stdlib/v1.11/Dates/src/periods.jl:75</a></li> <li> +(x::<b>Dates.Period</b>, y::<b>Dates.Period</b>) in Dates at <a href=\"file:///Users/julia/.julia/scratchspaces/a66863c6-20e8-4ff4-8a62-49f30b1f605e/agent-cache/default-honeycrisp-XG3Q6T6R70.0/build/default-honeycrisp-XG3Q6T6R70-0/julialang/julia-release-1-dot-11/usr/share/julia/stdlib/v1.11/Dates/src/periods.jl\" target=\"_blank\">/Users/melikeerbek/.julia/juliaup/julia-1.11.4+0.aarch64.apple.darwin14/share/julia/stdlib/v1.11/Dates/src/periods.jl:332</a></li> <li> +(y::<b>Dates.Period</b>, x::<b>Dates.CompoundPeriod</b>) in Dates at <a href=\"file:///Users/julia/.julia/scratchspaces/a66863c6-20e8-4ff4-8a62-49f30b1f605e/agent-cache/default-honeycrisp-XG3Q6T6R70.0/build/default-honeycrisp-XG3Q6T6R70-0/julialang/julia-release-1-dot-11/usr/share/julia/stdlib/v1.11/Dates/src/periods.jl\" target=\"_blank\">/Users/melikeerbek/.julia/juliaup/julia-1.11.4+0.aarch64.apple.darwin14/share/julia/stdlib/v1.11/Dates/src/periods.jl:334</a></li> <li> +(y::<b>Dates.Period</b>, x::<b>Dates.TimeType</b>) in Dates at <a href=\"file:///Users/julia/.julia/scratchspaces/a66863c6-20e8-4ff4-8a62-49f30b1f605e/agent-cache/default-honeycrisp-XG3Q6T6R70.0/build/default-honeycrisp-XG3Q6T6R70-0/julialang/julia-release-1-dot-11/usr/share/julia/stdlib/v1.11/Dates/src/arithmetic.jl\" target=\"_blank\">/Users/melikeerbek/.julia/juliaup/julia-1.11.4+0.aarch64.apple.darwin14/share/julia/stdlib/v1.11/Dates/src/arithmetic.jl:87</a></li> <li> +(x::<b>Dates.Period</b>, r::<b>AbstractRange{<:Dates.TimeType}</b>) in Dates at <a href=\"file:///Users/julia/.julia/scratchspaces/a66863c6-20e8-4ff4-8a62-49f30b1f605e/agent-cache/default-honeycrisp-XG3Q6T6R70.0/build/default-honeycrisp-XG3Q6T6R70-0/julialang/julia-release-1-dot-11/usr/share/julia/stdlib/v1.11/Dates/src/ranges.jl\" target=\"_blank\">/Users/melikeerbek/.julia/juliaup/julia-1.11.4+0.aarch64.apple.darwin14/share/julia/stdlib/v1.11/Dates/src/ranges.jl:64</a></li> <li> +(x::<b>Dates.Instant</b>) in Dates at <a href=\"file:///Users/julia/.julia/scratchspaces/a66863c6-20e8-4ff4-8a62-49f30b1f605e/agent-cache/default-honeycrisp-XG3Q6T6R70.0/build/default-honeycrisp-XG3Q6T6R70-0/julialang/julia-release-1-dot-11/usr/share/julia/stdlib/v1.11/Dates/src/arithmetic.jl\" target=\"_blank\">/Users/melikeerbek/.julia/juliaup/julia-1.11.4+0.aarch64.apple.darwin14/share/julia/stdlib/v1.11/Dates/src/arithmetic.jl:4</a></li> <li> +(x::<b>AbstractArray{<:Dates.TimeType}</b>, y::<b>Union{Dates.CompoundPeriod, Dates.Period}</b>) in Dates at <a href=\"file:///Users/julia/.julia/scratchspaces/a66863c6-20e8-4ff4-8a62-49f30b1f605e/agent-cache/default-honeycrisp-XG3Q6T6R70.0/build/default-honeycrisp-XG3Q6T6R70-0/julialang/julia-release-1-dot-11/usr/share/julia/stdlib/v1.11/Dates/src/deprecated.jl\" target=\"_blank\">/Users/melikeerbek/.julia/juliaup/julia-1.11.4+0.aarch64.apple.darwin14/share/julia/stdlib/v1.11/Dates/src/deprecated.jl:6</a></li> <li> +(A::<b>AbstractMatrix</b>, J::<b>LinearAlgebra.UniformScaling</b>) in LinearAlgebra at <a href=\"file:///Users/julia/.julia/scratchspaces/a66863c6-20e8-4ff4-8a62-49f30b1f605e/agent-cache/default-honeycrisp-XG3Q6T6R70.0/build/default-honeycrisp-XG3Q6T6R70-0/julialang/julia-release-1-dot-11/usr/share/julia/stdlib/v1.11/LinearAlgebra/src/uniformscaling.jl\" target=\"_blank\">/Users/melikeerbek/.julia/juliaup/julia-1.11.4+0.aarch64.apple.darwin14/share/julia/stdlib/v1.11/LinearAlgebra/src/uniformscaling.jl:214</a></li> <li> +(X::<b>StridedArray{<:Union{Dates.CompoundPeriod, Dates.Period}}</b>, Y::<b>StridedArray{<:Union{Dates.CompoundPeriod, Dates.Period}}</b>) in Dates at <a href=\"file:///Users/julia/.julia/scratchspaces/a66863c6-20e8-4ff4-8a62-49f30b1f605e/agent-cache/default-honeycrisp-XG3Q6T6R70.0/build/default-honeycrisp-XG3Q6T6R70-0/julialang/julia-release-1-dot-11/usr/share/julia/stdlib/v1.11/Dates/src/deprecated.jl\" target=\"_blank\">/Users/melikeerbek/.julia/juliaup/julia-1.11.4+0.aarch64.apple.darwin14/share/julia/stdlib/v1.11/Dates/src/deprecated.jl:62</a></li> <li> +(r1::<b>Union{LinRange, OrdinalRange, StepRangeLen}</b>, r2::<b>Union{LinRange, OrdinalRange, StepRangeLen}</b>) in Base at <a href=\"https://github.com/JuliaLang/julia/tree/8561cc3d68d3551a5728b40f782c244834fd3348/base/range.jl#L1457\" target=\"_blank\">range.jl:1457</a></li> <li> +(A::<b>AbstractArray</b>, B::<b>AbstractArray</b>) in Base at <a href=\"https://github.com/JuliaLang/julia/tree/8561cc3d68d3551a5728b40f782c244834fd3348/base/arraymath.jl#L6\" target=\"_blank\">arraymath.jl:6</a></li> <li> +(x::<b>StridedArray{<:Union{Dates.CompoundPeriod, Dates.Period}}</b>) in Dates at <a href=\"file:///Users/julia/.julia/scratchspaces/a66863c6-20e8-4ff4-8a62-49f30b1f605e/agent-cache/default-honeycrisp-XG3Q6T6R70.0/build/default-honeycrisp-XG3Q6T6R70-0/julialang/julia-release-1-dot-11/usr/share/julia/stdlib/v1.11/Dates/src/deprecated.jl\" target=\"_blank\">/Users/melikeerbek/.julia/juliaup/julia-1.11.4+0.aarch64.apple.darwin14/share/julia/stdlib/v1.11/Dates/src/deprecated.jl:55</a></li> <li> +(x::<b>AbstractArray{<:Number}</b>) in Base at <a href=\"https://github.com/JuliaLang/julia/tree/8561cc3d68d3551a5728b40f782c244834fd3348/base/abstractarraymath.jl#L221\" target=\"_blank\">abstractarraymath.jl:221</a></li> <li> +(x::<b>Union{Dates.CompoundPeriod, Dates.Period}</b>) in Dates at <a href=\"file:///Users/julia/.julia/scratchspaces/a66863c6-20e8-4ff4-8a62-49f30b1f605e/agent-cache/default-honeycrisp-XG3Q6T6R70.0/build/default-honeycrisp-XG3Q6T6R70-0/julialang/julia-release-1-dot-11/usr/share/julia/stdlib/v1.11/Dates/src/periods.jl\" target=\"_blank\">/Users/melikeerbek/.julia/juliaup/julia-1.11.4+0.aarch64.apple.darwin14/share/julia/stdlib/v1.11/Dates/src/periods.jl:343</a></li> <li> +(x::<b>StridedArray{<:Union{Dates.CompoundPeriod, Dates.Period}}</b>, y::<b>Dates.TimeType</b>) in Dates at <a href=\"file:///Users/julia/.julia/scratchspaces/a66863c6-20e8-4ff4-8a62-49f30b1f605e/agent-cache/default-honeycrisp-XG3Q6T6R70.0/build/default-honeycrisp-XG3Q6T6R70-0/julialang/julia-release-1-dot-11/usr/share/julia/stdlib/v1.11/Dates/src/deprecated.jl\" target=\"_blank\">/Users/melikeerbek/.julia/juliaup/julia-1.11.4+0.aarch64.apple.darwin14/share/julia/stdlib/v1.11/Dates/src/deprecated.jl:10</a></li> <li> +(y::<b>Union{Dates.CompoundPeriod, Dates.Period}</b>, x::<b>AbstractArray{<:Dates.TimeType}</b>) in Dates at <a href=\"file:///Users/julia/.julia/scratchspaces/a66863c6-20e8-4ff4-8a62-49f30b1f605e/agent-cache/default-honeycrisp-XG3Q6T6R70.0/build/default-honeycrisp-XG3Q6T6R70-0/julialang/julia-release-1-dot-11/usr/share/julia/stdlib/v1.11/Dates/src/deprecated.jl\" target=\"_blank\">/Users/melikeerbek/.julia/juliaup/julia-1.11.4+0.aarch64.apple.darwin14/share/julia/stdlib/v1.11/Dates/src/deprecated.jl:14</a></li> <li> +(a, b, c, xs...) in Base at <a href=\"https://github.com/JuliaLang/julia/tree/8561cc3d68d3551a5728b40f782c244834fd3348/base/operators.jl#L596\" target=\"_blank\">operators.jl:596</a></li> </ul>"
      ],
      "text/plain": [
       "# 198 methods for generic function \"+\" from \u001b[90mBase\u001b[39m:\n",
       "   [1] +(\u001b[90mx\u001b[39m::\u001b[1mBool\u001b[22m, \u001b[90mz\u001b[39m::\u001b[1mComplex\u001b[22m\u001b[0m{Bool})\n",
       "\u001b[90m     @\u001b[39m \u001b[90m\u001b[4mcomplex.jl:308\u001b[24m\u001b[39m\n",
       "   [2] +(\u001b[90mx\u001b[39m::\u001b[1mBool\u001b[22m, \u001b[90my\u001b[39m::\u001b[1mBool\u001b[22m)\n",
       "\u001b[90m     @\u001b[39m \u001b[90m\u001b[4mbool.jl:166\u001b[24m\u001b[39m\n",
       "   [3] +(\u001b[90mx\u001b[39m::\u001b[1mBool\u001b[22m)\n",
       "\u001b[90m     @\u001b[39m \u001b[90m\u001b[4mbool.jl:163\u001b[24m\u001b[39m\n",
       "   [4] +(\u001b[90mx\u001b[39m::\u001b[1mBool\u001b[22m, \u001b[90mz\u001b[39m::\u001b[1mComplex\u001b[22m)\n",
       "\u001b[90m     @\u001b[39m \u001b[90m\u001b[4mcomplex.jl:315\u001b[24m\u001b[39m\n",
       "   [5] +(\u001b[90mx\u001b[39m::\u001b[1mReal\u001b[22m, \u001b[90mz\u001b[39m::\u001b[1mComplex\u001b[22m\u001b[0m{Bool})\n",
       "\u001b[90m     @\u001b[39m \u001b[90m\u001b[4mcomplex.jl:322\u001b[24m\u001b[39m\n",
       "   [6] +(\u001b[90mx\u001b[39m::\u001b[1mBool\u001b[22m, \u001b[90my\u001b[39m::\u001b[1mT\u001b[22m) where T<:AbstractFloat\n",
       "\u001b[90m     @\u001b[39m \u001b[90m\u001b[4mbool.jl:173\u001b[24m\u001b[39m\n",
       "   [7] +(\u001b[90mx\u001b[39m::\u001b[1mRational\u001b[22m\u001b[0m{BigInt}, \u001b[90my\u001b[39m::\u001b[1mRational\u001b[22m\u001b[0m{BigInt})\n",
       "\u001b[90m     @\u001b[39m \u001b[90mBase.GMP.MPQ\u001b[39m \u001b[90m\u001b[4mgmp.jl:1056\u001b[24m\u001b[39m\n",
       "   [8] +(\u001b[90mB\u001b[39m::\u001b[1mBitMatrix\u001b[22m, \u001b[90mJ\u001b[39m::\u001b[1mLinearAlgebra.UniformScaling\u001b[22m)\n",
       "\u001b[90m     @\u001b[39m \u001b[35mLinearAlgebra\u001b[39m \u001b[90m~/.julia/juliaup/julia-1.11.4+0.aarch64.apple.darwin14/share/julia/stdlib/v1.11/LinearAlgebra/src/\u001b[39m\u001b[90m\u001b[4muniformscaling.jl:151\u001b[24m\u001b[39m\n",
       "   [9] +(\u001b[90mdt\u001b[39m::\u001b[1mDates.DateTime\u001b[22m, \u001b[90my\u001b[39m::\u001b[1mDates.Year\u001b[22m)\n",
       "\u001b[90m     @\u001b[39m \u001b[36mDates\u001b[39m \u001b[90m~/.julia/juliaup/julia-1.11.4+0.aarch64.apple.darwin14/share/julia/stdlib/v1.11/Dates/src/\u001b[39m\u001b[90m\u001b[4marithmetic.jl:25\u001b[24m\u001b[39m\n",
       "  [10] +(\u001b[90mdt\u001b[39m::\u001b[1mDates.DateTime\u001b[22m, \u001b[90mz\u001b[39m::\u001b[1mDates.Month\u001b[22m)\n",
       "\u001b[90m     @\u001b[39m \u001b[36mDates\u001b[39m \u001b[90m~/.julia/juliaup/julia-1.11.4+0.aarch64.apple.darwin14/share/julia/stdlib/v1.11/Dates/src/\u001b[39m\u001b[90m\u001b[4marithmetic.jl:49\u001b[24m\u001b[39m\n",
       "  [11] +(\u001b[90mx\u001b[39m::\u001b[1mDates.DateTime\u001b[22m, \u001b[90my\u001b[39m::\u001b[1mDates.Quarter\u001b[22m)\n",
       "\u001b[90m     @\u001b[39m \u001b[36mDates\u001b[39m \u001b[90m~/.julia/juliaup/julia-1.11.4+0.aarch64.apple.darwin14/share/julia/stdlib/v1.11/Dates/src/\u001b[39m\u001b[90m\u001b[4marithmetic.jl:77\u001b[24m\u001b[39m\n",
       "  [12] +(\u001b[90mx\u001b[39m::\u001b[1mDates.DateTime\u001b[22m, \u001b[90my\u001b[39m::\u001b[1mDates.Period\u001b[22m)\n",
       "\u001b[90m     @\u001b[39m \u001b[36mDates\u001b[39m \u001b[90m~/.julia/juliaup/julia-1.11.4+0.aarch64.apple.darwin14/share/julia/stdlib/v1.11/Dates/src/\u001b[39m\u001b[90m\u001b[4marithmetic.jl:83\u001b[24m\u001b[39m\n",
       "  [13] +(\u001b[90mz\u001b[39m::\u001b[1mComplex\u001b[22m\u001b[0m{Bool}, \u001b[90mx\u001b[39m::\u001b[1mBool\u001b[22m)\n",
       "\u001b[90m     @\u001b[39m \u001b[90m\u001b[4mcomplex.jl:309\u001b[24m\u001b[39m\n",
       "  [14] +(\u001b[90mz\u001b[39m::\u001b[1mComplex\u001b[22m\u001b[0m{Bool}, \u001b[90mx\u001b[39m::\u001b[1mReal\u001b[22m)\n",
       "\u001b[90m     @\u001b[39m \u001b[90m\u001b[4mcomplex.jl:323\u001b[24m\u001b[39m\n",
       "  [15] +(\u001b[90mz\u001b[39m::\u001b[1mComplex\u001b[22m, \u001b[90mx\u001b[39m::\u001b[1mBool\u001b[22m)\n",
       "\u001b[90m     @\u001b[39m \u001b[90m\u001b[4mcomplex.jl:316\u001b[24m\u001b[39m\n",
       "  [16] +(\u001b[90ma\u001b[39m::\u001b[1mPkg.Resolve.FieldValue\u001b[22m, \u001b[90mb\u001b[39m::\u001b[1mPkg.Resolve.FieldValue\u001b[22m)\n",
       "\u001b[90m     @\u001b[39m \u001b[32mPkg.Resolve\u001b[39m \u001b[90m~/.julia/juliaup/julia-1.11.4+0.aarch64.apple.darwin14/share/julia/stdlib/v1.11/Pkg/src/Resolve/\u001b[39m\u001b[90m\u001b[4mfieldvalues.jl:43\u001b[24m\u001b[39m\n",
       "  [17] +(\u001b[90mlevel\u001b[39m::\u001b[1mBase.CoreLogging.LogLevel\u001b[22m, \u001b[90minc\u001b[39m::\u001b[1mInteger\u001b[22m)\n",
       "\u001b[90m     @\u001b[39m \u001b[90mBase.CoreLogging\u001b[39m \u001b[90mlogging/\u001b[39m\u001b[90m\u001b[4mlogging.jl:132\u001b[24m\u001b[39m\n",
       "  [18] +(\u001b[90mx\u001b[39m::\u001b[1mBigInt\u001b[22m, \u001b[90my\u001b[39m::\u001b[1mBigInt\u001b[22m)\n",
       "\u001b[90m     @\u001b[39m \u001b[90mBase.GMP\u001b[39m \u001b[90m\u001b[4mgmp.jl:496\u001b[24m\u001b[39m\n",
       "  [19] +(\u001b[90ma\u001b[39m::\u001b[1mBigInt\u001b[22m, \u001b[90mb\u001b[39m::\u001b[1mBigInt\u001b[22m, \u001b[90mc\u001b[39m::\u001b[1mBigInt\u001b[22m)\n",
       "\u001b[90m     @\u001b[39m \u001b[90mBase.GMP\u001b[39m \u001b[90m\u001b[4mgmp.jl:536\u001b[24m\u001b[39m\n",
       "  [20] +(\u001b[90ma\u001b[39m::\u001b[1mBigInt\u001b[22m, \u001b[90mb\u001b[39m::\u001b[1mBigInt\u001b[22m, \u001b[90mc\u001b[39m::\u001b[1mBigInt\u001b[22m, \u001b[90md\u001b[39m::\u001b[1mBigInt\u001b[22m)\n",
       "\u001b[90m     @\u001b[39m \u001b[90mBase.GMP\u001b[39m \u001b[90m\u001b[4mgmp.jl:537\u001b[24m\u001b[39m\n",
       "  [21] +(\u001b[90ma\u001b[39m::\u001b[1mBigInt\u001b[22m, \u001b[90mb\u001b[39m::\u001b[1mBigInt\u001b[22m, \u001b[90mc\u001b[39m::\u001b[1mBigInt\u001b[22m, \u001b[90md\u001b[39m::\u001b[1mBigInt\u001b[22m, \u001b[90me\u001b[39m::\u001b[1mBigInt\u001b[22m)\n",
       "\u001b[90m     @\u001b[39m \u001b[90mBase.GMP\u001b[39m \u001b[90m\u001b[4mgmp.jl:538\u001b[24m\u001b[39m\n",
       "  [22] +(\u001b[90mx\u001b[39m::\u001b[1mBigInt\u001b[22m, \u001b[90my\u001b[39m::\u001b[1mBigInt\u001b[22m, \u001b[90mrest\u001b[39m::\u001b[1mBigInt...\u001b[22m)\n",
       "\u001b[90m     @\u001b[39m \u001b[90mBase.GMP\u001b[39m \u001b[90m\u001b[4mgmp.jl:678\u001b[24m\u001b[39m\n",
       "  [23] +(\u001b[90mc\u001b[39m::\u001b[1mBigInt\u001b[22m, \u001b[90mx\u001b[39m::\u001b[1mBigFloat\u001b[22m)\n",
       "\u001b[90m     @\u001b[39m \u001b[90mBase.MPFR\u001b[39m \u001b[90m\u001b[4mmpfr.jl:527\u001b[24m\u001b[39m\n",
       "  [24] +(\u001b[90mx\u001b[39m::\u001b[1mBigInt\u001b[22m, \u001b[90mc\u001b[39m::\u001b[1mUnion\u001b[22m\u001b[0m{UInt16, UInt32, UInt64, UInt8})\n",
       "\u001b[90m     @\u001b[39m \u001b[90mBase.GMP\u001b[39m \u001b[90m\u001b[4mgmp.jl:544\u001b[24m\u001b[39m\n",
       "  [25] +(\u001b[90mx\u001b[39m::\u001b[1mBigInt\u001b[22m, \u001b[90mc\u001b[39m::\u001b[1mUnion\u001b[22m\u001b[0m{Int16, Int32, Int64, Int8})\n",
       "\u001b[90m     @\u001b[39m \u001b[90mBase.GMP\u001b[39m \u001b[90m\u001b[4mgmp.jl:550\u001b[24m\u001b[39m\n",
       "  [26] +(::\u001b[1mMissing\u001b[22m, ::\u001b[1mMissing\u001b[22m)\n",
       "\u001b[90m     @\u001b[39m \u001b[90m\u001b[4mmissing.jl:122\u001b[24m\u001b[39m\n",
       "  [27] +(::\u001b[1mMissing\u001b[22m)\n",
       "\u001b[90m     @\u001b[39m \u001b[90m\u001b[4mmissing.jl:101\u001b[24m\u001b[39m\n",
       "  [28] +(\u001b[90mx\u001b[39m::\u001b[1mMissing\u001b[22m, \u001b[90my\u001b[39m::\u001b[1mDates.AbstractTime\u001b[22m)\n",
       "\u001b[90m     @\u001b[39m \u001b[36mDates\u001b[39m \u001b[90m~/.julia/juliaup/julia-1.11.4+0.aarch64.apple.darwin14/share/julia/stdlib/v1.11/Dates/src/\u001b[39m\u001b[90m\u001b[4marithmetic.jl:91\u001b[24m\u001b[39m\n",
       "  [29] +(::\u001b[1mMissing\u001b[22m, ::\u001b[1mNumber\u001b[22m)\n",
       "\u001b[90m     @\u001b[39m \u001b[90m\u001b[4mmissing.jl:123\u001b[24m\u001b[39m\n",
       "  [30] +(\u001b[90mx\u001b[39m::\u001b[1mBigFloat\u001b[22m, \u001b[90mc\u001b[39m::\u001b[1mBigInt\u001b[22m)\n",
       "\u001b[90m     @\u001b[39m \u001b[90mBase.MPFR\u001b[39m \u001b[90m\u001b[4mmpfr.jl:522\u001b[24m\u001b[39m\n",
       "  [31] +(\u001b[90ma\u001b[39m::\u001b[1mBigFloat\u001b[22m, \u001b[90mb\u001b[39m::\u001b[1mBigFloat\u001b[22m, \u001b[90mc\u001b[39m::\u001b[1mBigFloat\u001b[22m, \u001b[90md\u001b[39m::\u001b[1mBigFloat\u001b[22m, \u001b[90me\u001b[39m::\u001b[1mBigFloat\u001b[22m)\n",
       "\u001b[90m     @\u001b[39m \u001b[90mBase.MPFR\u001b[39m \u001b[90m\u001b[4mmpfr.jl:678\u001b[24m\u001b[39m\n",
       "  [32] +(\u001b[90mx\u001b[39m::\u001b[1mBigFloat\u001b[22m, \u001b[90my\u001b[39m::\u001b[1mBigFloat\u001b[22m)\n",
       "\u001b[90m     @\u001b[39m \u001b[90mBase.MPFR\u001b[39m \u001b[90m\u001b[4mmpfr.jl:491\u001b[24m\u001b[39m\n",
       "  [33] +(\u001b[90ma\u001b[39m::\u001b[1mBigFloat\u001b[22m, \u001b[90mb\u001b[39m::\u001b[1mBigFloat\u001b[22m, \u001b[90mc\u001b[39m::\u001b[1mBigFloat\u001b[22m)\n",
       "\u001b[90m     @\u001b[39m \u001b[90mBase.MPFR\u001b[39m \u001b[90m\u001b[4mmpfr.jl:665\u001b[24m\u001b[39m\n",
       "  [34] +(\u001b[90ma\u001b[39m::\u001b[1mBigFloat\u001b[22m, \u001b[90mb\u001b[39m::\u001b[1mBigFloat\u001b[22m, \u001b[90mc\u001b[39m::\u001b[1mBigFloat\u001b[22m, \u001b[90md\u001b[39m::\u001b[1mBigFloat\u001b[22m)\n",
       "\u001b[90m     @\u001b[39m \u001b[90mBase.MPFR\u001b[39m \u001b[90m\u001b[4mmpfr.jl:671\u001b[24m\u001b[39m\n",
       "  [35] +(\u001b[90mx\u001b[39m::\u001b[1mBigFloat\u001b[22m, \u001b[90mc\u001b[39m::\u001b[1mUnion\u001b[22m\u001b[0m{UInt16, UInt32, UInt64, UInt8})\n",
       "\u001b[90m     @\u001b[39m \u001b[90mBase.MPFR\u001b[39m \u001b[90m\u001b[4mmpfr.jl:498\u001b[24m\u001b[39m\n",
       "  [36] +(\u001b[90mx\u001b[39m::\u001b[1mBigFloat\u001b[22m, \u001b[90mc\u001b[39m::\u001b[1mUnion\u001b[22m\u001b[0m{Int16, Int32, Int64, Int8})\n",
       "\u001b[90m     @\u001b[39m \u001b[90mBase.MPFR\u001b[39m \u001b[90m\u001b[4mmpfr.jl:506\u001b[24m\u001b[39m\n",
       "  [37] +(\u001b[90mx\u001b[39m::\u001b[1mBigFloat\u001b[22m, \u001b[90mc\u001b[39m::\u001b[1mUnion\u001b[22m\u001b[0m{Float16, Float32, Float64})\n",
       "\u001b[90m     @\u001b[39m \u001b[90mBase.MPFR\u001b[39m \u001b[90m\u001b[4mmpfr.jl:514\u001b[24m\u001b[39m\n",
       "  [38] +(\u001b[90mx\u001b[39m::\u001b[1mDates.CompoundPeriod\u001b[22m, \u001b[90my\u001b[39m::\u001b[1mDates.CompoundPeriod\u001b[22m)\n",
       "\u001b[90m     @\u001b[39m \u001b[36mDates\u001b[39m \u001b[90m~/.julia/juliaup/julia-1.11.4+0.aarch64.apple.darwin14/share/julia/stdlib/v1.11/Dates/src/\u001b[39m\u001b[90m\u001b[4mperiods.jl:335\u001b[24m\u001b[39m\n",
       "  [39] +(\u001b[90mx\u001b[39m::\u001b[1mDates.CompoundPeriod\u001b[22m, \u001b[90my\u001b[39m::\u001b[1mDates.Period\u001b[22m)\n",
       "\u001b[90m     @\u001b[39m \u001b[36mDates\u001b[39m \u001b[90m~/.julia/juliaup/julia-1.11.4+0.aarch64.apple.darwin14/share/julia/stdlib/v1.11/Dates/src/\u001b[39m\u001b[90m\u001b[4mperiods.jl:333\u001b[24m\u001b[39m\n",
       "  [40] +(\u001b[90mx\u001b[39m::\u001b[1mDates.CompoundPeriod\u001b[22m, \u001b[90my\u001b[39m::\u001b[1mDates.TimeType\u001b[22m)\n",
       "\u001b[90m     @\u001b[39m \u001b[36mDates\u001b[39m \u001b[90m~/.julia/juliaup/julia-1.11.4+0.aarch64.apple.darwin14/share/julia/stdlib/v1.11/Dates/src/\u001b[39m\u001b[90m\u001b[4mperiods.jl:363\u001b[24m\u001b[39m\n",
       "  [41] +(\u001b[90mdt\u001b[39m::\u001b[1mDates.Date\u001b[22m, \u001b[90mt\u001b[39m::\u001b[1mDates.Time\u001b[22m)\n",
       "\u001b[90m     @\u001b[39m \u001b[36mDates\u001b[39m \u001b[90m~/.julia/juliaup/julia-1.11.4+0.aarch64.apple.darwin14/share/julia/stdlib/v1.11/Dates/src/\u001b[39m\u001b[90m\u001b[4marithmetic.jl:21\u001b[24m\u001b[39m\n",
       "  [42] +(\u001b[90mdt\u001b[39m::\u001b[1mDates.Date\u001b[22m, \u001b[90my\u001b[39m::\u001b[1mDates.Year\u001b[22m)\n",
       "\u001b[90m     @\u001b[39m \u001b[36mDates\u001b[39m \u001b[90m~/.julia/juliaup/julia-1.11.4+0.aarch64.apple.darwin14/share/julia/stdlib/v1.11/Dates/src/\u001b[39m\u001b[90m\u001b[4marithmetic.jl:29\u001b[24m\u001b[39m\n",
       "  [43] +(\u001b[90mdt\u001b[39m::\u001b[1mDates.Date\u001b[22m, \u001b[90mz\u001b[39m::\u001b[1mDates.Month\u001b[22m)\n",
       "\u001b[90m     @\u001b[39m \u001b[36mDates\u001b[39m \u001b[90m~/.julia/juliaup/julia-1.11.4+0.aarch64.apple.darwin14/share/julia/stdlib/v1.11/Dates/src/\u001b[39m\u001b[90m\u001b[4marithmetic.jl:56\u001b[24m\u001b[39m\n",
       "  [44] +(\u001b[90mx\u001b[39m::\u001b[1mDates.Date\u001b[22m, \u001b[90my\u001b[39m::\u001b[1mDates.Quarter\u001b[22m)\n",
       "\u001b[90m     @\u001b[39m \u001b[36mDates\u001b[39m \u001b[90m~/.julia/juliaup/julia-1.11.4+0.aarch64.apple.darwin14/share/julia/stdlib/v1.11/Dates/src/\u001b[39m\u001b[90m\u001b[4marithmetic.jl:75\u001b[24m\u001b[39m\n",
       "  [45] +(\u001b[90mx\u001b[39m::\u001b[1mDates.Date\u001b[22m, \u001b[90my\u001b[39m::\u001b[1mDates.Week\u001b[22m)\n",
       "\u001b[90m     @\u001b[39m \u001b[36mDates\u001b[39m \u001b[90m~/.julia/juliaup/julia-1.11.4+0.aarch64.apple.darwin14/share/julia/stdlib/v1.11/Dates/src/\u001b[39m\u001b[90m\u001b[4marithmetic.jl:79\u001b[24m\u001b[39m\n",
       "  [46] +(\u001b[90mx\u001b[39m::\u001b[1mDates.Date\u001b[22m, \u001b[90my\u001b[39m::\u001b[1mDates.Day\u001b[22m)\n",
       "\u001b[90m     @\u001b[39m \u001b[36mDates\u001b[39m \u001b[90m~/.julia/juliaup/julia-1.11.4+0.aarch64.apple.darwin14/share/julia/stdlib/v1.11/Dates/src/\u001b[39m\u001b[90m\u001b[4marithmetic.jl:81\u001b[24m\u001b[39m\n",
       "  [47] +(\u001b[90mt\u001b[39m::\u001b[1mDates.Time\u001b[22m, \u001b[90mdt\u001b[39m::\u001b[1mDates.Date\u001b[22m)\n",
       "\u001b[90m     @\u001b[39m \u001b[36mDates\u001b[39m \u001b[90m~/.julia/juliaup/julia-1.11.4+0.aarch64.apple.darwin14/share/julia/stdlib/v1.11/Dates/src/\u001b[39m\u001b[90m\u001b[4marithmetic.jl:22\u001b[24m\u001b[39m\n",
       "  [48] +(\u001b[90mx\u001b[39m::\u001b[1mDates.Time\u001b[22m, \u001b[90my\u001b[39m::\u001b[1mDates.TimePeriod\u001b[22m)\n",
       "\u001b[90m     @\u001b[39m \u001b[36mDates\u001b[39m \u001b[90m~/.julia/juliaup/julia-1.11.4+0.aarch64.apple.darwin14/share/julia/stdlib/v1.11/Dates/src/\u001b[39m\u001b[90m\u001b[4marithmetic.jl:85\u001b[24m\u001b[39m\n",
       "  [49] +(\u001b[90ma\u001b[39m::\u001b[1mPkg.Resolve.VersionWeight\u001b[22m, \u001b[90mb\u001b[39m::\u001b[1mPkg.Resolve.VersionWeight\u001b[22m)\n",
       "\u001b[90m     @\u001b[39m \u001b[32mPkg.Resolve\u001b[39m \u001b[90m~/.julia/juliaup/julia-1.11.4+0.aarch64.apple.darwin14/share/julia/stdlib/v1.11/Pkg/src/Resolve/\u001b[39m\u001b[90m\u001b[4mversionweights.jl:22\u001b[24m\u001b[39m\n",
       "  [50] +(\u001b[90mr1\u001b[39m::\u001b[1mLinRange\u001b[22m\u001b[0m{T}, \u001b[90mr2\u001b[39m::\u001b[1mLinRange\u001b[22m\u001b[0m{T}) where T\n",
       "\u001b[90m     @\u001b[39m \u001b[90m\u001b[4mrange.jl:1448\u001b[24m\u001b[39m\n",
       "  [51] +(\u001b[90mr1\u001b[39m::\u001b[1mOrdinalRange\u001b[22m, \u001b[90mr2\u001b[39m::\u001b[1mOrdinalRange\u001b[22m)\n",
       "\u001b[90m     @\u001b[39m \u001b[90m\u001b[4mrange.jl:1441\u001b[24m\u001b[39m\n",
       "  [52] +(\u001b[90mx\u001b[39m::\u001b[1mBase.TwicePrecision\u001b[22m\u001b[0m{T}, \u001b[90my\u001b[39m::\u001b[1mBase.TwicePrecision\u001b[22m\u001b[0m{T}) where T\n",
       "\u001b[90m     @\u001b[39m \u001b[90m\u001b[4mtwiceprecision.jl:294\u001b[24m\u001b[39m\n",
       "  [53] +(\u001b[90mx\u001b[39m::\u001b[1mBase.TwicePrecision\u001b[22m, \u001b[90my\u001b[39m::\u001b[1mBase.TwicePrecision\u001b[22m)\n",
       "\u001b[90m     @\u001b[39m \u001b[90m\u001b[4mtwiceprecision.jl:299\u001b[24m\u001b[39m\n",
       "  [54] +(\u001b[90mx\u001b[39m::\u001b[1mBase.TwicePrecision\u001b[22m, \u001b[90my\u001b[39m::\u001b[1mNumber\u001b[22m)\n",
       "\u001b[90m     @\u001b[39m \u001b[90m\u001b[4mtwiceprecision.jl:288\u001b[24m\u001b[39m\n",
       "  [55] +(\u001b[90mA\u001b[39m::\u001b[1mArray\u001b[22m, \u001b[90mBs\u001b[39m::\u001b[1mArray...\u001b[22m)\n",
       "\u001b[90m     @\u001b[39m \u001b[90m\u001b[4marraymath.jl:12\u001b[24m\u001b[39m\n",
       "  [56] +(\u001b[90mx\u001b[39m::\u001b[1mT\u001b[22m, \u001b[90my\u001b[39m::\u001b[1mInteger\u001b[22m) where T<:AbstractChar\n",
       "\u001b[90m     @\u001b[39m \u001b[90m\u001b[4mchar.jl:237\u001b[24m\u001b[39m\n",
       "  [57] +(\u001b[90mH\u001b[39m::\u001b[1mLinearAlgebra.Hermitian\u001b[22m, \u001b[90mD\u001b[39m::\u001b[1mLinearAlgebra.Diagonal\u001b[22m\u001b[0m{var\"#s5030\", V} where {var\"#s5030\"<:Real, V<:AbstractVector{var\"#s5030\"}})\n",
       "\u001b[90m     @\u001b[39m \u001b[35mLinearAlgebra\u001b[39m \u001b[90m~/.julia/juliaup/julia-1.11.4+0.aarch64.apple.darwin14/share/julia/stdlib/v1.11/LinearAlgebra/src/\u001b[39m\u001b[90m\u001b[4mspecial.jl:280\u001b[24m\u001b[39m\n",
       "  [58] +(\u001b[90mA\u001b[39m::\u001b[1mLinearAlgebra.Hermitian\u001b[22m, \u001b[90mJ\u001b[39m::\u001b[1mLinearAlgebra.UniformScaling\u001b[22m\u001b[0m{<:Complex})\n",
       "\u001b[90m     @\u001b[39m \u001b[35mLinearAlgebra\u001b[39m \u001b[90m~/.julia/juliaup/julia-1.11.4+0.aarch64.apple.darwin14/share/julia/stdlib/v1.11/LinearAlgebra/src/\u001b[39m\u001b[90m\u001b[4muniformscaling.jl:195\u001b[24m\u001b[39m\n",
       "  [59] +(\u001b[90mA\u001b[39m::\u001b[1mLinearAlgebra.Hermitian\u001b[22m, \u001b[90mB\u001b[39m::\u001b[1mLinearAlgebra.SymTridiagonal\u001b[22m\u001b[0m{var\"#s5027\", V} where {var\"#s5027\"<:Real, V<:AbstractVector{var\"#s5027\"}})\n",
       "\u001b[90m     @\u001b[39m \u001b[35mLinearAlgebra\u001b[39m \u001b[90m~/.julia/juliaup/julia-1.11.4+0.aarch64.apple.darwin14/share/julia/stdlib/v1.11/LinearAlgebra/src/\u001b[39m\u001b[90m\u001b[4msymmetric.jl:544\u001b[24m\u001b[39m\n",
       "  [60] +(\u001b[90mA\u001b[39m::\u001b[1mLinearAlgebra.Hermitian\u001b[22m, \u001b[90mB\u001b[39m::\u001b[1mLinearAlgebra.Symmetric\u001b[22m\u001b[0m{var\"#s5030\", S} where {var\"#s5030\"<:Real, S<:(AbstractMatrix{<:var\"#s5030\"})})\n",
       "\u001b[90m     @\u001b[39m \u001b[35mLinearAlgebra\u001b[39m \u001b[90m~/.julia/juliaup/julia-1.11.4+0.aarch64.apple.darwin14/share/julia/stdlib/v1.11/LinearAlgebra/src/\u001b[39m\u001b[90m\u001b[4msymmetric.jl:539\u001b[24m\u001b[39m\n",
       "  [61] +(\u001b[90mA\u001b[39m::\u001b[1mLinearAlgebra.Hermitian\u001b[22m, \u001b[90mB\u001b[39m::\u001b[1mLinearAlgebra.Hermitian\u001b[22m)\n",
       "\u001b[90m     @\u001b[39m \u001b[35mLinearAlgebra\u001b[39m \u001b[90m~/.julia/juliaup/julia-1.11.4+0.aarch64.apple.darwin14/share/julia/stdlib/v1.11/LinearAlgebra/src/\u001b[39m\u001b[90m\u001b[4msymmetric.jl:531\u001b[24m\u001b[39m\n",
       "  [62] +(\u001b[90mJ\u001b[39m::\u001b[1mLinearAlgebra.UniformScaling\u001b[22m, \u001b[90mB\u001b[39m::\u001b[1mBitMatrix\u001b[22m)\n",
       "\u001b[90m     @\u001b[39m \u001b[35mLinearAlgebra\u001b[39m \u001b[90m~/.julia/juliaup/julia-1.11.4+0.aarch64.apple.darwin14/share/julia/stdlib/v1.11/LinearAlgebra/src/\u001b[39m\u001b[90m\u001b[4muniformscaling.jl:152\u001b[24m\u001b[39m\n",
       "  [63] +(\u001b[90mJ\u001b[39m::\u001b[1mLinearAlgebra.UniformScaling\u001b[22m, \u001b[90mx\u001b[39m::\u001b[1mNumber\u001b[22m)\n",
       "\u001b[90m     @\u001b[39m \u001b[35mLinearAlgebra\u001b[39m \u001b[90m~/.julia/juliaup/julia-1.11.4+0.aarch64.apple.darwin14/share/julia/stdlib/v1.11/LinearAlgebra/src/\u001b[39m\u001b[90m\u001b[4muniformscaling.jl:144\u001b[24m\u001b[39m\n",
       "  [64] +(\u001b[90mJ\u001b[39m::\u001b[1mLinearAlgebra.UniformScaling\u001b[22m, \u001b[90mF\u001b[39m::\u001b[1mLinearAlgebra.Hessenberg\u001b[22m)\n",
       "\u001b[90m     @\u001b[39m \u001b[35mLinearAlgebra\u001b[39m \u001b[90m~/.julia/juliaup/julia-1.11.4+0.aarch64.apple.darwin14/share/julia/stdlib/v1.11/LinearAlgebra/src/\u001b[39m\u001b[90m\u001b[4mhessenberg.jl:562\u001b[24m\u001b[39m\n",
       "  [65] +(\u001b[90mB\u001b[39m::\u001b[1mLinearAlgebra.UniformScaling\u001b[22m, \u001b[90mA\u001b[39m::\u001b[1mLinearAlgebra.Diagonal\u001b[22m)\n",
       "\u001b[90m     @\u001b[39m \u001b[35mLinearAlgebra\u001b[39m \u001b[90m\u001b[4mnone:0\u001b[24m\u001b[39m\n",
       "  [66] +(\u001b[90mJ1\u001b[39m::\u001b[1mLinearAlgebra.UniformScaling\u001b[22m, \u001b[90mJ2\u001b[39m::\u001b[1mLinearAlgebra.UniformScaling\u001b[22m)\n",
       "\u001b[90m     @\u001b[39m \u001b[35mLinearAlgebra\u001b[39m \u001b[90m~/.julia/juliaup/julia-1.11.4+0.aarch64.apple.darwin14/share/julia/stdlib/v1.11/LinearAlgebra/src/\u001b[39m\u001b[90m\u001b[4muniformscaling.jl:150\u001b[24m\u001b[39m\n",
       "  [67] +(\u001b[90mx\u001b[39m::\u001b[1mLinearAlgebra.UniformScaling\u001b[22m, \u001b[90mH\u001b[39m::\u001b[1mLinearAlgebra.UpperHessenberg\u001b[22m)\n",
       "\u001b[90m     @\u001b[39m \u001b[35mLinearAlgebra\u001b[39m \u001b[90m~/.julia/juliaup/julia-1.11.4+0.aarch64.apple.darwin14/share/julia/stdlib/v1.11/LinearAlgebra/src/\u001b[39m\u001b[90m\u001b[4mhessenberg.jl:121\u001b[24m\u001b[39m\n",
       "  [68] +(\u001b[90mB\u001b[39m::\u001b[1mLinearAlgebra.UniformScaling\u001b[22m, \u001b[90mA\u001b[39m::\u001b[1mLinearAlgebra.Tridiagonal\u001b[22m)\n",
       "\u001b[90m     @\u001b[39m \u001b[35mLinearAlgebra\u001b[39m \u001b[90m\u001b[4mnone:0\u001b[24m\u001b[39m\n",
       "  [69] +(\u001b[90mB\u001b[39m::\u001b[1mLinearAlgebra.UniformScaling\u001b[22m, \u001b[90mA\u001b[39m::\u001b[1mLinearAlgebra.SymTridiagonal\u001b[22m)\n",
       "\u001b[90m     @\u001b[39m \u001b[35mLinearAlgebra\u001b[39m \u001b[90m\u001b[4mnone:0\u001b[24m\u001b[39m\n",
       "  [70] +(\u001b[90mB\u001b[39m::\u001b[1mLinearAlgebra.UniformScaling\u001b[22m, \u001b[90mA\u001b[39m::\u001b[1mLinearAlgebra.Bidiagonal\u001b[22m)\n",
       "\u001b[90m     @\u001b[39m \u001b[35mLinearAlgebra\u001b[39m \u001b[90m\u001b[4mnone:0\u001b[24m\u001b[39m\n",
       "  [71] +(\u001b[90mJ\u001b[39m::\u001b[1mLinearAlgebra.UniformScaling\u001b[22m, \u001b[90mA\u001b[39m::\u001b[1mAbstractMatrix\u001b[22m)\n",
       "\u001b[90m     @\u001b[39m \u001b[35mLinearAlgebra\u001b[39m \u001b[90m~/.julia/juliaup/julia-1.11.4+0.aarch64.apple.darwin14/share/julia/stdlib/v1.11/LinearAlgebra/src/\u001b[39m\u001b[90m\u001b[4muniformscaling.jl:153\u001b[24m\u001b[39m\n",
       "  [72] +(\u001b[90mJ\u001b[39m::\u001b[1mLinearAlgebra.UniformScaling\u001b[22m)\n",
       "\u001b[90m     @\u001b[39m \u001b[35mLinearAlgebra\u001b[39m \u001b[90m~/.julia/juliaup/julia-1.11.4+0.aarch64.apple.darwin14/share/julia/stdlib/v1.11/LinearAlgebra/src/\u001b[39m\u001b[90m\u001b[4muniformscaling.jl:149\u001b[24m\u001b[39m\n",
       "  [73] +(\u001b[90mA\u001b[39m::\u001b[1mLinearAlgebra.LowerTriangular\u001b[22m, \u001b[90mB\u001b[39m::\u001b[1mLinearAlgebra.Bidiagonal\u001b[22m)\n",
       "\u001b[90m     @\u001b[39m \u001b[35mLinearAlgebra\u001b[39m \u001b[90m~/.julia/juliaup/julia-1.11.4+0.aarch64.apple.darwin14/share/julia/stdlib/v1.11/LinearAlgebra/src/\u001b[39m\u001b[90m\u001b[4mspecial.jl:91\u001b[24m\u001b[39m\n",
       "  [74] +(\u001b[90mA\u001b[39m::\u001b[1mLinearAlgebra.LowerTriangular\u001b[22m\u001b[0m{<:Any, <:Union{LinearAlgebra.Adjoint{<:Any, <:StridedMatrix{T}}, LinearAlgebra.Transpose{<:Any, <:StridedMatrix{T}}, StridedArray{T, 2}} where T}, \u001b[90mB\u001b[39m::\u001b[1mLinearAlgebra.UnitLowerTriangular\u001b[22m\u001b[0m{<:Any, <:Union{LinearAlgebra.Adjoint{<:Any, <:StridedMatrix{T}}, LinearAlgebra.Transpose{<:Any, <:StridedMatrix{T}}, StridedArray{T, 2}} where T})\n",
       "\u001b[90m     @\u001b[39m \u001b[35mLinearAlgebra\u001b[39m \u001b[90m~/.julia/juliaup/julia-1.11.4+0.aarch64.apple.darwin14/share/julia/stdlib/v1.11/LinearAlgebra/src/\u001b[39m\u001b[90m\u001b[4mtriangular.jl:870\u001b[24m\u001b[39m\n",
       "  [75] +(\u001b[90mA\u001b[39m::\u001b[1mLinearAlgebra.LowerTriangular\u001b[22m\u001b[0m{<:Any, <:Union{LinearAlgebra.Adjoint{<:Any, <:StridedMatrix{T}}, LinearAlgebra.Transpose{<:Any, <:StridedMatrix{T}}, StridedArray{T, 2}} where T}, \u001b[90mB\u001b[39m::\u001b[1mLinearAlgebra.LowerTriangular\u001b[22m\u001b[0m{<:Any, <:Union{LinearAlgebra.Adjoint{<:Any, <:StridedMatrix{T}}, LinearAlgebra.Transpose{<:Any, <:StridedMatrix{T}}, StridedArray{T, 2}} where T})\n",
       "\u001b[90m     @\u001b[39m \u001b[35mLinearAlgebra\u001b[39m \u001b[90m~/.julia/juliaup/julia-1.11.4+0.aarch64.apple.darwin14/share/julia/stdlib/v1.11/LinearAlgebra/src/\u001b[39m\u001b[90m\u001b[4mtriangular.jl:870\u001b[24m\u001b[39m\n",
       "  [76] +(\u001b[90mA\u001b[39m::\u001b[1mLinearAlgebra.LowerTriangular\u001b[22m, \u001b[90mB\u001b[39m::\u001b[1mLinearAlgebra.UnitLowerTriangular\u001b[22m)\n",
       "\u001b[90m     @\u001b[39m \u001b[35mLinearAlgebra\u001b[39m \u001b[90m~/.julia/juliaup/julia-1.11.4+0.aarch64.apple.darwin14/share/julia/stdlib/v1.11/LinearAlgebra/src/\u001b[39m\u001b[90m\u001b[4mtriangular.jl:809\u001b[24m\u001b[39m\n",
       "  [77] +(\u001b[90mA\u001b[39m::\u001b[1mLinearAlgebra.LowerTriangular\u001b[22m, \u001b[90mB\u001b[39m::\u001b[1mLinearAlgebra.LowerTriangular\u001b[22m)\n",
       "\u001b[90m     @\u001b[39m \u001b[35mLinearAlgebra\u001b[39m \u001b[90m~/.julia/juliaup/julia-1.11.4+0.aarch64.apple.darwin14/share/julia/stdlib/v1.11/LinearAlgebra/src/\u001b[39m\u001b[90m\u001b[4mtriangular.jl:801\u001b[24m\u001b[39m\n",
       "  [78] +(\u001b[90mB\u001b[39m::\u001b[1mLinearAlgebra.SymTridiagonal\u001b[22m, \u001b[90mA\u001b[39m::\u001b[1mLinearAlgebra.Tridiagonal\u001b[22m)\n",
       "\u001b[90m     @\u001b[39m \u001b[35mLinearAlgebra\u001b[39m \u001b[90m\u001b[4mnone:0\u001b[24m\u001b[39m\n",
       "  [79] +(\u001b[90mx\u001b[39m::\u001b[1mLinearAlgebra.SymTridiagonal\u001b[22m, \u001b[90mH\u001b[39m::\u001b[1mLinearAlgebra.UpperHessenberg\u001b[22m)\n",
       "\u001b[90m     @\u001b[39m \u001b[35mLinearAlgebra\u001b[39m \u001b[90m~/.julia/juliaup/julia-1.11.4+0.aarch64.apple.darwin14/share/julia/stdlib/v1.11/LinearAlgebra/src/\u001b[39m\u001b[90m\u001b[4mhessenberg.jl:121\u001b[24m\u001b[39m\n",
       "  [80] +(\u001b[90mA\u001b[39m::\u001b[1mLinearAlgebra.SymTridiagonal\u001b[22m, \u001b[90mB\u001b[39m::\u001b[1mLinearAlgebra.Symmetric\u001b[22m)\n",
       "\u001b[90m     @\u001b[39m \u001b[35mLinearAlgebra\u001b[39m \u001b[90m~/.julia/juliaup/julia-1.11.4+0.aarch64.apple.darwin14/share/julia/stdlib/v1.11/LinearAlgebra/src/\u001b[39m\u001b[90m\u001b[4msymmetric.jl:541\u001b[24m\u001b[39m\n",
       "  [81] +(\u001b[90mA\u001b[39m::\u001b[1mLinearAlgebra.SymTridiagonal\u001b[22m, \u001b[90mB\u001b[39m::\u001b[1mLinearAlgebra.SymTridiagonal\u001b[22m)\n",
       "\u001b[90m     @\u001b[39m \u001b[35mLinearAlgebra\u001b[39m \u001b[90m~/.julia/juliaup/julia-1.11.4+0.aarch64.apple.darwin14/share/julia/stdlib/v1.11/LinearAlgebra/src/\u001b[39m\u001b[90m\u001b[4mtridiag.jl:215\u001b[24m\u001b[39m\n",
       "  [82] +(\u001b[90mB\u001b[39m::\u001b[1mLinearAlgebra.SymTridiagonal\u001b[22m, \u001b[90mA\u001b[39m::\u001b[1mLinearAlgebra.Bidiagonal\u001b[22m)\n",
       "\u001b[90m     @\u001b[39m \u001b[35mLinearAlgebra\u001b[39m \u001b[90m\u001b[4mnone:0\u001b[24m\u001b[39m\n",
       "  [83] +(\u001b[90mA\u001b[39m::\u001b[1mLinearAlgebra.SymTridiagonal\u001b[22m, \u001b[90mB\u001b[39m::\u001b[1mLinearAlgebra.UniformScaling\u001b[22m)\n",
       "\u001b[90m     @\u001b[39m \u001b[35mLinearAlgebra\u001b[39m \u001b[90m~/.julia/juliaup/julia-1.11.4+0.aarch64.apple.darwin14/share/julia/stdlib/v1.11/LinearAlgebra/src/\u001b[39m\u001b[90m\u001b[4mspecial.jl:235\u001b[24m\u001b[39m\n",
       "  [84] +(\u001b[90mB\u001b[39m::\u001b[1mLinearAlgebra.SymTridiagonal\u001b[22m, \u001b[90mA\u001b[39m::\u001b[1mLinearAlgebra.Diagonal\u001b[22m)\n",
       "\u001b[90m     @\u001b[39m \u001b[35mLinearAlgebra\u001b[39m \u001b[90m\u001b[4mnone:0\u001b[24m\u001b[39m\n",
       "  [85] +(\u001b[90mA\u001b[39m::\u001b[1mLinearAlgebra.SymTridiagonal\u001b[22m\u001b[0m{var\"#s5028\", V} where {var\"#s5028\"<:Real, V<:AbstractVector{var\"#s5028\"}}, \u001b[90mB\u001b[39m::\u001b[1mLinearAlgebra.Hermitian\u001b[22m)\n",
       "\u001b[90m     @\u001b[39m \u001b[35mLinearAlgebra\u001b[39m \u001b[90m~/.julia/juliaup/julia-1.11.4+0.aarch64.apple.darwin14/share/julia/stdlib/v1.11/LinearAlgebra/src/\u001b[39m\u001b[90m\u001b[4msymmetric.jl:543\u001b[24m\u001b[39m\n",
       "  [86] +(\u001b[90mA\u001b[39m::\u001b[1mLinearAlgebra.UnitUpperTriangular\u001b[22m, \u001b[90mB\u001b[39m::\u001b[1mLinearAlgebra.Bidiagonal\u001b[22m)\n",
       "\u001b[90m     @\u001b[39m \u001b[35mLinearAlgebra\u001b[39m \u001b[90m~/.julia/juliaup/julia-1.11.4+0.aarch64.apple.darwin14/share/julia/stdlib/v1.11/LinearAlgebra/src/\u001b[39m\u001b[90m\u001b[4mspecial.jl:91\u001b[24m\u001b[39m\n",
       "  [87] +(\u001b[90mx\u001b[39m::\u001b[1mLinearAlgebra.UnitUpperTriangular\u001b[22m, \u001b[90mH\u001b[39m::\u001b[1mLinearAlgebra.UpperHessenberg\u001b[22m)\n",
       "\u001b[90m     @\u001b[39m \u001b[35mLinearAlgebra\u001b[39m \u001b[90m~/.julia/juliaup/julia-1.11.4+0.aarch64.apple.darwin14/share/julia/stdlib/v1.11/LinearAlgebra/src/\u001b[39m\u001b[90m\u001b[4mhessenberg.jl:121\u001b[24m\u001b[39m\n",
       "  [88] +(\u001b[90mUL\u001b[39m::\u001b[1mLinearAlgebra.UnitUpperTriangular\u001b[22m, \u001b[90mJ\u001b[39m::\u001b[1mLinearAlgebra.UniformScaling\u001b[22m)\n",
       "\u001b[90m     @\u001b[39m \u001b[35mLinearAlgebra\u001b[39m \u001b[90m~/.julia/juliaup/julia-1.11.4+0.aarch64.apple.darwin14/share/julia/stdlib/v1.11/LinearAlgebra/src/\u001b[39m\u001b[90m\u001b[4muniformscaling.jl:181\u001b[24m\u001b[39m\n",
       "  [89] +(\u001b[90mA\u001b[39m::\u001b[1mLinearAlgebra.UnitUpperTriangular\u001b[22m\u001b[0m{<:Any, <:Union{LinearAlgebra.Adjoint{<:Any, <:StridedMatrix{T}}, LinearAlgebra.Transpose{<:Any, <:StridedMatrix{T}}, StridedArray{T, 2}} where T}, \u001b[90mB\u001b[39m::\u001b[1mLinearAlgebra.UnitUpperTriangular\u001b[22m\u001b[0m{<:Any, <:Union{LinearAlgebra.Adjoint{<:Any, <:StridedMatrix{T}}, LinearAlgebra.Transpose{<:Any, <:StridedMatrix{T}}, StridedArray{T, 2}} where T})\n",
       "\u001b[90m     @\u001b[39m \u001b[35mLinearAlgebra\u001b[39m \u001b[90m~/.julia/juliaup/julia-1.11.4+0.aarch64.apple.darwin14/share/julia/stdlib/v1.11/LinearAlgebra/src/\u001b[39m\u001b[90m\u001b[4mtriangular.jl:873\u001b[24m\u001b[39m\n",
       "  [90] +(\u001b[90mA\u001b[39m::\u001b[1mLinearAlgebra.UnitUpperTriangular\u001b[22m\u001b[0m{<:Any, <:Union{LinearAlgebra.Adjoint{<:Any, <:StridedMatrix{T}}, LinearAlgebra.Transpose{<:Any, <:StridedMatrix{T}}, StridedArray{T, 2}} where T}, \u001b[90mB\u001b[39m::\u001b[1mLinearAlgebra.UpperTriangular\u001b[22m\u001b[0m{<:Any, <:Union{LinearAlgebra.Adjoint{<:Any, <:StridedMatrix{T}}, LinearAlgebra.Transpose{<:Any, <:StridedMatrix{T}}, StridedArray{T, 2}} where T})\n",
       "\u001b[90m     @\u001b[39m \u001b[35mLinearAlgebra\u001b[39m \u001b[90m~/.julia/juliaup/julia-1.11.4+0.aarch64.apple.darwin14/share/julia/stdlib/v1.11/LinearAlgebra/src/\u001b[39m\u001b[90m\u001b[4mtriangular.jl:873\u001b[24m\u001b[39m\n",
       "  [91] +(\u001b[90mA\u001b[39m::\u001b[1mLinearAlgebra.UnitUpperTriangular\u001b[22m, \u001b[90mB\u001b[39m::\u001b[1mLinearAlgebra.UnitUpperTriangular\u001b[22m)\n",
       "\u001b[90m     @\u001b[39m \u001b[35mLinearAlgebra\u001b[39m \u001b[90m~/.julia/juliaup/julia-1.11.4+0.aarch64.apple.darwin14/share/julia/stdlib/v1.11/LinearAlgebra/src/\u001b[39m\u001b[90m\u001b[4mtriangular.jl:821\u001b[24m\u001b[39m\n",
       "  [92] +(\u001b[90mA\u001b[39m::\u001b[1mLinearAlgebra.UnitUpperTriangular\u001b[22m, \u001b[90mB\u001b[39m::\u001b[1mLinearAlgebra.UpperTriangular\u001b[22m)\n",
       "\u001b[90m     @\u001b[39m \u001b[35mLinearAlgebra\u001b[39m \u001b[90m~/.julia/juliaup/julia-1.11.4+0.aarch64.apple.darwin14/share/julia/stdlib/v1.11/LinearAlgebra/src/\u001b[39m\u001b[90m\u001b[4mtriangular.jl:813\u001b[24m\u001b[39m\n",
       "  [93] +(\u001b[90mH\u001b[39m::\u001b[1mLinearAlgebra.UpperHessenberg\u001b[22m, \u001b[90mx\u001b[39m::\u001b[1mLinearAlgebra.Tridiagonal\u001b[22m)\n",
       "\u001b[90m     @\u001b[39m \u001b[35mLinearAlgebra\u001b[39m \u001b[90m~/.julia/juliaup/julia-1.11.4+0.aarch64.apple.darwin14/share/julia/stdlib/v1.11/LinearAlgebra/src/\u001b[39m\u001b[90m\u001b[4mhessenberg.jl:120\u001b[24m\u001b[39m\n",
       "  [94] +(\u001b[90mH\u001b[39m::\u001b[1mLinearAlgebra.UpperHessenberg\u001b[22m, \u001b[90mx\u001b[39m::\u001b[1mLinearAlgebra.UniformScaling\u001b[22m)\n",
       "\u001b[90m     @\u001b[39m \u001b[35mLinearAlgebra\u001b[39m \u001b[90m~/.julia/juliaup/julia-1.11.4+0.aarch64.apple.darwin14/share/julia/stdlib/v1.11/LinearAlgebra/src/\u001b[39m\u001b[90m\u001b[4mhessenberg.jl:120\u001b[24m\u001b[39m\n",
       "  [95] +(\u001b[90mA\u001b[39m::\u001b[1mLinearAlgebra.UpperHessenberg\u001b[22m, \u001b[90mB\u001b[39m::\u001b[1mLinearAlgebra.UpperHessenberg\u001b[22m)\n",
       "\u001b[90m     @\u001b[39m \u001b[35mLinearAlgebra\u001b[39m \u001b[90m~/.julia/juliaup/julia-1.11.4+0.aarch64.apple.darwin14/share/julia/stdlib/v1.11/LinearAlgebra/src/\u001b[39m\u001b[90m\u001b[4mhessenberg.jl:113\u001b[24m\u001b[39m\n",
       "  [96] +(\u001b[90mH\u001b[39m::\u001b[1mLinearAlgebra.UpperHessenberg\u001b[22m, \u001b[90mx\u001b[39m::\u001b[1mLinearAlgebra.SymTridiagonal\u001b[22m)\n",
       "\u001b[90m     @\u001b[39m \u001b[35mLinearAlgebra\u001b[39m \u001b[90m~/.julia/juliaup/julia-1.11.4+0.aarch64.apple.darwin14/share/julia/stdlib/v1.11/LinearAlgebra/src/\u001b[39m\u001b[90m\u001b[4mhessenberg.jl:120\u001b[24m\u001b[39m\n",
       "  [97] +(\u001b[90mH\u001b[39m::\u001b[1mLinearAlgebra.UpperHessenberg\u001b[22m, \u001b[90mx\u001b[39m::\u001b[1mLinearAlgebra.Bidiagonal\u001b[22m)\n",
       "\u001b[90m     @\u001b[39m \u001b[35mLinearAlgebra\u001b[39m \u001b[90m~/.julia/juliaup/julia-1.11.4+0.aarch64.apple.darwin14/share/julia/stdlib/v1.11/LinearAlgebra/src/\u001b[39m\u001b[90m\u001b[4mhessenberg.jl:120\u001b[24m\u001b[39m\n",
       "  [98] +(\u001b[90mH\u001b[39m::\u001b[1mLinearAlgebra.UpperHessenberg\u001b[22m, \u001b[90mx\u001b[39m::\u001b[1mLinearAlgebra.UnitUpperTriangular\u001b[22m)\n",
       "\u001b[90m     @\u001b[39m \u001b[35mLinearAlgebra\u001b[39m \u001b[90m~/.julia/juliaup/julia-1.11.4+0.aarch64.apple.darwin14/share/julia/stdlib/v1.11/LinearAlgebra/src/\u001b[39m\u001b[90m\u001b[4mhessenberg.jl:120\u001b[24m\u001b[39m\n",
       "  [99] +(\u001b[90mH\u001b[39m::\u001b[1mLinearAlgebra.UpperHessenberg\u001b[22m, \u001b[90mx\u001b[39m::\u001b[1mLinearAlgebra.Diagonal\u001b[22m)\n",
       "\u001b[90m     @\u001b[39m \u001b[35mLinearAlgebra\u001b[39m \u001b[90m~/.julia/juliaup/julia-1.11.4+0.aarch64.apple.darwin14/share/julia/stdlib/v1.11/LinearAlgebra/src/\u001b[39m\u001b[90m\u001b[4mhessenberg.jl:120\u001b[24m\u001b[39m\n",
       " [100] +(\u001b[90mH\u001b[39m::\u001b[1mLinearAlgebra.UpperHessenberg\u001b[22m, \u001b[90mx\u001b[39m::\u001b[1mLinearAlgebra.UpperTriangular\u001b[22m)\n",
       "\u001b[90m     @\u001b[39m \u001b[35mLinearAlgebra\u001b[39m \u001b[90m~/.julia/juliaup/julia-1.11.4+0.aarch64.apple.darwin14/share/julia/stdlib/v1.11/LinearAlgebra/src/\u001b[39m\u001b[90m\u001b[4mhessenberg.jl:120\u001b[24m\u001b[39m\n",
       " [101] +(\u001b[90mx\u001b[39m::\u001b[1mPtr\u001b[22m, \u001b[90my\u001b[39m::\u001b[1mInteger\u001b[22m)\n",
       "\u001b[90m     @\u001b[39m \u001b[90m\u001b[4mpointer.jl:316\u001b[24m\u001b[39m\n",
       " [102] +(\u001b[90mA\u001b[39m::\u001b[1mBitArray\u001b[22m, \u001b[90mB\u001b[39m::\u001b[1mBitArray\u001b[22m)\n",
       "\u001b[90m     @\u001b[39m \u001b[90m\u001b[4mbitarray.jl:1184\u001b[24m\u001b[39m\n",
       " [103] +(\u001b[90mx\u001b[39m::\u001b[1mDates.AbstractTime\u001b[22m, \u001b[90my\u001b[39m::\u001b[1mMissing\u001b[22m)\n",
       "\u001b[90m     @\u001b[39m \u001b[36mDates\u001b[39m \u001b[90m~/.julia/juliaup/julia-1.11.4+0.aarch64.apple.darwin14/share/julia/stdlib/v1.11/Dates/src/\u001b[39m\u001b[90m\u001b[4marithmetic.jl:90\u001b[24m\u001b[39m\n",
       " [104] +(\u001b[90mA\u001b[39m::\u001b[1mLinearAlgebra.Diagonal\u001b[22m, \u001b[90mB\u001b[39m::\u001b[1mLinearAlgebra.UniformScaling\u001b[22m)\n",
       "\u001b[90m     @\u001b[39m \u001b[35mLinearAlgebra\u001b[39m \u001b[90m~/.julia/juliaup/julia-1.11.4+0.aarch64.apple.darwin14/share/julia/stdlib/v1.11/LinearAlgebra/src/\u001b[39m\u001b[90m\u001b[4mspecial.jl:245\u001b[24m\u001b[39m\n",
       " [105] +(\u001b[90mA\u001b[39m::\u001b[1mLinearAlgebra.Diagonal\u001b[22m, \u001b[90mB\u001b[39m::\u001b[1mLinearAlgebra.Tridiagonal\u001b[22m)\n",
       "\u001b[90m     @\u001b[39m \u001b[35mLinearAlgebra\u001b[39m \u001b[90m~/.julia/juliaup/julia-1.11.4+0.aarch64.apple.darwin14/share/julia/stdlib/v1.11/LinearAlgebra/src/\u001b[39m\u001b[90m\u001b[4mspecial.jl:185\u001b[24m\u001b[39m\n",
       " [106] +(\u001b[90mx\u001b[39m::\u001b[1mLinearAlgebra.Diagonal\u001b[22m, \u001b[90mH\u001b[39m::\u001b[1mLinearAlgebra.UpperHessenberg\u001b[22m)\n",
       "\u001b[90m     @\u001b[39m \u001b[35mLinearAlgebra\u001b[39m \u001b[90m~/.julia/juliaup/julia-1.11.4+0.aarch64.apple.darwin14/share/julia/stdlib/v1.11/LinearAlgebra/src/\u001b[39m\u001b[90m\u001b[4mhessenberg.jl:121\u001b[24m\u001b[39m\n",
       " [107] +(\u001b[90mA\u001b[39m::\u001b[1mLinearAlgebra.Diagonal\u001b[22m, \u001b[90mB\u001b[39m::\u001b[1mLinearAlgebra.SymTridiagonal\u001b[22m)\n",
       "\u001b[90m     @\u001b[39m \u001b[35mLinearAlgebra\u001b[39m \u001b[90m~/.julia/juliaup/julia-1.11.4+0.aarch64.apple.darwin14/share/julia/stdlib/v1.11/LinearAlgebra/src/\u001b[39m\u001b[90m\u001b[4mspecial.jl:164\u001b[24m\u001b[39m\n",
       " [108] +(\u001b[90mB\u001b[39m::\u001b[1mLinearAlgebra.Diagonal\u001b[22m, \u001b[90mA\u001b[39m::\u001b[1mLinearAlgebra.Bidiagonal\u001b[22m)\n",
       "\u001b[90m     @\u001b[39m \u001b[35mLinearAlgebra\u001b[39m \u001b[90m\u001b[4mnone:0\u001b[24m\u001b[39m\n",
       " [109] +(\u001b[90mD\u001b[39m::\u001b[1mLinearAlgebra.Diagonal\u001b[22m\u001b[0m{var\"#s5030\", V} where {var\"#s5030\"<:Real, V<:AbstractVector{var\"#s5030\"}}, \u001b[90mH\u001b[39m::\u001b[1mLinearAlgebra.Hermitian\u001b[22m)\n",
       "\u001b[90m     @\u001b[39m \u001b[35mLinearAlgebra\u001b[39m \u001b[90m~/.julia/juliaup/julia-1.11.4+0.aarch64.apple.darwin14/share/julia/stdlib/v1.11/LinearAlgebra/src/\u001b[39m\u001b[90m\u001b[4mspecial.jl:276\u001b[24m\u001b[39m\n",
       " [110] +(\u001b[90mD\u001b[39m::\u001b[1mLinearAlgebra.Diagonal\u001b[22m\u001b[0m{var\"#s5030\", V} where {var\"#s5030\"<:Number, V<:AbstractVector{var\"#s5030\"}}, \u001b[90mS\u001b[39m::\u001b[1mLinearAlgebra.Symmetric\u001b[22m)\n",
       "\u001b[90m     @\u001b[39m \u001b[35mLinearAlgebra\u001b[39m \u001b[90m~/.julia/juliaup/julia-1.11.4+0.aarch64.apple.darwin14/share/julia/stdlib/v1.11/LinearAlgebra/src/\u001b[39m\u001b[90m\u001b[4mspecial.jl:268\u001b[24m\u001b[39m\n",
       " [111] +(\u001b[90mDa\u001b[39m::\u001b[1mLinearAlgebra.Diagonal\u001b[22m, \u001b[90mDb\u001b[39m::\u001b[1mLinearAlgebra.Diagonal\u001b[22m)\n",
       "\u001b[90m     @\u001b[39m \u001b[35mLinearAlgebra\u001b[39m \u001b[90m~/.julia/juliaup/julia-1.11.4+0.aarch64.apple.darwin14/share/julia/stdlib/v1.11/LinearAlgebra/src/\u001b[39m\u001b[90m\u001b[4mdiagonal.jl:250\u001b[24m\u001b[39m\n",
       " [112] +(\u001b[90mA\u001b[39m::\u001b[1mLinearAlgebra.UnitLowerTriangular\u001b[22m, \u001b[90mB\u001b[39m::\u001b[1mLinearAlgebra.Bidiagonal\u001b[22m)\n",
       "\u001b[90m     @\u001b[39m \u001b[35mLinearAlgebra\u001b[39m \u001b[90m~/.julia/juliaup/julia-1.11.4+0.aarch64.apple.darwin14/share/julia/stdlib/v1.11/LinearAlgebra/src/\u001b[39m\u001b[90m\u001b[4mspecial.jl:91\u001b[24m\u001b[39m\n",
       " [113] +(\u001b[90mUL\u001b[39m::\u001b[1mLinearAlgebra.UnitLowerTriangular\u001b[22m, \u001b[90mJ\u001b[39m::\u001b[1mLinearAlgebra.UniformScaling\u001b[22m)\n",
       "\u001b[90m     @\u001b[39m \u001b[35mLinearAlgebra\u001b[39m \u001b[90m~/.julia/juliaup/julia-1.11.4+0.aarch64.apple.darwin14/share/julia/stdlib/v1.11/LinearAlgebra/src/\u001b[39m\u001b[90m\u001b[4muniformscaling.jl:181\u001b[24m\u001b[39m\n",
       " [114] +(\u001b[90mA\u001b[39m::\u001b[1mLinearAlgebra.UnitLowerTriangular\u001b[22m\u001b[0m{<:Any, <:Union{LinearAlgebra.Adjoint{<:Any, <:StridedMatrix{T}}, LinearAlgebra.Transpose{<:Any, <:StridedMatrix{T}}, StridedArray{T, 2}} where T}, \u001b[90mB\u001b[39m::\u001b[1mLinearAlgebra.UnitLowerTriangular\u001b[22m\u001b[0m{<:Any, <:Union{LinearAlgebra.Adjoint{<:Any, <:StridedMatrix{T}}, LinearAlgebra.Transpose{<:Any, <:StridedMatrix{T}}, StridedArray{T, 2}} where T})\n",
       "\u001b[90m     @\u001b[39m \u001b[35mLinearAlgebra\u001b[39m \u001b[90m~/.julia/juliaup/julia-1.11.4+0.aarch64.apple.darwin14/share/julia/stdlib/v1.11/LinearAlgebra/src/\u001b[39m\u001b[90m\u001b[4mtriangular.jl:870\u001b[24m\u001b[39m\n",
       " [115] +(\u001b[90mA\u001b[39m::\u001b[1mLinearAlgebra.UnitLowerTriangular\u001b[22m\u001b[0m{<:Any, <:Union{LinearAlgebra.Adjoint{<:Any, <:StridedMatrix{T}}, LinearAlgebra.Transpose{<:Any, <:StridedMatrix{T}}, StridedArray{T, 2}} where T}, \u001b[90mB\u001b[39m::\u001b[1mLinearAlgebra.LowerTriangular\u001b[22m\u001b[0m{<:Any, <:Union{LinearAlgebra.Adjoint{<:Any, <:StridedMatrix{T}}, LinearAlgebra.Transpose{<:Any, <:StridedMatrix{T}}, StridedArray{T, 2}} where T})\n",
       "\u001b[90m     @\u001b[39m \u001b[35mLinearAlgebra\u001b[39m \u001b[90m~/.julia/juliaup/julia-1.11.4+0.aarch64.apple.darwin14/share/julia/stdlib/v1.11/LinearAlgebra/src/\u001b[39m\u001b[90m\u001b[4mtriangular.jl:870\u001b[24m\u001b[39m\n",
       " [116] +(\u001b[90mA\u001b[39m::\u001b[1mLinearAlgebra.UnitLowerTriangular\u001b[22m, \u001b[90mB\u001b[39m::\u001b[1mLinearAlgebra.UnitLowerTriangular\u001b[22m)\n",
       "\u001b[90m     @\u001b[39m \u001b[35mLinearAlgebra\u001b[39m \u001b[90m~/.julia/juliaup/julia-1.11.4+0.aarch64.apple.darwin14/share/julia/stdlib/v1.11/LinearAlgebra/src/\u001b[39m\u001b[90m\u001b[4mtriangular.jl:825\u001b[24m\u001b[39m\n",
       " [117] +(\u001b[90mA\u001b[39m::\u001b[1mLinearAlgebra.UnitLowerTriangular\u001b[22m, \u001b[90mB\u001b[39m::\u001b[1mLinearAlgebra.LowerTriangular\u001b[22m)\n",
       "\u001b[90m     @\u001b[39m \u001b[35mLinearAlgebra\u001b[39m \u001b[90m~/.julia/juliaup/julia-1.11.4+0.aarch64.apple.darwin14/share/julia/stdlib/v1.11/LinearAlgebra/src/\u001b[39m\u001b[90m\u001b[4mtriangular.jl:817\u001b[24m\u001b[39m\n",
       " [118] +(\u001b[90mS\u001b[39m::\u001b[1mLinearAlgebra.Symmetric\u001b[22m, \u001b[90mD\u001b[39m::\u001b[1mLinearAlgebra.Diagonal\u001b[22m\u001b[0m{var\"#s5030\", V} where {var\"#s5030\"<:Number, V<:AbstractVector{var\"#s5030\"}})\n",
       "\u001b[90m     @\u001b[39m \u001b[35mLinearAlgebra\u001b[39m \u001b[90m~/.julia/juliaup/julia-1.11.4+0.aarch64.apple.darwin14/share/julia/stdlib/v1.11/LinearAlgebra/src/\u001b[39m\u001b[90m\u001b[4mspecial.jl:272\u001b[24m\u001b[39m\n",
       " [119] +(\u001b[90mA\u001b[39m::\u001b[1mLinearAlgebra.Symmetric\u001b[22m, \u001b[90mB\u001b[39m::\u001b[1mLinearAlgebra.SymTridiagonal\u001b[22m)\n",
       "\u001b[90m     @\u001b[39m \u001b[35mLinearAlgebra\u001b[39m \u001b[90m~/.julia/juliaup/julia-1.11.4+0.aarch64.apple.darwin14/share/julia/stdlib/v1.11/LinearAlgebra/src/\u001b[39m\u001b[90m\u001b[4msymmetric.jl:542\u001b[24m\u001b[39m\n",
       " [120] +(\u001b[90mA\u001b[39m::\u001b[1mLinearAlgebra.Symmetric\u001b[22m\u001b[0m{var\"#s5029\", S} where {var\"#s5029\"<:Real, S<:(AbstractMatrix{<:var\"#s5029\"})}, \u001b[90mB\u001b[39m::\u001b[1mLinearAlgebra.Hermitian\u001b[22m)\n",
       "\u001b[90m     @\u001b[39m \u001b[35mLinearAlgebra\u001b[39m \u001b[90m~/.julia/juliaup/julia-1.11.4+0.aarch64.apple.darwin14/share/julia/stdlib/v1.11/LinearAlgebra/src/\u001b[39m\u001b[90m\u001b[4msymmetric.jl:540\u001b[24m\u001b[39m\n",
       " [121] +(\u001b[90mA\u001b[39m::\u001b[1mLinearAlgebra.Symmetric\u001b[22m, \u001b[90mB\u001b[39m::\u001b[1mLinearAlgebra.Symmetric\u001b[22m)\n",
       "\u001b[90m     @\u001b[39m \u001b[35mLinearAlgebra\u001b[39m \u001b[90m~/.julia/juliaup/julia-1.11.4+0.aarch64.apple.darwin14/share/julia/stdlib/v1.11/LinearAlgebra/src/\u001b[39m\u001b[90m\u001b[4msymmetric.jl:531\u001b[24m\u001b[39m\n",
       " [122] +(\u001b[90mr1\u001b[39m::\u001b[1mStepRangeLen\u001b[22m\u001b[0m{T, R}, \u001b[90mr2\u001b[39m::\u001b[1mStepRangeLen\u001b[22m\u001b[0m{T, R}) where {R<:Base.TwicePrecision, T}\n",
       "\u001b[90m     @\u001b[39m \u001b[90m\u001b[4mtwiceprecision.jl:624\u001b[24m\u001b[39m\n",
       " [123] +(\u001b[90mr1\u001b[39m::\u001b[1mStepRangeLen\u001b[22m\u001b[0m{T, S}, \u001b[90mr2\u001b[39m::\u001b[1mStepRangeLen\u001b[22m\u001b[0m{T, S}) where {T, S}\n",
       "\u001b[90m     @\u001b[39m \u001b[90m\u001b[4mrange.jl:1464\u001b[24m\u001b[39m\n",
       " [124] +(\u001b[90mF\u001b[39m::\u001b[1mLinearAlgebra.Hessenberg\u001b[22m, \u001b[90mJ\u001b[39m::\u001b[1mLinearAlgebra.UniformScaling\u001b[22m)\n",
       "\u001b[90m     @\u001b[39m \u001b[35mLinearAlgebra\u001b[39m \u001b[90m~/.julia/juliaup/julia-1.11.4+0.aarch64.apple.darwin14/share/julia/stdlib/v1.11/LinearAlgebra/src/\u001b[39m\u001b[90m\u001b[4mhessenberg.jl:561\u001b[24m\u001b[39m\n",
       " [125] +(\u001b[90mindex1\u001b[39m::\u001b[1mCartesianIndex\u001b[22m\u001b[0m{N}, \u001b[90mindex2\u001b[39m::\u001b[1mCartesianIndex\u001b[22m\u001b[0m{N}) where N\n",
       "\u001b[90m     @\u001b[39m \u001b[90mBase.IteratorsMD\u001b[39m \u001b[90m\u001b[4mmultidimensional.jl:120\u001b[24m\u001b[39m\n",
       " [126] +(\u001b[90mz\u001b[39m::\u001b[1mComplex\u001b[22m, \u001b[90mx\u001b[39m::\u001b[1mReal\u001b[22m)\n",
       "\u001b[90m     @\u001b[39m \u001b[90m\u001b[4mcomplex.jl:335\u001b[24m\u001b[39m\n",
       " [127] +(\u001b[90mz\u001b[39m::\u001b[1mComplex\u001b[22m, \u001b[90mw\u001b[39m::\u001b[1mComplex\u001b[22m)\n",
       "\u001b[90m     @\u001b[39m \u001b[90m\u001b[4mcomplex.jl:297\u001b[24m\u001b[39m\n",
       " [128] +(\u001b[90mz\u001b[39m::\u001b[1mComplex\u001b[22m)\n",
       "\u001b[90m     @\u001b[39m \u001b[90m\u001b[4mcomplex.jl:295\u001b[24m\u001b[39m\n",
       " [129] +(\u001b[90ma\u001b[39m::\u001b[1mDates.TimeType\u001b[22m, \u001b[90mb\u001b[39m::\u001b[1mDates.Period\u001b[22m, \u001b[90mc\u001b[39m::\u001b[1mDates.Period\u001b[22m)\n",
       "\u001b[90m     @\u001b[39m \u001b[36mDates\u001b[39m \u001b[90m~/.julia/juliaup/julia-1.11.4+0.aarch64.apple.darwin14/share/julia/stdlib/v1.11/Dates/src/\u001b[39m\u001b[90m\u001b[4mperiods.jl:354\u001b[24m\u001b[39m\n",
       " [130] +(\u001b[90ma\u001b[39m::\u001b[1mDates.TimeType\u001b[22m, \u001b[90mb\u001b[39m::\u001b[1mDates.Period\u001b[22m, \u001b[90mc\u001b[39m::\u001b[1mDates.Period\u001b[22m, \u001b[90md\u001b[39m::\u001b[1mDates.Period...\u001b[22m)\n",
       "\u001b[90m     @\u001b[39m \u001b[36mDates\u001b[39m \u001b[90m~/.julia/juliaup/julia-1.11.4+0.aarch64.apple.darwin14/share/julia/stdlib/v1.11/Dates/src/\u001b[39m\u001b[90m\u001b[4mperiods.jl:355\u001b[24m\u001b[39m\n",
       " [131] +(\u001b[90mx\u001b[39m::\u001b[1mDates.TimeType\u001b[22m, \u001b[90my\u001b[39m::\u001b[1mDates.CompoundPeriod\u001b[22m)\n",
       "\u001b[90m     @\u001b[39m \u001b[36mDates\u001b[39m \u001b[90m~/.julia/juliaup/julia-1.11.4+0.aarch64.apple.darwin14/share/julia/stdlib/v1.11/Dates/src/\u001b[39m\u001b[90m\u001b[4mperiods.jl:357\u001b[24m\u001b[39m\n",
       " [132] +(\u001b[90mx\u001b[39m::\u001b[1mDates.TimeType\u001b[22m)\n",
       "\u001b[90m     @\u001b[39m \u001b[36mDates\u001b[39m \u001b[90m~/.julia/juliaup/julia-1.11.4+0.aarch64.apple.darwin14/share/julia/stdlib/v1.11/Dates/src/\u001b[39m\u001b[90m\u001b[4marithmetic.jl:8\u001b[24m\u001b[39m\n",
       " [133] +(\u001b[90my\u001b[39m::\u001b[1mDates.TimeType\u001b[22m, \u001b[90mx\u001b[39m::\u001b[1mStridedArray\u001b[22m\u001b[0m{<:Union{Dates.CompoundPeriod, Dates.Period}})\n",
       "\u001b[90m     @\u001b[39m \u001b[36mDates\u001b[39m \u001b[90m~/.julia/juliaup/julia-1.11.4+0.aarch64.apple.darwin14/share/julia/stdlib/v1.11/Dates/src/\u001b[39m\u001b[90m\u001b[4mdeprecated.jl:18\u001b[24m\u001b[39m\n",
       " [134] +(\u001b[90mr\u001b[39m::\u001b[1mAbstractRange\u001b[22m\u001b[0m{<:Dates.TimeType}, \u001b[90mx\u001b[39m::\u001b[1mDates.Period\u001b[22m)\n",
       "\u001b[90m     @\u001b[39m \u001b[36mDates\u001b[39m \u001b[90m~/.julia/juliaup/julia-1.11.4+0.aarch64.apple.darwin14/share/julia/stdlib/v1.11/Dates/src/\u001b[39m\u001b[90m\u001b[4mranges.jl:65\u001b[24m\u001b[39m\n",
       " [135] +(\u001b[90mA\u001b[39m::\u001b[1mLinearAlgebra.Tridiagonal\u001b[22m, \u001b[90mB\u001b[39m::\u001b[1mLinearAlgebra.UniformScaling\u001b[22m)\n",
       "\u001b[90m     @\u001b[39m \u001b[35mLinearAlgebra\u001b[39m \u001b[90m~/.julia/juliaup/julia-1.11.4+0.aarch64.apple.darwin14/share/julia/stdlib/v1.11/LinearAlgebra/src/\u001b[39m\u001b[90m\u001b[4mspecial.jl:230\u001b[24m\u001b[39m\n",
       " [136] +(\u001b[90mB\u001b[39m::\u001b[1mLinearAlgebra.Tridiagonal\u001b[22m, \u001b[90mA\u001b[39m::\u001b[1mLinearAlgebra.Bidiagonal\u001b[22m)\n",
       "\u001b[90m     @\u001b[39m \u001b[35mLinearAlgebra\u001b[39m \u001b[90m\u001b[4mnone:0\u001b[24m\u001b[39m\n",
       " [137] +(\u001b[90mB\u001b[39m::\u001b[1mLinearAlgebra.Tridiagonal\u001b[22m, \u001b[90mA\u001b[39m::\u001b[1mLinearAlgebra.Diagonal\u001b[22m)\n",
       "\u001b[90m     @\u001b[39m \u001b[35mLinearAlgebra\u001b[39m \u001b[90m\u001b[4mnone:0\u001b[24m\u001b[39m\n",
       " [138] +(\u001b[90mA\u001b[39m::\u001b[1mLinearAlgebra.Tridiagonal\u001b[22m, \u001b[90mB\u001b[39m::\u001b[1mLinearAlgebra.SymTridiagonal\u001b[22m)\n",
       "\u001b[90m     @\u001b[39m \u001b[35mLinearAlgebra\u001b[39m \u001b[90m~/.julia/juliaup/julia-1.11.4+0.aarch64.apple.darwin14/share/julia/stdlib/v1.11/LinearAlgebra/src/\u001b[39m\u001b[90m\u001b[4mspecial.jl:181\u001b[24m\u001b[39m\n",
       " [139] +(\u001b[90mx\u001b[39m::\u001b[1mLinearAlgebra.Tridiagonal\u001b[22m, \u001b[90mH\u001b[39m::\u001b[1mLinearAlgebra.UpperHessenberg\u001b[22m)\n",
       "\u001b[90m     @\u001b[39m \u001b[35mLinearAlgebra\u001b[39m \u001b[90m~/.julia/juliaup/julia-1.11.4+0.aarch64.apple.darwin14/share/julia/stdlib/v1.11/LinearAlgebra/src/\u001b[39m\u001b[90m\u001b[4mhessenberg.jl:121\u001b[24m\u001b[39m\n",
       " [140] +(\u001b[90mA\u001b[39m::\u001b[1mLinearAlgebra.Tridiagonal\u001b[22m, \u001b[90mB\u001b[39m::\u001b[1mLinearAlgebra.Tridiagonal\u001b[22m)\n",
       "\u001b[90m     @\u001b[39m \u001b[35mLinearAlgebra\u001b[39m \u001b[90m~/.julia/juliaup/julia-1.11.4+0.aarch64.apple.darwin14/share/julia/stdlib/v1.11/LinearAlgebra/src/\u001b[39m\u001b[90m\u001b[4mtridiag.jl:784\u001b[24m\u001b[39m\n",
       " [141] +(\u001b[90mA\u001b[39m::\u001b[1mLinearAlgebra.UpperTriangular\u001b[22m\u001b[0m{<:Any, <:Union{LinearAlgebra.Adjoint{<:Any, <:StridedMatrix{T}}, LinearAlgebra.Transpose{<:Any, <:StridedMatrix{T}}, StridedArray{T, 2}} where T}, \u001b[90mB\u001b[39m::\u001b[1mLinearAlgebra.UnitUpperTriangular\u001b[22m\u001b[0m{<:Any, <:Union{LinearAlgebra.Adjoint{<:Any, <:StridedMatrix{T}}, LinearAlgebra.Transpose{<:Any, <:StridedMatrix{T}}, StridedArray{T, 2}} where T})\n",
       "\u001b[90m     @\u001b[39m \u001b[35mLinearAlgebra\u001b[39m \u001b[90m~/.julia/juliaup/julia-1.11.4+0.aarch64.apple.darwin14/share/julia/stdlib/v1.11/LinearAlgebra/src/\u001b[39m\u001b[90m\u001b[4mtriangular.jl:873\u001b[24m\u001b[39m\n",
       " [142] +(\u001b[90mA\u001b[39m::\u001b[1mLinearAlgebra.UpperTriangular\u001b[22m\u001b[0m{<:Any, <:Union{LinearAlgebra.Adjoint{<:Any, <:StridedMatrix{T}}, LinearAlgebra.Transpose{<:Any, <:StridedMatrix{T}}, StridedArray{T, 2}} where T}, \u001b[90mB\u001b[39m::\u001b[1mLinearAlgebra.UpperTriangular\u001b[22m\u001b[0m{<:Any, <:Union{LinearAlgebra.Adjoint{<:Any, <:StridedMatrix{T}}, LinearAlgebra.Transpose{<:Any, <:StridedMatrix{T}}, StridedArray{T, 2}} where T})\n",
       "\u001b[90m     @\u001b[39m \u001b[35mLinearAlgebra\u001b[39m \u001b[90m~/.julia/juliaup/julia-1.11.4+0.aarch64.apple.darwin14/share/julia/stdlib/v1.11/LinearAlgebra/src/\u001b[39m\u001b[90m\u001b[4mtriangular.jl:873\u001b[24m\u001b[39m\n",
       " [143] +(\u001b[90mA\u001b[39m::\u001b[1mLinearAlgebra.UpperTriangular\u001b[22m, \u001b[90mB\u001b[39m::\u001b[1mLinearAlgebra.UnitUpperTriangular\u001b[22m)\n",
       "\u001b[90m     @\u001b[39m \u001b[35mLinearAlgebra\u001b[39m \u001b[90m~/.julia/juliaup/julia-1.11.4+0.aarch64.apple.darwin14/share/julia/stdlib/v1.11/LinearAlgebra/src/\u001b[39m\u001b[90m\u001b[4mtriangular.jl:805\u001b[24m\u001b[39m\n",
       " [144] +(\u001b[90mA\u001b[39m::\u001b[1mLinearAlgebra.UpperTriangular\u001b[22m, \u001b[90mB\u001b[39m::\u001b[1mLinearAlgebra.UpperTriangular\u001b[22m)\n",
       "\u001b[90m     @\u001b[39m \u001b[35mLinearAlgebra\u001b[39m \u001b[90m~/.julia/juliaup/julia-1.11.4+0.aarch64.apple.darwin14/share/julia/stdlib/v1.11/LinearAlgebra/src/\u001b[39m\u001b[90m\u001b[4mtriangular.jl:797\u001b[24m\u001b[39m\n",
       " [145] +(\u001b[90mA\u001b[39m::\u001b[1mUnion\u001b[22m\u001b[0m{LinearAlgebra.LowerTriangular{T, S}, LinearAlgebra.UnitLowerTriangular{T, S}, LinearAlgebra.UnitUpperTriangular{T, S}, LinearAlgebra.UpperTriangular{T, S}} where {T, S}, \u001b[90mB\u001b[39m::\u001b[1mUnion\u001b[22m\u001b[0m{LinearAlgebra.LowerTriangular{T, S}, LinearAlgebra.UnitLowerTriangular{T, S}, LinearAlgebra.UnitUpperTriangular{T, S}, LinearAlgebra.UpperTriangular{T, S}} where {T, S})\n",
       "\u001b[90m     @\u001b[39m \u001b[35mLinearAlgebra\u001b[39m \u001b[90m~/.julia/juliaup/julia-1.11.4+0.aarch64.apple.darwin14/share/julia/stdlib/v1.11/LinearAlgebra/src/\u001b[39m\u001b[90m\u001b[4mtriangular.jl:829\u001b[24m\u001b[39m\n",
       " [146] +(\u001b[90mA\u001b[39m::\u001b[1mLinearAlgebra.AbstractTriangular\u001b[22m, \u001b[90mB\u001b[39m::\u001b[1mLinearAlgebra.AbstractTriangular\u001b[22m)\n",
       "\u001b[90m     @\u001b[39m \u001b[35mLinearAlgebra\u001b[39m \u001b[90m~/.julia/juliaup/julia-1.11.4+0.aarch64.apple.darwin14/share/julia/stdlib/v1.11/LinearAlgebra/src/\u001b[39m\u001b[90m\u001b[4mtriangular.jl:830\u001b[24m\u001b[39m\n",
       " [147] +(\u001b[90mA\u001b[39m::\u001b[1mLinearAlgebra.Bidiagonal\u001b[22m, \u001b[90mB\u001b[39m::\u001b[1mLinearAlgebra.Diagonal\u001b[22m)\n",
       "\u001b[90m     @\u001b[39m \u001b[35mLinearAlgebra\u001b[39m \u001b[90m~/.julia/juliaup/julia-1.11.4+0.aarch64.apple.darwin14/share/julia/stdlib/v1.11/LinearAlgebra/src/\u001b[39m\u001b[90m\u001b[4mspecial.jl:149\u001b[24m\u001b[39m\n",
       " [148] +(\u001b[90mA\u001b[39m::\u001b[1mLinearAlgebra.Bidiagonal\u001b[22m, \u001b[90mB\u001b[39m::\u001b[1mLinearAlgebra.UpperTriangular\u001b[22m)\n",
       "\u001b[90m     @\u001b[39m \u001b[35mLinearAlgebra\u001b[39m \u001b[90m~/.julia/juliaup/julia-1.11.4+0.aarch64.apple.darwin14/share/julia/stdlib/v1.11/LinearAlgebra/src/\u001b[39m\u001b[90m\u001b[4mspecial.jl:99\u001b[24m\u001b[39m\n",
       " [149] +(\u001b[90mA\u001b[39m::\u001b[1mLinearAlgebra.Bidiagonal\u001b[22m, \u001b[90mB\u001b[39m::\u001b[1mLinearAlgebra.Tridiagonal\u001b[22m)\n",
       "\u001b[90m     @\u001b[39m \u001b[35mLinearAlgebra\u001b[39m \u001b[90m~/.julia/juliaup/julia-1.11.4+0.aarch64.apple.darwin14/share/julia/stdlib/v1.11/LinearAlgebra/src/\u001b[39m\u001b[90m\u001b[4mspecial.jl:200\u001b[24m\u001b[39m\n",
       " [150] +(\u001b[90mx\u001b[39m::\u001b[1mLinearAlgebra.Bidiagonal\u001b[22m, \u001b[90mH\u001b[39m::\u001b[1mLinearAlgebra.UpperHessenberg\u001b[22m)\n",
       "\u001b[90m     @\u001b[39m \u001b[35mLinearAlgebra\u001b[39m \u001b[90m~/.julia/juliaup/julia-1.11.4+0.aarch64.apple.darwin14/share/julia/stdlib/v1.11/LinearAlgebra/src/\u001b[39m\u001b[90m\u001b[4mhessenberg.jl:121\u001b[24m\u001b[39m\n",
       " [151] +(\u001b[90mA\u001b[39m::\u001b[1mLinearAlgebra.Bidiagonal\u001b[22m, \u001b[90mB\u001b[39m::\u001b[1mLinearAlgebra.LowerTriangular\u001b[22m)\n",
       "\u001b[90m     @\u001b[39m \u001b[35mLinearAlgebra\u001b[39m \u001b[90m~/.julia/juliaup/julia-1.11.4+0.aarch64.apple.darwin14/share/julia/stdlib/v1.11/LinearAlgebra/src/\u001b[39m\u001b[90m\u001b[4mspecial.jl:99\u001b[24m\u001b[39m\n",
       " [152] +(\u001b[90mA\u001b[39m::\u001b[1mLinearAlgebra.Bidiagonal\u001b[22m, \u001b[90mB\u001b[39m::\u001b[1mLinearAlgebra.SymTridiagonal\u001b[22m)\n",
       "\u001b[90m     @\u001b[39m \u001b[35mLinearAlgebra\u001b[39m \u001b[90m~/.julia/juliaup/julia-1.11.4+0.aarch64.apple.darwin14/share/julia/stdlib/v1.11/LinearAlgebra/src/\u001b[39m\u001b[90m\u001b[4mspecial.jl:215\u001b[24m\u001b[39m\n",
       " [153] +(\u001b[90mA\u001b[39m::\u001b[1mLinearAlgebra.Bidiagonal\u001b[22m, \u001b[90mB\u001b[39m::\u001b[1mLinearAlgebra.Bidiagonal\u001b[22m)\n",
       "\u001b[90m     @\u001b[39m \u001b[35mLinearAlgebra\u001b[39m \u001b[90m~/.julia/juliaup/julia-1.11.4+0.aarch64.apple.darwin14/share/julia/stdlib/v1.11/LinearAlgebra/src/\u001b[39m\u001b[90m\u001b[4mbidiag.jl:396\u001b[24m\u001b[39m\n",
       " [154] +(\u001b[90mA\u001b[39m::\u001b[1mLinearAlgebra.Bidiagonal\u001b[22m, \u001b[90mB\u001b[39m::\u001b[1mLinearAlgebra.UnitUpperTriangular\u001b[22m)\n",
       "\u001b[90m     @\u001b[39m \u001b[35mLinearAlgebra\u001b[39m \u001b[90m~/.julia/juliaup/julia-1.11.4+0.aarch64.apple.darwin14/share/julia/stdlib/v1.11/LinearAlgebra/src/\u001b[39m\u001b[90m\u001b[4mspecial.jl:99\u001b[24m\u001b[39m\n",
       " [155] +(\u001b[90mA\u001b[39m::\u001b[1mLinearAlgebra.Bidiagonal\u001b[22m, \u001b[90mB\u001b[39m::\u001b[1mLinearAlgebra.UnitLowerTriangular\u001b[22m)\n",
       "\u001b[90m     @\u001b[39m \u001b[35mLinearAlgebra\u001b[39m \u001b[90m~/.julia/juliaup/julia-1.11.4+0.aarch64.apple.darwin14/share/julia/stdlib/v1.11/LinearAlgebra/src/\u001b[39m\u001b[90m\u001b[4mspecial.jl:99\u001b[24m\u001b[39m\n",
       " [156] +(\u001b[90mA\u001b[39m::\u001b[1mLinearAlgebra.Bidiagonal\u001b[22m, \u001b[90mB\u001b[39m::\u001b[1mLinearAlgebra.UniformScaling\u001b[22m)\n",
       "\u001b[90m     @\u001b[39m \u001b[35mLinearAlgebra\u001b[39m \u001b[90m~/.julia/juliaup/julia-1.11.4+0.aarch64.apple.darwin14/share/julia/stdlib/v1.11/LinearAlgebra/src/\u001b[39m\u001b[90m\u001b[4mspecial.jl:240\u001b[24m\u001b[39m\n",
       " [157] +(\u001b[90mx\u001b[39m::\u001b[1mInteger\u001b[22m, \u001b[90my\u001b[39m::\u001b[1mAbstractChar\u001b[22m)\n",
       "\u001b[90m     @\u001b[39m \u001b[90m\u001b[4mchar.jl:247\u001b[24m\u001b[39m\n",
       " [158] +(\u001b[90my\u001b[39m::\u001b[1mInteger\u001b[22m, \u001b[90mx\u001b[39m::\u001b[1mRational\u001b[22m)\n",
       "\u001b[90m     @\u001b[39m \u001b[90m\u001b[4mrational.jl:380\u001b[24m\u001b[39m\n",
       " [159] +(\u001b[90mx\u001b[39m::\u001b[1mInteger\u001b[22m, \u001b[90my\u001b[39m::\u001b[1mPtr\u001b[22m)\n",
       "\u001b[90m     @\u001b[39m \u001b[90m\u001b[4mpointer.jl:318\u001b[24m\u001b[39m\n",
       " [160] +(\u001b[90mc\u001b[39m::\u001b[1mUnion\u001b[22m\u001b[0m{Int16, Int32, Int64, Int8}, \u001b[90mx\u001b[39m::\u001b[1mBigInt\u001b[22m)\n",
       "\u001b[90m     @\u001b[39m \u001b[90mBase.GMP\u001b[39m \u001b[90m\u001b[4mgmp.jl:551\u001b[24m\u001b[39m\n",
       " [161] +(\u001b[90mc\u001b[39m::\u001b[1mUnion\u001b[22m\u001b[0m{UInt16, UInt32, UInt64, UInt8}, \u001b[90mx\u001b[39m::\u001b[1mBigInt\u001b[22m)\n",
       "\u001b[90m     @\u001b[39m \u001b[90mBase.GMP\u001b[39m \u001b[90m\u001b[4mgmp.jl:545\u001b[24m\u001b[39m\n",
       " [162] +(\u001b[90mx\u001b[39m::\u001b[1mT\u001b[22m, \u001b[90my\u001b[39m::\u001b[1mT\u001b[22m) where T<:Union{Int128, Int16, Int32, Int64, Int8, UInt128, UInt16, UInt32, UInt64, UInt8}\n",
       "\u001b[90m     @\u001b[39m \u001b[90m\u001b[4mint.jl:87\u001b[24m\u001b[39m\n",
       " [163] +(\u001b[90ma\u001b[39m::\u001b[1mInteger\u001b[22m, \u001b[90mb\u001b[39m::\u001b[1mInteger\u001b[22m)\n",
       "\u001b[90m     @\u001b[39m \u001b[90m\u001b[4mint.jl:1009\u001b[24m\u001b[39m\n",
       " [164] +(\u001b[90my\u001b[39m::\u001b[1mAbstractFloat\u001b[22m, \u001b[90mx\u001b[39m::\u001b[1mBool\u001b[22m)\n",
       "\u001b[90m     @\u001b[39m \u001b[90m\u001b[4mbool.jl:176\u001b[24m\u001b[39m\n",
       " [165] +(\u001b[90mx\u001b[39m::\u001b[1mNumber\u001b[22m, \u001b[90mJ\u001b[39m::\u001b[1mLinearAlgebra.UniformScaling\u001b[22m)\n",
       "\u001b[90m     @\u001b[39m \u001b[35mLinearAlgebra\u001b[39m \u001b[90m~/.julia/juliaup/julia-1.11.4+0.aarch64.apple.darwin14/share/julia/stdlib/v1.11/LinearAlgebra/src/\u001b[39m\u001b[90m\u001b[4muniformscaling.jl:145\u001b[24m\u001b[39m\n",
       " [166] +(::\u001b[1mNumber\u001b[22m, ::\u001b[1mMissing\u001b[22m)\n",
       "\u001b[90m     @\u001b[39m \u001b[90m\u001b[4mmissing.jl:124\u001b[24m\u001b[39m\n",
       " [167] +(\u001b[90mx\u001b[39m::\u001b[1mNumber\u001b[22m, \u001b[90my\u001b[39m::\u001b[1mBase.TwicePrecision\u001b[22m)\n",
       "\u001b[90m     @\u001b[39m \u001b[90m\u001b[4mtwiceprecision.jl:292\u001b[24m\u001b[39m\n",
       " [168] +(\u001b[90mx\u001b[39m::\u001b[1mRational\u001b[22m)\n",
       "\u001b[90m     @\u001b[39m \u001b[90m\u001b[4mrational.jl:330\u001b[24m\u001b[39m\n",
       " [169] +(\u001b[90mx\u001b[39m::\u001b[1mNumber\u001b[22m)\n",
       "\u001b[90m     @\u001b[39m \u001b[90m\u001b[4moperators.jl:533\u001b[24m\u001b[39m\n",
       " [170] +(\u001b[90mx\u001b[39m::\u001b[1mRational\u001b[22m, \u001b[90my\u001b[39m::\u001b[1mRational\u001b[22m)\n",
       "\u001b[90m     @\u001b[39m \u001b[90m\u001b[4mrational.jl:344\u001b[24m\u001b[39m\n",
       " [171] +(\u001b[90mx\u001b[39m::\u001b[1mAbstractIrrational\u001b[22m, \u001b[90my\u001b[39m::\u001b[1mAbstractIrrational\u001b[22m)\n",
       "\u001b[90m     @\u001b[39m \u001b[90m\u001b[4mirrationals.jl:179\u001b[24m\u001b[39m\n",
       " [172] +(\u001b[90mx\u001b[39m::\u001b[1mT\u001b[22m, \u001b[90my\u001b[39m::\u001b[1mT\u001b[22m) where T<:Union{Float16, Float32, Float64}\n",
       "\u001b[90m     @\u001b[39m \u001b[90m\u001b[4mfloat.jl:491\u001b[24m\u001b[39m\n",
       " [173] +(\u001b[90mx\u001b[39m::\u001b[1mT\u001b[22m, \u001b[90my\u001b[39m::\u001b[1mT\u001b[22m) where T<:Number\n",
       "\u001b[90m     @\u001b[39m \u001b[90m\u001b[4mpromotion.jl:625\u001b[24m\u001b[39m\n",
       " [174] +(\u001b[90mx\u001b[39m::\u001b[1mRational\u001b[22m, \u001b[90my\u001b[39m::\u001b[1mInteger\u001b[22m)\n",
       "\u001b[90m     @\u001b[39m \u001b[90m\u001b[4mrational.jl:373\u001b[24m\u001b[39m\n",
       " [175] +(\u001b[90mx\u001b[39m::\u001b[1mReal\u001b[22m, \u001b[90mz\u001b[39m::\u001b[1mComplex\u001b[22m)\n",
       "\u001b[90m     @\u001b[39m \u001b[90m\u001b[4mcomplex.jl:334\u001b[24m\u001b[39m\n",
       " [176] +(\u001b[90mc\u001b[39m::\u001b[1mUnion\u001b[22m\u001b[0m{Float16, Float32, Float64}, \u001b[90mx\u001b[39m::\u001b[1mBigFloat\u001b[22m)\n",
       "\u001b[90m     @\u001b[39m \u001b[90mBase.MPFR\u001b[39m \u001b[90m\u001b[4mmpfr.jl:519\u001b[24m\u001b[39m\n",
       " [177] +(\u001b[90mc\u001b[39m::\u001b[1mUnion\u001b[22m\u001b[0m{Int16, Int32, Int64, Int8}, \u001b[90mx\u001b[39m::\u001b[1mBigFloat\u001b[22m)\n",
       "\u001b[90m     @\u001b[39m \u001b[90mBase.MPFR\u001b[39m \u001b[90m\u001b[4mmpfr.jl:511\u001b[24m\u001b[39m\n",
       " [178] +(\u001b[90mc\u001b[39m::\u001b[1mUnion\u001b[22m\u001b[0m{UInt16, UInt32, UInt64, UInt8}, \u001b[90mx\u001b[39m::\u001b[1mBigFloat\u001b[22m)\n",
       "\u001b[90m     @\u001b[39m \u001b[90mBase.MPFR\u001b[39m \u001b[90m\u001b[4mmpfr.jl:503\u001b[24m\u001b[39m\n",
       " [179] +(\u001b[90mx\u001b[39m::\u001b[1mNumber\u001b[22m, \u001b[90my\u001b[39m::\u001b[1mNumber\u001b[22m)\n",
       "\u001b[90m     @\u001b[39m \u001b[90m\u001b[4mpromotion.jl:429\u001b[24m\u001b[39m\n",
       " [180] +(\u001b[90mA\u001b[39m::\u001b[1mLinearAlgebra.UpperTriangular\u001b[22m, \u001b[90mB\u001b[39m::\u001b[1mLinearAlgebra.Bidiagonal\u001b[22m)\n",
       "\u001b[90m     @\u001b[39m \u001b[35mLinearAlgebra\u001b[39m \u001b[90m~/.julia/juliaup/julia-1.11.4+0.aarch64.apple.darwin14/share/julia/stdlib/v1.11/LinearAlgebra/src/\u001b[39m\u001b[90m\u001b[4mspecial.jl:91\u001b[24m\u001b[39m\n",
       " [181] +(\u001b[90mx\u001b[39m::\u001b[1mLinearAlgebra.UpperTriangular\u001b[22m, \u001b[90mH\u001b[39m::\u001b[1mLinearAlgebra.UpperHessenberg\u001b[22m)\n",
       "\u001b[90m     @\u001b[39m \u001b[35mLinearAlgebra\u001b[39m \u001b[90m~/.julia/juliaup/julia-1.11.4+0.aarch64.apple.darwin14/share/julia/stdlib/v1.11/LinearAlgebra/src/\u001b[39m\u001b[90m\u001b[4mhessenberg.jl:121\u001b[24m\u001b[39m\n",
       " [182] +(\u001b[90mx\u001b[39m::\u001b[1mP\u001b[22m, \u001b[90my\u001b[39m::\u001b[1mP\u001b[22m) where P<:Dates.Period\n",
       "\u001b[90m     @\u001b[39m \u001b[36mDates\u001b[39m \u001b[90m~/.julia/juliaup/julia-1.11.4+0.aarch64.apple.darwin14/share/julia/stdlib/v1.11/Dates/src/\u001b[39m\u001b[90m\u001b[4mperiods.jl:75\u001b[24m\u001b[39m\n",
       " [183] +(\u001b[90mx\u001b[39m::\u001b[1mDates.Period\u001b[22m, \u001b[90my\u001b[39m::\u001b[1mDates.Period\u001b[22m)\n",
       "\u001b[90m     @\u001b[39m \u001b[36mDates\u001b[39m \u001b[90m~/.julia/juliaup/julia-1.11.4+0.aarch64.apple.darwin14/share/julia/stdlib/v1.11/Dates/src/\u001b[39m\u001b[90m\u001b[4mperiods.jl:332\u001b[24m\u001b[39m\n",
       " [184] +(\u001b[90my\u001b[39m::\u001b[1mDates.Period\u001b[22m, \u001b[90mx\u001b[39m::\u001b[1mDates.CompoundPeriod\u001b[22m)\n",
       "\u001b[90m     @\u001b[39m \u001b[36mDates\u001b[39m \u001b[90m~/.julia/juliaup/julia-1.11.4+0.aarch64.apple.darwin14/share/julia/stdlib/v1.11/Dates/src/\u001b[39m\u001b[90m\u001b[4mperiods.jl:334\u001b[24m\u001b[39m\n",
       " [185] +(\u001b[90my\u001b[39m::\u001b[1mDates.Period\u001b[22m, \u001b[90mx\u001b[39m::\u001b[1mDates.TimeType\u001b[22m)\n",
       "\u001b[90m     @\u001b[39m \u001b[36mDates\u001b[39m \u001b[90m~/.julia/juliaup/julia-1.11.4+0.aarch64.apple.darwin14/share/julia/stdlib/v1.11/Dates/src/\u001b[39m\u001b[90m\u001b[4marithmetic.jl:87\u001b[24m\u001b[39m\n",
       " [186] +(\u001b[90mx\u001b[39m::\u001b[1mDates.Period\u001b[22m, \u001b[90mr\u001b[39m::\u001b[1mAbstractRange\u001b[22m\u001b[0m{<:Dates.TimeType})\n",
       "\u001b[90m     @\u001b[39m \u001b[36mDates\u001b[39m \u001b[90m~/.julia/juliaup/julia-1.11.4+0.aarch64.apple.darwin14/share/julia/stdlib/v1.11/Dates/src/\u001b[39m\u001b[90m\u001b[4mranges.jl:64\u001b[24m\u001b[39m\n",
       " [187] +(\u001b[90mx\u001b[39m::\u001b[1mDates.Instant\u001b[22m)\n",
       "\u001b[90m     @\u001b[39m \u001b[36mDates\u001b[39m \u001b[90m~/.julia/juliaup/julia-1.11.4+0.aarch64.apple.darwin14/share/julia/stdlib/v1.11/Dates/src/\u001b[39m\u001b[90m\u001b[4marithmetic.jl:4\u001b[24m\u001b[39m\n",
       " [188] +(\u001b[90mx\u001b[39m::\u001b[1mAbstractArray\u001b[22m\u001b[0m{<:Dates.TimeType}, \u001b[90my\u001b[39m::\u001b[1mUnion\u001b[22m\u001b[0m{Dates.CompoundPeriod, Dates.Period})\n",
       "\u001b[90m     @\u001b[39m \u001b[36mDates\u001b[39m \u001b[90m~/.julia/juliaup/julia-1.11.4+0.aarch64.apple.darwin14/share/julia/stdlib/v1.11/Dates/src/\u001b[39m\u001b[90m\u001b[4mdeprecated.jl:6\u001b[24m\u001b[39m\n",
       " [189] +(\u001b[90mA\u001b[39m::\u001b[1mAbstractMatrix\u001b[22m, \u001b[90mJ\u001b[39m::\u001b[1mLinearAlgebra.UniformScaling\u001b[22m)\n",
       "\u001b[90m     @\u001b[39m \u001b[35mLinearAlgebra\u001b[39m \u001b[90m~/.julia/juliaup/julia-1.11.4+0.aarch64.apple.darwin14/share/julia/stdlib/v1.11/LinearAlgebra/src/\u001b[39m\u001b[90m\u001b[4muniformscaling.jl:214\u001b[24m\u001b[39m\n",
       " [190] +(\u001b[90mX\u001b[39m::\u001b[1mStridedArray\u001b[22m\u001b[0m{<:Union{Dates.CompoundPeriod, Dates.Period}}, \u001b[90mY\u001b[39m::\u001b[1mStridedArray\u001b[22m\u001b[0m{<:Union{Dates.CompoundPeriod, Dates.Period}})\n",
       "\u001b[90m     @\u001b[39m \u001b[36mDates\u001b[39m \u001b[90m~/.julia/juliaup/julia-1.11.4+0.aarch64.apple.darwin14/share/julia/stdlib/v1.11/Dates/src/\u001b[39m\u001b[90m\u001b[4mdeprecated.jl:62\u001b[24m\u001b[39m\n",
       " [191] +(\u001b[90mr1\u001b[39m::\u001b[1mUnion\u001b[22m\u001b[0m{LinRange, OrdinalRange, StepRangeLen}, \u001b[90mr2\u001b[39m::\u001b[1mUnion\u001b[22m\u001b[0m{LinRange, OrdinalRange, StepRangeLen})\n",
       "\u001b[90m     @\u001b[39m \u001b[90m\u001b[4mrange.jl:1457\u001b[24m\u001b[39m\n",
       " [192] +(\u001b[90mA\u001b[39m::\u001b[1mAbstractArray\u001b[22m, \u001b[90mB\u001b[39m::\u001b[1mAbstractArray\u001b[22m)\n",
       "\u001b[90m     @\u001b[39m \u001b[90m\u001b[4marraymath.jl:6\u001b[24m\u001b[39m\n",
       " [193] +(\u001b[90mx\u001b[39m::\u001b[1mStridedArray\u001b[22m\u001b[0m{<:Union{Dates.CompoundPeriod, Dates.Period}})\n",
       "\u001b[90m     @\u001b[39m \u001b[36mDates\u001b[39m \u001b[90m~/.julia/juliaup/julia-1.11.4+0.aarch64.apple.darwin14/share/julia/stdlib/v1.11/Dates/src/\u001b[39m\u001b[90m\u001b[4mdeprecated.jl:55\u001b[24m\u001b[39m\n",
       " [194] +(\u001b[90mx\u001b[39m::\u001b[1mAbstractArray\u001b[22m\u001b[0m{<:Number})\n",
       "\u001b[90m     @\u001b[39m \u001b[90m\u001b[4mabstractarraymath.jl:221\u001b[24m\u001b[39m\n",
       " [195] +(\u001b[90mx\u001b[39m::\u001b[1mUnion\u001b[22m\u001b[0m{Dates.CompoundPeriod, Dates.Period})\n",
       "\u001b[90m     @\u001b[39m \u001b[36mDates\u001b[39m \u001b[90m~/.julia/juliaup/julia-1.11.4+0.aarch64.apple.darwin14/share/julia/stdlib/v1.11/Dates/src/\u001b[39m\u001b[90m\u001b[4mperiods.jl:343\u001b[24m\u001b[39m\n",
       " [196] +(\u001b[90mx\u001b[39m::\u001b[1mStridedArray\u001b[22m\u001b[0m{<:Union{Dates.CompoundPeriod, Dates.Period}}, \u001b[90my\u001b[39m::\u001b[1mDates.TimeType\u001b[22m)\n",
       "\u001b[90m     @\u001b[39m \u001b[36mDates\u001b[39m \u001b[90m~/.julia/juliaup/julia-1.11.4+0.aarch64.apple.darwin14/share/julia/stdlib/v1.11/Dates/src/\u001b[39m\u001b[90m\u001b[4mdeprecated.jl:10\u001b[24m\u001b[39m\n",
       " [197] +(\u001b[90my\u001b[39m::\u001b[1mUnion\u001b[22m\u001b[0m{Dates.CompoundPeriod, Dates.Period}, \u001b[90mx\u001b[39m::\u001b[1mAbstractArray\u001b[22m\u001b[0m{<:Dates.TimeType})\n",
       "\u001b[90m     @\u001b[39m \u001b[36mDates\u001b[39m \u001b[90m~/.julia/juliaup/julia-1.11.4+0.aarch64.apple.darwin14/share/julia/stdlib/v1.11/Dates/src/\u001b[39m\u001b[90m\u001b[4mdeprecated.jl:14\u001b[24m\u001b[39m\n",
       " [198] +(\u001b[90ma\u001b[39m, \u001b[90mb\u001b[39m, \u001b[90mc\u001b[39m, \u001b[90mxs...\u001b[39m)\n",
       "\u001b[90m     @\u001b[39m \u001b[90m\u001b[4moperators.jl:596\u001b[24m\u001b[39m"
      ]
     },
     "execution_count": 13,
     "metadata": {},
     "output_type": "execute_result"
    }
   ],
   "source": [
    "methods(+)"
   ]
  },
  {
   "cell_type": "code",
   "execution_count": 16,
   "id": "b9609847-ada4-488f-9ecb-25e61f07abf9",
   "metadata": {},
   "outputs": [
    {
     "data": {
      "text/plain": [
       "101-element Vector{Float64}:\n",
       "     0.1\n",
       "     0.11220184543019636\n",
       "     0.12589254117941673\n",
       "     0.14125375446227545\n",
       "     0.15848931924611137\n",
       "     0.1778279410038923\n",
       "     0.19952623149688797\n",
       "     0.223872113856834\n",
       "     0.25118864315095796\n",
       "     0.28183829312644537\n",
       "     0.31622776601683794\n",
       "     0.35481338923357547\n",
       "     0.39810717055349726\n",
       "     ⋮\n",
       "  2818.382931264455\n",
       "  3162.2776601683795\n",
       "  3548.1338923357566\n",
       "  3981.0717055349733\n",
       "  4466.835921509635\n",
       "  5011.87233627272\n",
       "  5623.413251903491\n",
       "  6309.57344480193\n",
       "  7079.457843841374\n",
       "  7943.282347242814\n",
       "  8912.509381337459\n",
       " 10000.0"
      ]
     },
     "execution_count": 16,
     "metadata": {},
     "output_type": "execute_result"
    }
   ],
   "source": [
    "log10_energy_flux_values = LinRange(-1, 4, 101)\n",
    "    \n",
    "energy_flux_values = 10 .^ log10_energy_flux_values"
   ]
  },
  {
   "cell_type": "code",
   "execution_count": 56,
   "id": "0e8fc28c-86f1-4baa-8a97-2e34288319b5",
   "metadata": {},
   "outputs": [
    {
     "data": {
      "text/plain": [
       "f (generic function with 2 methods)"
      ]
     },
     "execution_count": 56,
     "metadata": {},
     "output_type": "execute_result"
    }
   ],
   "source": [
    "a = f(x=rand()) = x"
   ]
  },
  {
   "cell_type": "code",
   "execution_count": 58,
   "id": "a7b36b25-2f81-405f-b4a7-4ba14fe6df59",
   "metadata": {},
   "outputs": [
    {
     "name": "stdout",
     "output_type": "stream",
     "text": [
      "0.16103285300756454"
     ]
    }
   ],
   "source": [
    "print(x)"
   ]
  },
  {
   "cell_type": "code",
   "execution_count": 34,
   "id": "32fe1592-ca6c-4b6f-9d30-5b2c0bc97e4c",
   "metadata": {},
   "outputs": [
    {
     "data": {
      "text/plain": [
       "g (generic function with 2 methods)"
      ]
     },
     "execution_count": 34,
     "metadata": {},
     "output_type": "execute_result"
    }
   ],
   "source": [
    "g(x=[1,2]) = push!(x,3) "
   ]
  },
  {
   "cell_type": "code",
   "execution_count": 39,
   "id": "ab17d7b9-f849-4c4e-a322-828a15f1e068",
   "metadata": {},
   "outputs": [
    {
     "data": {
      "text/plain": [
       "0.16103285300756454"
      ]
     },
     "execution_count": 39,
     "metadata": {},
     "output_type": "execute_result"
    }
   ],
   "source": [
    "x=rand()"
   ]
  },
  {
   "cell_type": "code",
   "execution_count": 42,
   "id": "7057cb53-d834-45e2-9a90-5611e8f6c7ae",
   "metadata": {},
   "outputs": [
    {
     "data": {
      "text/plain": [
       "0.16103285300756454"
      ]
     },
     "execution_count": 42,
     "metadata": {},
     "output_type": "execute_result"
    }
   ],
   "source": [
    "f(x)"
   ]
  },
  {
   "cell_type": "code",
   "execution_count": 43,
   "id": "aa3db2d8-7aa2-4142-9aa7-f77bff5e4e1e",
   "metadata": {},
   "outputs": [
    {
     "ename": "LoadError",
     "evalue": "MethodError: no method matching push!(::Float64, ::Int64)\nThe function `push!` exists, but no method is defined for this combination of argument types.\n\n\u001b[0mClosest candidates are:\n\u001b[0m  push!(::Any, ::Any, \u001b[91m::Any\u001b[39m)\n\u001b[0m\u001b[90m   @\u001b[39m \u001b[90mBase\u001b[39m \u001b[90m\u001b[4mabstractarray.jl:3529\u001b[24m\u001b[39m\n\u001b[0m  push!(::Any, ::Any, \u001b[91m::Any\u001b[39m, \u001b[91m::Any...\u001b[39m)\n\u001b[0m\u001b[90m   @\u001b[39m \u001b[90mBase\u001b[39m \u001b[90m\u001b[4mabstractarray.jl:3530\u001b[24m\u001b[39m\n\u001b[0m  push!(\u001b[91m::Base.Nowhere\u001b[39m, ::Any)\n\u001b[0m\u001b[90m   @\u001b[39m \u001b[90mBase\u001b[39m \u001b[90m\u001b[4marray.jl:1821\u001b[24m\u001b[39m\n\u001b[0m  ...\n",
     "output_type": "error",
     "traceback": [
      "MethodError: no method matching push!(::Float64, ::Int64)\nThe function `push!` exists, but no method is defined for this combination of argument types.\n\n\u001b[0mClosest candidates are:\n\u001b[0m  push!(::Any, ::Any, \u001b[91m::Any\u001b[39m)\n\u001b[0m\u001b[90m   @\u001b[39m \u001b[90mBase\u001b[39m \u001b[90m\u001b[4mabstractarray.jl:3529\u001b[24m\u001b[39m\n\u001b[0m  push!(::Any, ::Any, \u001b[91m::Any\u001b[39m, \u001b[91m::Any...\u001b[39m)\n\u001b[0m\u001b[90m   @\u001b[39m \u001b[90mBase\u001b[39m \u001b[90m\u001b[4mabstractarray.jl:3530\u001b[24m\u001b[39m\n\u001b[0m  push!(\u001b[91m::Base.Nowhere\u001b[39m, ::Any)\n\u001b[0m\u001b[90m   @\u001b[39m \u001b[90mBase\u001b[39m \u001b[90m\u001b[4marray.jl:1821\u001b[24m\u001b[39m\n\u001b[0m  ...\n",
      "",
      "Stacktrace:",
      " [1] g(x::Float64)",
      "   @ Main ./In[34]:1",
      " [2] top-level scope",
      "   @ In[43]:1"
     ]
    }
   ],
   "source": [
    "g(x)"
   ]
  },
  {
   "cell_type": "code",
   "execution_count": 69,
   "id": "9366bc45-69ca-4098-a8d6-c7e3d11f2e7c",
   "metadata": {},
   "outputs": [
    {
     "data": {
      "text/plain": [
       "8589934592"
      ]
     },
     "execution_count": 69,
     "metadata": {},
     "output_type": "execute_result"
    }
   ],
   "source": [
    "2^33"
   ]
  },
  {
   "cell_type": "code",
   "execution_count": 71,
   "id": "aa3da945-e302-42ec-b8ca-c87546f7ff4a",
   "metadata": {},
   "outputs": [
    {
     "data": {
      "text/plain": [
       "2-element Vector{Vector{Int64}}:\n",
       " [1, 2]\n",
       " [1, 3]"
      ]
     },
     "execution_count": 71,
     "metadata": {},
     "output_type": "execute_result"
    }
   ],
   "source": [
    " X=[[1,2], [1,3]]"
   ]
  },
  {
   "cell_type": "code",
   "execution_count": null,
   "id": "4cc78f55-0410-45ba-bd79-94b050b1287b",
   "metadata": {},
   "outputs": [],
   "source": []
  }
 ],
 "metadata": {
  "kernelspec": {
   "display_name": "Julia 1.11.4",
   "language": "julia",
   "name": "julia-1.11"
  },
  "language_info": {
   "file_extension": ".jl",
   "mimetype": "application/julia",
   "name": "julia",
   "version": "1.11.4"
  }
 },
 "nbformat": 4,
 "nbformat_minor": 5
}
